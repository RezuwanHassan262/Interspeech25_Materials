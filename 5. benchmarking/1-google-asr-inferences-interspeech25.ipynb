{
 "cells": [
  {
   "cell_type": "code",
   "execution_count": null,
   "id": "3dc56ce1",
   "metadata": {},
   "outputs": [],
   "source": [
    "!pip install SpeechRecognition -q\n",
    "!pip install jiwer -q"
   ]
  },
  {
   "cell_type": "code",
   "execution_count": 2,
   "id": "817a2112",
   "metadata": {
    "execution": {
     "iopub.execute_input": "2025-01-30T12:37:41.261094Z",
     "iopub.status.busy": "2025-01-30T12:37:41.260719Z",
     "iopub.status.idle": "2025-01-30T12:37:42.353202Z",
     "shell.execute_reply": "2025-01-30T12:37:42.352061Z"
    },
    "id": "iWguwpdDj-Tv",
    "papermill": {
     "duration": 1.100339,
     "end_time": "2025-01-30T12:37:42.355155",
     "exception": false,
     "start_time": "2025-01-30T12:37:41.254816",
     "status": "completed"
    },
    "tags": []
   },
   "outputs": [],
   "source": [
    "import speech_recognition as sr\n",
    "import numpy as np\n",
    "import pandas as pd\n",
    "from tqdm import tqdm\n",
    "from glob import glob\n",
    "import os\n",
    "import librosa\n",
    "tqdm.pandas()\n",
    "from pathlib import Path\n",
    "from jiwer import wer, cer"
   ]
  },
  {
   "cell_type": "code",
   "execution_count": 3,
   "id": "e1ca5b54",
   "metadata": {
    "execution": {
     "iopub.execute_input": "2025-01-30T12:37:42.367056Z",
     "iopub.status.busy": "2025-01-30T12:37:42.366478Z",
     "iopub.status.idle": "2025-01-30T12:37:42.371691Z",
     "shell.execute_reply": "2025-01-30T12:37:42.370609Z"
    },
    "id": "fjzpO3rwj-Tv",
    "papermill": {
     "duration": 0.012917,
     "end_time": "2025-01-30T12:37:42.373409",
     "exception": false,
     "start_time": "2025-01-30T12:37:42.360492",
     "status": "completed"
    },
    "tags": []
   },
   "outputs": [],
   "source": [
    "def g_asr_infer(AUDIO_FILE):\n",
    "    # use the audio file as the audio source\n",
    "    r = sr.Recognizer()\n",
    "    with sr.AudioFile(AUDIO_FILE) as source:\n",
    "        audio = r.record(source)  # read the entire audio file\n",
    "    text = r.recognize_google(audio, language ='bn-BD')\n",
    "    text = str(text)\n",
    "    return text"
   ]
  },
  {
   "cell_type": "code",
   "execution_count": null,
   "id": "26cbc8ca",
   "metadata": {
    "execution": {
     "iopub.execute_input": "2025-01-30T12:37:42.384955Z",
     "iopub.status.busy": "2025-01-30T12:37:42.384626Z",
     "iopub.status.idle": "2025-01-30T12:37:42.392294Z",
     "shell.execute_reply": "2025-01-30T12:37:42.391404Z"
    },
    "papermill": {
     "duration": 0.0151,
     "end_time": "2025-01-30T12:37:42.393840",
     "exception": false,
     "start_time": "2025-01-30T12:37:42.378740",
     "status": "completed"
    },
    "tags": []
   },
   "outputs": [],
   "source": [
    "def infer_dis(dis):\n",
    "    dis_serial_dict = {'Rangpur':1,\n",
    "                       'Kishoreganj':2,\n",
    "                       'Narail':3,\n",
    "                       'Chittagong':4,\n",
    "                       'Narsingdi':5,\n",
    "                       'Tangail':6,\n",
    "                       'Habiganj':7,\n",
    "                       'Barishal':8,\n",
    "                       'Sylhet':9,\n",
    "                       'Sandwip':10,\n",
    "                       'Comilla':11,\n",
    "                       'Noakhali':12\n",
    "                       }\n",
    "\n",
    "    \n",
    "    data_dir = f'/kaggle/input/district_wise/{dis}/test/'\n",
    "\n",
    "\n",
    "    files = os.listdir(data_dir)\n",
    "    #files = files[:10]\n",
    "    #print(files)\n",
    "\n",
    "    preds = []\n",
    "    auds = []\n",
    "\n",
    "    for i in tqdm(files):\n",
    "    \n",
    "        auds.append(i)\n",
    "        aud_path =  f\"{data_dir}{i}\"\n",
    "        #print(aud)\n",
    "        try:\n",
    "            pred=g_asr_infer(aud_path)\n",
    "            preds.append(pred)\n",
    "        except Exception as e:\n",
    "            preds.append(\"<>\")\n",
    "\n",
    "    df = pd.DataFrame(columns = [\"file_name\", \"predictions\"])\n",
    "    df[\"file_name\"] = auds\n",
    "    df[\"predictions\"] = preds\n",
    "\n",
    "    for k,v in dis_serial_dict.items():\n",
    "        if k == dis:\n",
    "            serial = v\n",
    "\n",
    "    print()\n",
    "    print(\"============================================================================\")\n",
    "    print(f\"Dataset length of {dis}: {len(df)}\")\n",
    "    print(\"============================================================================\")\n",
    "    print()\n",
    "    df.to_excel(f\"/kaggle/working/predictions/1.{serial}: {dis}_google_asr_inferences.xlsx\",index = False)\n",
    "    print()\n",
    "    print(\"=============================== Dataframe Exported ======================================\")\n",
    "    print()"
   ]
  },
  {
   "cell_type": "code",
   "execution_count": null,
   "id": "7dd9e298",
   "metadata": {},
   "outputs": [],
   "source": [
    "dists = ['Rangpur', 'Kishoreganj', 'Narail', 'Chittagong', 'Narsingdi', 'Tangail','Habiganj','Barishal','Sylhet','Sandwip','Comilla','Noakhali']\n",
    "\n",
    "Path('/kaggle/working/predictions/').mkdir(parents=True, exist_ok=True)\n",
    "                                                         \n",
    "for dis in dists:\n",
    "    infer_dis(dis)"
   ]
  },
  {
   "cell_type": "code",
   "execution_count": 7,
   "id": "f0cb9b2b",
   "metadata": {
    "execution": {
     "iopub.execute_input": "2025-01-30T14:55:54.072868Z",
     "iopub.status.busy": "2025-01-30T14:55:54.072312Z",
     "iopub.status.idle": "2025-01-30T14:55:54.079575Z",
     "shell.execute_reply": "2025-01-30T14:55:54.078197Z"
    },
    "papermill": {
     "duration": 0.258658,
     "end_time": "2025-01-30T14:55:54.081451",
     "exception": false,
     "start_time": "2025-01-30T14:55:53.822793",
     "status": "completed"
    },
    "tags": []
   },
   "outputs": [],
   "source": [
    "def calc_wer_cer(ground_truth,prediction):\n",
    "\n",
    "    ground_truth = str(ground_truth)\n",
    "    prediction = str(prediction)\n",
    "\n",
    "    WER = round(wer(ground_truth, prediction),3)\n",
    "    CER = round(cer(ground_truth, prediction),3)\n",
    "\n",
    "    return WER, CER\n",
    "\n"
   ]
  },
  {
   "cell_type": "code",
   "execution_count": null,
   "id": "403e5813",
   "metadata": {
    "execution": {
     "iopub.execute_input": "2025-01-30T14:55:54.573535Z",
     "iopub.status.busy": "2025-01-30T14:55:54.573130Z",
     "iopub.status.idle": "2025-01-30T14:55:57.182199Z",
     "shell.execute_reply": "2025-01-30T14:55:57.181021Z"
    },
    "id": "M7JqDFXMj-Tw",
    "outputId": "98ca2850-70e2-40ba-c184-28df988f9b78",
    "papermill": {
     "duration": 2.855129,
     "end_time": "2025-01-30T14:55:57.184160",
     "exception": false,
     "start_time": "2025-01-30T14:55:54.329031",
     "status": "completed"
    },
    "tags": []
   },
   "outputs": [],
   "source": [
    "pred_excel_data_dir = \"/kaggle/working/predictions/\"\n",
    "pred_excel_sheets = os.listdir(pred_excel_data_dir)\n",
    "#pred_excel_sheets\n",
    "\n",
    "dists = ['Rangpur', 'Kishoreganj', 'Narail', 'Chittagong', 'Narsingdi', 'Tangail','Habiganj','Barishal','Sylhet','Sandwip','Comilla','Noakhali','Lakshmipur','Nilphamari','Jhenaidah']\n",
    "\n",
    "\n",
    "Path('/kaggle/working/predictions_with_wer_cer/').mkdir(parents=True, exist_ok=True)\n",
    "pred_excel_data_dir = \"/kaggle/working/predictions/\"\n",
    "pred_excel_sheets = os.listdir(pred_excel_data_dir)\n",
    "\n",
    "for sheet in pred_excel_sheets:\n",
    "\n",
    "    if sheet[-4:] == \"xlsx\":\n",
    "        i = sheet.split(\" \")\n",
    "        i = i[1].split(\"_\")\n",
    "        i = i[0]\n",
    "        #print(i)\n",
    "\n",
    "        pred_data_path = f\"{pred_excel_data_dir}{sheet}\"\n",
    "        pred_df = pd.read_excel(pred_data_path)\n",
    "        \n",
    "        gd_df = pd.read_excel(f'/kaggle/input/district_wise/{i}/{i}_test.xlsx')\n",
    "        gd_df = gd_df[[\"file_name\",\"transcripts\",\"district\"]]            \n",
    "        merged_df = pd.merge(pred_df, gd_df, on='file_name', how='inner')  \n",
    "        merged_df['model'] = 'Google_ASR'\n",
    "\n",
    "        WERS = []\n",
    "        CERS = []\n",
    "    \n",
    "        for gd, pr in zip(merged_df['transcripts'], merged_df['predictions']):\n",
    "            WER, CER  = calc_wer_cer(gd,pr)\n",
    "            WERS.append(WER)\n",
    "            CERS.append(CER)\n",
    "        \n",
    "        merged_df['wer'] = WERS\n",
    "        merged_df['cer'] = CERS\n",
    "        merged_df = merged_df[[\"model\",\"district\",\"file_name\",\"predictions\",\"transcripts\",\"wer\",\"cer\"]]\n",
    "        merged_df.to_excel(f\"/kaggle/working/predictions_with_wer_cer/gasr_{sheet}\", index = False)\n",
    "\n",
    "\n",
    "\n",
    "merged_df"
   ]
  },
  {
   "cell_type": "code",
   "execution_count": null,
   "id": "1ab01936",
   "metadata": {},
   "outputs": [],
   "source": [
    "wer_cer_pred_excel_data_dir = \"/kaggle/working/predictions_with_wer_cer\"\n",
    "wer_cer_pred_excel_sheets = os.listdir(wer_cer_pred_excel_data_dir)\n",
    "wer_cer_pred_excel_sheets"
   ]
  },
  {
   "cell_type": "code",
   "execution_count": null,
   "id": "8ccdef17",
   "metadata": {
    "papermill": {
     "duration": 0.254104,
     "end_time": "2025-01-30T14:55:58.930131",
     "exception": false,
     "start_time": "2025-01-30T14:55:58.676027",
     "status": "completed"
    },
    "tags": []
   },
   "outputs": [],
   "source": []
  },
  {
   "cell_type": "markdown",
   "id": "c20b2ba6",
   "metadata": {
    "papermill": {
     "duration": 0.251584,
     "end_time": "2025-01-30T14:55:59.434039",
     "exception": false,
     "start_time": "2025-01-30T14:55:59.182455",
     "status": "completed"
    },
    "tags": []
   },
   "source": [
    "# District wise WER, CER"
   ]
  },
  {
   "cell_type": "code",
   "execution_count": null,
   "id": "8655ed06",
   "metadata": {},
   "outputs": [],
   "source": [
    "dists = ['Rangpur', 'Kishoreganj', 'Narail', 'Chittagong', 'Narsingdi', 'Tangail','Habiganj','Barishal','Sylhet','Sandwip','Comilla','Noakhali']\n",
    "\n",
    "avg_wer = []\n",
    "avg_cer = []\n",
    "\n",
    "\n",
    "for i in wer_cer_pred_excel_sheets:\n",
    "    df = pd.read_excel(f\"{wer_cer_pred_excel_data_dir}/{i}\")\n",
    "    avg_w = np.average(df['wer'])\n",
    "    avg_wer.append(round(avg_w,3))\n",
    "    avg_c = np.average(df['cer'])\n",
    "    avg_cer.append(round(avg_c,3))\n",
    "\n",
    "\n",
    "for i,j,k in zip(dists,avg_wer,avg_cer ):\n",
    "    print(i)\n",
    "    print(f'Avg. WER: {j} | Avg. CER: {k}')\n",
    "    print()"
   ]
  },
  {
   "cell_type": "markdown",
   "id": "2f84c927",
   "metadata": {
    "papermill": {
     "duration": 0.24952,
     "end_time": "2025-01-30T14:56:01.029868",
     "exception": false,
     "start_time": "2025-01-30T14:56:00.780348",
     "status": "completed"
    },
    "tags": []
   },
   "source": [
    "# Model WER, CER"
   ]
  },
  {
   "cell_type": "code",
   "execution_count": null,
   "id": "6297925e",
   "metadata": {},
   "outputs": [],
   "source": [
    "model = \"google_asr\"\n",
    "\n",
    "model_avg_wer = np.average(avg_wer)\n",
    "model_avg_cer = np.average(avg_cer)\n",
    "\n",
    "print(f\"{model}\")\n",
    "print()\n",
    "print(f\"Average WER: {model_avg_wer} | Average CER: {model_avg_cer}\")\n",
    "print()\n",
    "print(\"==========================================================================================================\")\n",
    "\n",
    "concat_df = pd.DataFrame(columns=['model', 'district', 'file_name', 'predictions', 'transcripts', 'wer','cer'])\n",
    "\n",
    "for i in wer_cer_pred_excel_sheets:\n",
    "    df = pd.read_excel(f\"{wer_cer_pred_excel_data_dir}/{i}\")\n",
    "    concat_df = pd.concat([concat_df, df], ignore_index=True, axis=0)\n",
    "\n",
    "\n",
    "concat_df.to_excel(f\"{model}_inferences.xlsx\",index =False)\n",
    "model_avg_wer_concat = np.average(concat_df['wer'])\n",
    "model_avg_cer_concat = np.average(concat_df['cer'])\n",
    "print()\n",
    "print(f\"All Together\")\n",
    "print()\n",
    "print(f\"Average WER: {round(model_avg_wer_concat,3)} | Average CER: {round(model_avg_cer_concat,3)}\")"
   ]
  }
 ],
 "metadata": {
  "accelerator": "GPU",
  "colab": {
   "gpuType": "T4",
   "machine_shape": "hm",
   "provenance": []
  },
  "kaggle": {
   "accelerator": "none",
   "dataSources": [
    {
     "datasetId": 6544256,
     "sourceId": 10612098,
     "sourceType": "datasetVersion"
    }
   ],
   "dockerImageVersionId": 30840,
   "isGpuEnabled": false,
   "isInternetEnabled": true,
   "language": "python",
   "sourceType": "notebook"
  },
  "kernelspec": {
   "display_name": "Python 3",
   "language": "python",
   "name": "python3"
  },
  "language_info": {
   "codemirror_mode": {
    "name": "ipython",
    "version": 3
   },
   "file_extension": ".py",
   "mimetype": "text/x-python",
   "name": "python",
   "nbconvert_exporter": "python",
   "pygments_lexer": "ipython3",
   "version": "3.10.12"
  },
  "papermill": {
   "default_parameters": {},
   "duration": 8320.139428,
   "end_time": "2025-01-30T14:56:05.447429",
   "environment_variables": {},
   "exception": null,
   "input_path": "__notebook__.ipynb",
   "output_path": "__notebook__.ipynb",
   "parameters": {},
   "start_time": "2025-01-30T12:37:25.308001",
   "version": "2.6.0"
  }
 },
 "nbformat": 4,
 "nbformat_minor": 5
}
