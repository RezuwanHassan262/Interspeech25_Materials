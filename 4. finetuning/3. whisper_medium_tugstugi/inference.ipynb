{
 "cells": [
  {
   "cell_type": "markdown",
   "id": "abb4a328",
   "metadata": {
    "papermill": {
     "duration": 0.007968,
     "end_time": "2024-07-08T14:11:28.801544",
     "exception": false,
     "start_time": "2024-07-08T14:11:28.793576",
     "status": "completed"
    },
    "tags": []
   },
   "source": [
    "# Import necessary modules"
   ]
  },
  {
   "cell_type": "code",
   "execution_count": null,
   "id": "1546f0d8",
   "metadata": {},
   "outputs": [],
   "source": [
    "!pip install jiwer"
   ]
  },
  {
   "cell_type": "code",
   "execution_count": null,
   "id": "f85d2ccb",
   "metadata": {},
   "outputs": [],
   "source": [
    "import numpy as np\n",
    "import pandas as pd\n",
    "import matplotlib.pyplot as plt\n",
    "import random\n",
    "import os\n",
    "\n",
    "import librosa\n",
    "import librosa.display\n",
    "from pydub import AudioSegment\n",
    "import IPython.display as ipd\n",
    "from collections import Counter\n",
    "from tqdm import tqdm\n",
    "\n",
    "from sklearn.model_selection import train_test_split\n",
    "\n",
    "import torch\n",
    "import torchaudio\n",
    "\n",
    "from dataclasses import dataclass\n",
    "from typing import Any, Dict, List, Union\n",
    "from datasets import DatasetDict\n",
    "from datasets import Dataset as DS\n",
    "\n",
    "from transformers import (\n",
    "    WhisperFeatureExtractor,\n",
    "    WhisperTokenizer,\n",
    "    WhisperProcessor,\n",
    "    WhisperForConditionalGeneration,\n",
    "    Seq2SeqTrainingArguments,\n",
    "    Seq2SeqTrainer,\n",
    "    TrainerCallback,\n",
    "    TrainingArguments,\n",
    "    TrainerState,\n",
    "    TrainerControl,\n",
    "    EarlyStoppingCallback,\n",
    "    pipeline\n",
    ")\n",
    "\n",
    "from jiwer import wer, cer"
   ]
  },
  {
   "cell_type": "code",
   "execution_count": 3,
   "id": "04f0da7d",
   "metadata": {
    "execution": {
     "iopub.execute_input": "2024-07-08T14:12:03.206118Z",
     "iopub.status.busy": "2024-07-08T14:12:03.205569Z",
     "iopub.status.idle": "2024-07-08T14:12:03.210458Z",
     "shell.execute_reply": "2024-07-08T14:12:03.209626Z"
    },
    "papermill": {
     "duration": 0.015654,
     "end_time": "2024-07-08T14:12:03.212329",
     "exception": false,
     "start_time": "2024-07-08T14:12:03.196675",
     "status": "completed"
    },
    "tags": []
   },
   "outputs": [],
   "source": [
    "def pretty_sort(filename):\n",
    "    name, number_str = filename.split(\" (\") # split the filename into two parts (name, number)\n",
    "    number = int(number_str.split(\")\")[0]) # extract the number from within parentheses and convert it to an integer\n",
    "    return name, number"
   ]
  },
  {
   "cell_type": "code",
   "execution_count": null,
   "id": "9b1b53fc",
   "metadata": {
    "papermill": {
     "duration": 0.007755,
     "end_time": "2024-07-08T14:12:03.228109",
     "exception": false,
     "start_time": "2024-07-08T14:12:03.220354",
     "status": "completed"
    },
    "tags": []
   },
   "outputs": [],
   "source": []
  },
  {
   "cell_type": "markdown",
   "id": "b2c91aa1",
   "metadata": {
    "papermill": {
     "duration": 0.007879,
     "end_time": "2024-07-08T14:12:03.244295",
     "exception": false,
     "start_time": "2024-07-08T14:12:03.236416",
     "status": "completed"
    },
    "tags": []
   },
   "source": [
    "# Defining data directory paths"
   ]
  },
  {
   "cell_type": "code",
   "execution_count": 4,
   "id": "579eae1f",
   "metadata": {
    "execution": {
     "iopub.execute_input": "2024-07-08T14:12:03.262215Z",
     "iopub.status.busy": "2024-07-08T14:12:03.261955Z",
     "iopub.status.idle": "2024-07-08T14:12:03.266131Z",
     "shell.execute_reply": "2024-07-08T14:12:03.265332Z"
    },
    "papermill": {
     "duration": 0.014865,
     "end_time": "2024-07-08T14:12:03.268011",
     "exception": false,
     "start_time": "2024-07-08T14:12:03.253146",
     "status": "completed"
    },
    "tags": []
   },
   "outputs": [],
   "source": [
    "BASE_DIR = '/kaggle/input/nilphamari-data/nilphamari'\n",
    "train_data_dir = f\"{BASE_DIR}/train/\"\n",
    "test_data_dir = f\"{BASE_DIR}/test/\"\n",
    "data_path = f\"{BASE_DIR}/train.xlsx\""
   ]
  },
  {
   "cell_type": "code",
   "execution_count": null,
   "id": "5f35b221",
   "metadata": {},
   "outputs": [],
   "source": [
    "pipe = pipeline( #pipeline for various tasks \n",
    "    \"automatic-speech-recognition\",\n",
    "    model='/kaggle/input/trained-model-weights/trained_model',# model path \n",
    "    chunk_length_s=30,\n",
    "    device=0,\n",
    ")"
   ]
  },
  {
   "cell_type": "code",
   "execution_count": null,
   "id": "605755cf",
   "metadata": {},
   "outputs": [],
   "source": [
    "ids = []\n",
    "preds=[]\n",
    "\n",
    "for root, dirs, files in os.walk(\"/kaggle/input/interspeech-2025/test\"):\n",
    "    \n",
    "    files = sorted(files, key=pretty_sort) # sort files based on the custom pretty_sort function\n",
    "    \n",
    "    ids = files.copy()\n",
    "    \n",
    "    for file in tqdm(files):\n",
    "        composed_path = f\"{test_data_dir}{file}\" # construct the complete path to the audio file\n",
    "        audio, sr = librosa.load(composed_path, sr=16_000) # load the audio file with a specified sampling rate\n",
    "        text = pipe(audio)[\"text\"]\n",
    "        preds.append(text)\n",
    "\n",
    "\n",
    "inferences = pd.DataFrame() #dataframe of inferences\n",
    "inferences[\"id\"] = ids\n",
    "inferences[\"sentence\"] = preds\n",
    "\n",
    "inferences.head(20)"
   ]
  },
  {
   "cell_type": "code",
   "execution_count": null,
   "id": "a5c29442",
   "metadata": {
    "execution": {
     "iopub.execute_input": "2024-07-08T14:20:07.151217Z",
     "iopub.status.busy": "2024-07-08T14:20:07.150944Z",
     "iopub.status.idle": "2024-07-08T14:20:07.154651Z",
     "shell.execute_reply": "2024-07-08T14:20:07.153864Z"
    },
    "papermill": {
     "duration": 0.025264,
     "end_time": "2024-07-08T14:20:07.156477",
     "exception": false,
     "start_time": "2024-07-08T14:20:07.131213",
     "status": "completed"
    },
    "tags": []
   },
   "outputs": [],
   "source": [
    "# inferences = pd.read_excel(\"/kaggle/working/inferences.xlsx\")\n",
    "inferences = inferences.sort_values('id')\n",
    "inferences"
   ]
  },
  {
   "cell_type": "code",
   "execution_count": null,
   "id": "7ae0de33",
   "metadata": {},
   "outputs": [],
   "source": [
    "ground_truths = pd.read_excel(\"/kaggle/input/interspeech-2025/test.xlsx\") #loading ground truth\n",
    "ground_truths = ground_truths[[\"file_name\",\"transcripts\"]]\n",
    "ground_truths = ground_truths.sort_values('file_name')\n",
    "ground_truths"
   ]
  },
  {
   "cell_type": "markdown",
   "id": "8f143686",
   "metadata": {
    "papermill": {
     "duration": 0.019073,
     "end_time": "2024-07-08T14:20:07.606552",
     "exception": false,
     "start_time": "2024-07-08T14:20:07.587479",
     "status": "completed"
    },
    "tags": []
   },
   "source": [
    "# Calculating WER & CER"
   ]
  },
  {
   "cell_type": "code",
   "execution_count": null,
   "id": "8ba26983",
   "metadata": {},
   "outputs": [],
   "source": [
    "WERS = []\n",
    "CERS = []\n",
    "\n",
    "for reference, hypothesis in zip(ground_truths[\"transcripts\"],inferences[\"sentence\"]):\n",
    "    \n",
    "    w_e = wer(str(reference), str(hypothesis))\n",
    "    WERS.append(round(w_e,2))\n",
    "    \n",
    "    c_e = cer(str(reference), str(hypothesis))\n",
    "    CERS.append(round(c_e,2))\n",
    "    \n",
    "\n",
    "    \n",
    "ground_truths[\"predictions\"] = inferences[\"sentence\"].to_list()\n",
    "ground_truths[\"WER\"] = WERS\n",
    "ground_truths[\"CER\"] = CERS\n",
    "\n",
    "ground_truths = ground_truths[[\"file_name\", \"transcripts\", \"predictions\", \"WER\", \"CER\"]]\n",
    "ground_truths"
   ]
  },
  {
   "cell_type": "code",
   "execution_count": 12,
   "id": "395f7656",
   "metadata": {
    "execution": {
     "iopub.execute_input": "2024-07-08T14:20:07.786625Z",
     "iopub.status.busy": "2024-07-08T14:20:07.786333Z",
     "iopub.status.idle": "2024-07-08T14:20:07.789937Z",
     "shell.execute_reply": "2024-07-08T14:20:07.789095Z"
    },
    "papermill": {
     "duration": 0.025616,
     "end_time": "2024-07-08T14:20:07.791768",
     "exception": false,
     "start_time": "2024-07-08T14:20:07.766152",
     "status": "completed"
    },
    "tags": []
   },
   "outputs": [],
   "source": [
    "# ground_truths.to_excel(\"ground_truths.xlsx\", index=False)"
   ]
  },
  {
   "cell_type": "markdown",
   "id": "5bb3cda2",
   "metadata": {
    "papermill": {
     "duration": 0.019135,
     "end_time": "2024-07-08T14:20:07.830414",
     "exception": false,
     "start_time": "2024-07-08T14:20:07.811279",
     "status": "completed"
    },
    "tags": []
   },
   "source": [
    "# Calculating the average WER & CER"
   ]
  },
  {
   "cell_type": "code",
   "execution_count": null,
   "id": "f7b73ec9",
   "metadata": {
    "execution": {
     "iopub.execute_input": "2024-07-08T14:20:07.918309Z",
     "iopub.status.busy": "2024-07-08T14:20:07.918053Z",
     "iopub.status.idle": "2024-07-08T14:20:07.921870Z",
     "shell.execute_reply": "2024-07-08T14:20:07.921101Z"
    },
    "papermill": {
     "duration": 0.026042,
     "end_time": "2024-07-08T14:20:07.923711",
     "exception": false,
     "start_time": "2024-07-08T14:20:07.897669",
     "status": "completed"
    },
    "tags": []
   },
   "outputs": [],
   "source": [
    "avg_wer = np.average(ground_truths[\"WER\"])\n",
    "avg_cer = np.average(ground_truths[\"CER\"])\n",
    "\n",
    "print(f\"Average WER: {round(avg_wer,2)} | Average CER: {round(avg_cer,2)}\")"
   ]
  },
  {
   "cell_type": "markdown",
   "id": "d7f53652",
   "metadata": {
    "papermill": {
     "duration": 0.019274,
     "end_time": "2024-07-08T14:20:08.052347",
     "exception": false,
     "start_time": "2024-07-08T14:20:08.033073",
     "status": "completed"
    },
    "tags": []
   },
   "source": [
    "# Testing inferences"
   ]
  },
  {
   "cell_type": "code",
   "execution_count": null,
   "id": "3ac6bc99",
   "metadata": {
    "execution": {
     "iopub.execute_input": "2024-07-08T14:20:08.092771Z",
     "iopub.status.busy": "2024-07-08T14:20:08.092441Z",
     "iopub.status.idle": "2024-07-08T14:20:08.100252Z",
     "shell.execute_reply": "2024-07-08T14:20:08.099391Z"
    },
    "papermill": {
     "duration": 0.030354,
     "end_time": "2024-07-08T14:20:08.102169",
     "exception": false,
     "start_time": "2024-07-08T14:20:08.071815",
     "status": "completed"
    },
    "tags": []
   },
   "outputs": [],
   "source": [
    "def infer(audio_file_name):\n",
    "    valid_data_dir = \"/kaggle/input/interspeech-2025/test/\"\n",
    "    composed_path = f\"{valid_data_dir}{audio_file_name}\"\n",
    "    audio, sr = librosa.load(composed_path, sr=16_000)\n",
    "    text = pipe(audio)[\"text\"]\n",
    "    return text\n",
    "\n",
    "\n",
    "def get_truth(audio_file_name):\n",
    "\n",
    "    valid_df = pd.read_excel(\"/kaggle/input/interspeech-2025/test.xlsx\")\n",
    "    file_names = valid_df[\"file_name\"].to_list()\n",
    "    index = file_names.index(audio_file_name)\n",
    "    truth_value =  valid_df[\"transcriptions\"][index]\n",
    "    return truth_value\n",
    "\n",
    "\n",
    "def calc_wer_cer(reference,hypothesis):\n",
    "    \n",
    "    from jiwer import wer, cer\n",
    "    \n",
    "\n",
    "    reference = str(reference)\n",
    "    # print(reference)\n",
    "    hypothesis = str(hypothesis)\n",
    "    # print(hypothesis)\n",
    "\n",
    "    WER = round(wer(reference,hypothesis),2)\n",
    "    CER = round(cer(reference,hypothesis),2)\n",
    "    \n",
    "    \n",
    "    return WER, CER\n",
    "\n",
    "\n",
    "def play_audio(audio_file_name):    \n",
    "    audio_file_path = f\"/kaggle/input/interspeech-2025/test/{audio_file_name}\"\n",
    "    return display(AudioSegment.from_file(audio_file_path))"
   ]
  },
  {
   "cell_type": "code",
   "execution_count": null,
   "id": "ca843049",
   "metadata": {},
   "outputs": [],
   "source": [
    "audio_file_name = \"test_tangail_1014.wav\"\n",
    "\n",
    "reference = get_truth(audio_file_name)\n",
    "# print(reference)\n",
    "# print(\"================================\")\n",
    "hypothesis = infer(audio_file_name)\n",
    "# print(hypothesis)\n",
    "wer, cer = calc_wer_cer(reference,hypothesis)\n",
    "\n",
    "print(f\"Audio:\")\n",
    "print()\n",
    "play_audio(audio_file_name)\n",
    "print()\n",
    "print(f\"Truth value: {reference}\")\n",
    "print()\n",
    "print(f\"Prediction: {hypothesis}\")\n",
    "print()\n",
    "print(f\"Word Error Rate: {wer} | Character Error Rate: {cer}\")"
   ]
  },
  {
   "cell_type": "code",
   "execution_count": null,
   "id": "897b96e2",
   "metadata": {
    "papermill": {
     "duration": 0.020167,
     "end_time": "2024-07-08T14:20:11.685169",
     "exception": false,
     "start_time": "2024-07-08T14:20:11.665002",
     "status": "completed"
    },
    "tags": []
   },
   "outputs": [],
   "source": []
  }
 ],
 "metadata": {
  "kaggle": {
   "accelerator": "gpu",
   "dataSources": [
    {
     "datasetId": 5277043,
     "sourceId": 8779542,
     "sourceType": "datasetVersion"
    },
    {
     "datasetId": 5260573,
     "sourceId": 8781961,
     "sourceType": "datasetVersion"
    }
   ],
   "dockerImageVersionId": 30733,
   "isGpuEnabled": true,
   "isInternetEnabled": true,
   "language": "python",
   "sourceType": "notebook"
  },
  "kernelspec": {
   "display_name": "Python 3",
   "language": "python",
   "name": "python3"
  },
  "language_info": {
   "codemirror_mode": {
    "name": "ipython",
    "version": 3
   },
   "file_extension": ".py",
   "mimetype": "text/x-python",
   "name": "python",
   "nbconvert_exporter": "python",
   "pygments_lexer": "ipython3",
   "version": "3.10.13"
  },
  "papermill": {
   "default_parameters": {},
   "duration": 528.456007,
   "end_time": "2024-07-08T14:20:14.459488",
   "environment_variables": {},
   "exception": null,
   "input_path": "__notebook__.ipynb",
   "output_path": "__notebook__.ipynb",
   "parameters": {},
   "start_time": "2024-07-08T14:11:26.003481",
   "version": "2.5.0"
  }
 },
 "nbformat": 4,
 "nbformat_minor": 5
}
