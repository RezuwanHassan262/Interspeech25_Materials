{
 "cells": [
  {
   "cell_type": "markdown",
   "id": "8568707e",
   "metadata": {
    "papermill": {
     "duration": 0.005278,
     "end_time": "2025-02-07T07:00:42.940663",
     "exception": false,
     "start_time": "2025-02-07T07:00:42.935385",
     "status": "completed"
    },
    "tags": []
   },
   "source": [
    "# **0. Import Libraries**"
   ]
  },
  {
   "cell_type": "code",
   "execution_count": 1,
   "id": "c5155239",
   "metadata": {
    "execution": {
     "iopub.execute_input": "2025-02-07T07:00:42.951672Z",
     "iopub.status.busy": "2025-02-07T07:00:42.951285Z",
     "iopub.status.idle": "2025-02-07T07:01:06.311479Z",
     "shell.execute_reply": "2025-02-07T07:01:06.310779Z"
    },
    "papermill": {
     "duration": 23.368082,
     "end_time": "2025-02-07T07:01:06.313466",
     "exception": false,
     "start_time": "2025-02-07T07:00:42.945384",
     "status": "completed"
    },
    "tags": []
   },
   "outputs": [
    {
     "name": "stderr",
     "output_type": "stream",
     "text": [
      "2025-02-07 07:00:55.665365: E external/local_xla/xla/stream_executor/cuda/cuda_dnn.cc:9261] Unable to register cuDNN factory: Attempting to register factory for plugin cuDNN when one has already been registered\n",
      "2025-02-07 07:00:55.665511: E external/local_xla/xla/stream_executor/cuda/cuda_fft.cc:607] Unable to register cuFFT factory: Attempting to register factory for plugin cuFFT when one has already been registered\n",
      "2025-02-07 07:00:55.806508: E external/local_xla/xla/stream_executor/cuda/cuda_blas.cc:1515] Unable to register cuBLAS factory: Attempting to register factory for plugin cuBLAS when one has already been registered\n"
     ]
    }
   ],
   "source": [
    "import os\n",
    "\n",
    "import pandas as pd\n",
    "\n",
    "import librosa\n",
    "import librosa.display\n",
    "\n",
    "import numpy as np\n",
    "\n",
    "import IPython.display as ipd\n",
    "\n",
    "import matplotlib.pyplot as plt\n",
    "\n",
    "import random\n",
    "\n",
    "from collections import Counter\n",
    "\n",
    "from sklearn.model_selection import train_test_split\n",
    "\n",
    "import torch\n",
    "import torchaudio\n",
    "\n",
    "from dataclasses import dataclass\n",
    "from typing import Any, Dict, List, Union\n",
    "from datasets import DatasetDict\n",
    "from datasets import Dataset as DS\n",
    "\n",
    "from transformers import (\n",
    "    WhisperFeatureExtractor,\n",
    "    WhisperTokenizer,\n",
    "    WhisperProcessor,\n",
    "    WhisperForConditionalGeneration,\n",
    "    GenerationConfig,\n",
    "    Seq2SeqTrainingArguments,\n",
    "    Seq2SeqTrainer,\n",
    "    TrainerCallback,\n",
    "    TrainingArguments,\n",
    "    TrainerState,\n",
    "    TrainerControl,\n",
    "    EarlyStoppingCallback,\n",
    "    pipeline,\n",
    "    AutoTokenizer\n",
    ")\n",
    "\n",
    "from torchmetrics.text import WordErrorRate, CharErrorRate"
   ]
  },
  {
   "cell_type": "markdown",
   "id": "7332c165",
   "metadata": {
    "papermill": {
     "duration": 0.007271,
     "end_time": "2025-02-07T07:01:06.329448",
     "exception": false,
     "start_time": "2025-02-07T07:01:06.322177",
     "status": "completed"
    },
    "tags": []
   },
   "source": [
    "# **1.1 Load Dataset**"
   ]
  },
  {
   "cell_type": "code",
   "execution_count": 2,
   "id": "d6e2ce75",
   "metadata": {
    "execution": {
     "iopub.execute_input": "2025-02-07T07:01:06.341431Z",
     "iopub.status.busy": "2025-02-07T07:01:06.340834Z",
     "iopub.status.idle": "2025-02-07T07:01:07.977075Z",
     "shell.execute_reply": "2025-02-07T07:01:07.976330Z"
    },
    "papermill": {
     "duration": 1.644273,
     "end_time": "2025-02-07T07:01:07.979036",
     "exception": false,
     "start_time": "2025-02-07T07:01:06.334763",
     "status": "completed"
    },
    "tags": []
   },
   "outputs": [],
   "source": [
    "BASE_DIR = '/kaggle/input/interspeech-2025'\n",
    "train_data_dir = f\"{BASE_DIR}/train/\"\n",
    "validation_data_dir = f\"{BASE_DIR}/valid/\"\n",
    "train_csv_path = f\"{BASE_DIR}/train.xlsx\"\n",
    "validation_csv_path = f\"{BASE_DIR}/valid.xlsx\"\n",
    "\n",
    "train_data = pd.read_excel(train_csv_path)\n",
    "validation_data = pd.read_excel(validation_csv_path)"
   ]
  },
  {
   "cell_type": "code",
   "execution_count": 3,
   "id": "969f0989",
   "metadata": {
    "execution": {
     "iopub.execute_input": "2025-02-07T07:01:07.990073Z",
     "iopub.status.busy": "2025-02-07T07:01:07.989506Z",
     "iopub.status.idle": "2025-02-07T07:01:08.005982Z",
     "shell.execute_reply": "2025-02-07T07:01:08.005124Z"
    },
    "papermill": {
     "duration": 0.023536,
     "end_time": "2025-02-07T07:01:08.007701",
     "exception": false,
     "start_time": "2025-02-07T07:01:07.984165",
     "status": "completed"
    },
    "tags": []
   },
   "outputs": [
    {
     "data": {
      "text/html": [
       "<div>\n",
       "<style scoped>\n",
       "    .dataframe tbody tr th:only-of-type {\n",
       "        vertical-align: middle;\n",
       "    }\n",
       "\n",
       "    .dataframe tbody tr th {\n",
       "        vertical-align: top;\n",
       "    }\n",
       "\n",
       "    .dataframe thead th {\n",
       "        text-align: right;\n",
       "    }\n",
       "</style>\n",
       "<table border=\"1\" class=\"dataframe\">\n",
       "  <thead>\n",
       "    <tr style=\"text-align: right;\">\n",
       "      <th></th>\n",
       "      <th>file_name</th>\n",
       "      <th>transcripts</th>\n",
       "    </tr>\n",
       "  </thead>\n",
       "  <tbody>\n",
       "    <tr>\n",
       "      <th>0</th>\n",
       "      <td>train_barishal_0001.wav</td>\n",
       "      <td>আসসালামু আলাইকুম, আমার নাম হাসিবুর রহমান শুব, ...</td>\n",
       "    </tr>\n",
       "    <tr>\n",
       "      <th>1</th>\n",
       "      <td>train_barishal_0002.wav</td>\n",
       "      <td>আমার আইডি নং হচ্ছে জিরো টু ফোর টু থ্রি ওয়ান ত...</td>\n",
       "    </tr>\n",
       "    <tr>\n",
       "      <th>2</th>\n",
       "      <td>train_barishal_0003.wav</td>\n",
       "      <td>আসসালামু আলাইকুম, আমার নাম মোহাম্মদ জুবায়ের আ...</td>\n",
       "    </tr>\n",
       "    <tr>\n",
       "      <th>3</th>\n",
       "      <td>train_barishal_0004.wav</td>\n",
       "      <td>এখন শুধু গসিপ শুরু করো। হ্যালো, &lt;&gt; হ্যালো, তা ...</td>\n",
       "    </tr>\n",
       "    <tr>\n",
       "      <th>4</th>\n",
       "      <td>train_barishal_0005.wav</td>\n",
       "      <td>ভালোই একটা জ্যাম। মোটামুটি ভালোই, বরিশাল আইস্য...</td>\n",
       "    </tr>\n",
       "    <tr>\n",
       "      <th>...</th>\n",
       "      <td>...</td>\n",
       "      <td>...</td>\n",
       "    </tr>\n",
       "    <tr>\n",
       "      <th>17044</th>\n",
       "      <td>train_tangail_1013.wav</td>\n",
       "      <td>আর নতুন কইরা সার্চ দিছি দেহি মুভির মুভির আসে। ...</td>\n",
       "    </tr>\n",
       "    <tr>\n",
       "      <th>17045</th>\n",
       "      <td>train_tangail_1014.wav</td>\n",
       "      <td>আর বইলা রাহি কুইন্স ব্যান্ড আছিলো উনিশশো সত্তু...</td>\n",
       "    </tr>\n",
       "    <tr>\n",
       "      <th>17046</th>\n",
       "      <td>train_tangail_1015.wav</td>\n",
       "      <td>যদি গল্পে যাই তাইলে ছবিতে দেখানো হইছে রামি মাল...</td>\n",
       "    </tr>\n",
       "    <tr>\n",
       "      <th>17047</th>\n",
       "      <td>train_tangail_1016.wav</td>\n",
       "      <td>এই বোহেমিয়ান র‍্যাপসডির লিগা। যে ফ্রেডি মার্ক...</td>\n",
       "    </tr>\n",
       "    <tr>\n",
       "      <th>17048</th>\n",
       "      <td>train_tangail_1017.wav</td>\n",
       "      <td>মধ্যবয়সী এক যুবক। সে তার ক্যারিয়ার খুব দিধাগ...</td>\n",
       "    </tr>\n",
       "  </tbody>\n",
       "</table>\n",
       "<p>17049 rows × 2 columns</p>\n",
       "</div>"
      ],
      "text/plain": [
       "                     file_name  \\\n",
       "0      train_barishal_0001.wav   \n",
       "1      train_barishal_0002.wav   \n",
       "2      train_barishal_0003.wav   \n",
       "3      train_barishal_0004.wav   \n",
       "4      train_barishal_0005.wav   \n",
       "...                        ...   \n",
       "17044   train_tangail_1013.wav   \n",
       "17045   train_tangail_1014.wav   \n",
       "17046   train_tangail_1015.wav   \n",
       "17047   train_tangail_1016.wav   \n",
       "17048   train_tangail_1017.wav   \n",
       "\n",
       "                                             transcripts  \n",
       "0      আসসালামু আলাইকুম, আমার নাম হাসিবুর রহমান শুব, ...  \n",
       "1      আমার আইডি নং হচ্ছে জিরো টু ফোর টু থ্রি ওয়ান ত...  \n",
       "2      আসসালামু আলাইকুম, আমার নাম মোহাম্মদ জুবায়ের আ...  \n",
       "3      এখন শুধু গসিপ শুরু করো। হ্যালো, <> হ্যালো, তা ...  \n",
       "4      ভালোই একটা জ্যাম। মোটামুটি ভালোই, বরিশাল আইস্য...  \n",
       "...                                                  ...  \n",
       "17044  আর নতুন কইরা সার্চ দিছি দেহি মুভির মুভির আসে। ...  \n",
       "17045  আর বইলা রাহি কুইন্স ব্যান্ড আছিলো উনিশশো সত্তু...  \n",
       "17046  যদি গল্পে যাই তাইলে ছবিতে দেখানো হইছে রামি মাল...  \n",
       "17047  এই বোহেমিয়ান র‍্যাপসডির লিগা। যে ফ্রেডি মার্ক...  \n",
       "17048  মধ্যবয়সী এক যুবক। সে তার ক্যারিয়ার খুব দিধাগ...  \n",
       "\n",
       "[17049 rows x 2 columns]"
      ]
     },
     "execution_count": 3,
     "metadata": {},
     "output_type": "execute_result"
    }
   ],
   "source": [
    "train_data"
   ]
  },
  {
   "cell_type": "markdown",
   "id": "eed862cb",
   "metadata": {
    "papermill": {
     "duration": 0.004835,
     "end_time": "2025-02-07T07:01:08.018653",
     "exception": false,
     "start_time": "2025-02-07T07:01:08.013818",
     "status": "completed"
    },
    "tags": []
   },
   "source": [
    "# **1.2 Cleaning Dataset + Spliting + Dataset Dictionary Creation**"
   ]
  },
  {
   "cell_type": "code",
   "execution_count": 4,
   "id": "27974979",
   "metadata": {
    "execution": {
     "iopub.execute_input": "2025-02-07T07:01:08.030133Z",
     "iopub.status.busy": "2025-02-07T07:01:08.029288Z",
     "iopub.status.idle": "2025-02-07T07:01:08.033875Z",
     "shell.execute_reply": "2025-02-07T07:01:08.033042Z"
    },
    "papermill": {
     "duration": 0.012051,
     "end_time": "2025-02-07T07:01:08.035623",
     "exception": false,
     "start_time": "2025-02-07T07:01:08.023572",
     "status": "completed"
    },
    "tags": []
   },
   "outputs": [],
   "source": [
    "split2path = {\n",
    "    \"train\": train_data_dir,\n",
    "    \"valid\": validation_data_dir,\n",
    "}"
   ]
  },
  {
   "cell_type": "code",
   "execution_count": 5,
   "id": "82a7c525",
   "metadata": {
    "execution": {
     "iopub.execute_input": "2025-02-07T07:01:08.046180Z",
     "iopub.status.busy": "2025-02-07T07:01:08.045947Z",
     "iopub.status.idle": "2025-02-07T07:01:08.052644Z",
     "shell.execute_reply": "2025-02-07T07:01:08.051958Z"
    },
    "papermill": {
     "duration": 0.013813,
     "end_time": "2025-02-07T07:01:08.054251",
     "exception": false,
     "start_time": "2025-02-07T07:01:08.040438",
     "status": "completed"
    },
    "tags": []
   },
   "outputs": [],
   "source": [
    "def extract_split(filename): #Extracting the split fold from the files \n",
    "    filename_ = filename.split(\"_\")\n",
    "    split = filename_[0]\n",
    "    return split\n",
    "\n",
    "def extract_district(filename): #Extracting the district name from the files \n",
    "    filename_ = filename.split(\" \")[0]\n",
    "    district = filename_.split(\"_\")[1]\n",
    "    return district\n",
    "\n",
    "def beautify_dataset(data): #Preprocessing the entire dataset\n",
    "    splits = []\n",
    "    districts = []\n",
    "    newpaths = []\n",
    "    transcripts = []\n",
    "    \n",
    "    for i in range(len(data)):\n",
    "        filename, transcript = data.iloc[i]\n",
    "        split = extract_split(filename)\n",
    "        district = extract_district(filename)\n",
    "        dir_path = split2path[split]\n",
    "        composed_path = f\"{dir_path}{filename}\"\n",
    "        \n",
    "        if os.path.exists(composed_path) == False:\n",
    "            print(f\"{composed_path} does not exist.\")\n",
    "            continue\n",
    "        \n",
    "        # replace any newline characters\n",
    "        transcript = transcript.replace(\"\\n\", \" \") #Replacing new line with space\n",
    "        transcript = \" \".join(transcript.split()) #Joining all units after splitting\n",
    "\n",
    "        \n",
    "        splits.append(split)\n",
    "        districts.append(district)\n",
    "        newpaths.append(composed_path)\n",
    "        transcripts.append(transcript)\n",
    "    \n",
    "    data['file_path'] = newpaths\n",
    "    data['district'] = districts\n",
    "    data['split'] = splits\n",
    "    data['transcripts'] = transcripts\n",
    "    \n",
    "#     data.drop(columns=['file_name'], inplace=True)\n",
    "    \n",
    "    return data"
   ]
  },
  {
   "cell_type": "code",
   "execution_count": null,
   "id": "367f7e20",
   "metadata": {
    "papermill": {
     "duration": 0.004701,
     "end_time": "2025-02-07T07:01:08.063709",
     "exception": false,
     "start_time": "2025-02-07T07:01:08.059008",
     "status": "completed"
    },
    "tags": []
   },
   "outputs": [],
   "source": []
  },
  {
   "cell_type": "code",
   "execution_count": 6,
   "id": "cd5c8659",
   "metadata": {
    "execution": {
     "iopub.execute_input": "2025-02-07T07:01:08.075072Z",
     "iopub.status.busy": "2025-02-07T07:01:08.074278Z",
     "iopub.status.idle": "2025-02-07T07:01:47.511718Z",
     "shell.execute_reply": "2025-02-07T07:01:47.510779Z"
    },
    "papermill": {
     "duration": 39.450716,
     "end_time": "2025-02-07T07:01:47.519179",
     "exception": false,
     "start_time": "2025-02-07T07:01:08.068463",
     "status": "completed"
    },
    "tags": []
   },
   "outputs": [
    {
     "data": {
      "text/html": [
       "<div>\n",
       "<style scoped>\n",
       "    .dataframe tbody tr th:only-of-type {\n",
       "        vertical-align: middle;\n",
       "    }\n",
       "\n",
       "    .dataframe tbody tr th {\n",
       "        vertical-align: top;\n",
       "    }\n",
       "\n",
       "    .dataframe thead th {\n",
       "        text-align: right;\n",
       "    }\n",
       "</style>\n",
       "<table border=\"1\" class=\"dataframe\">\n",
       "  <thead>\n",
       "    <tr style=\"text-align: right;\">\n",
       "      <th></th>\n",
       "      <th>file_name</th>\n",
       "      <th>transcripts</th>\n",
       "      <th>file_path</th>\n",
       "      <th>district</th>\n",
       "      <th>split</th>\n",
       "    </tr>\n",
       "  </thead>\n",
       "  <tbody>\n",
       "    <tr>\n",
       "      <th>2606</th>\n",
       "      <td>train_habiganj_0144.wav</td>\n",
       "      <td>&lt;&gt; এরাওত্তো আর ইতা খ না। এরাওত্তো আছেওই। এরা য...</td>\n",
       "      <td>/kaggle/input/interspeech-2025/train/train_hab...</td>\n",
       "      <td>habiganj</td>\n",
       "      <td>train</td>\n",
       "    </tr>\n",
       "    <tr>\n",
       "      <th>5264</th>\n",
       "      <td>train_narail_0227.wav</td>\n",
       "      <td>একবার বাথরুমি দৌড়েই আবার পায়খানা হয়। আরেকবা...</td>\n",
       "      <td>/kaggle/input/interspeech-2025/train/train_nar...</td>\n",
       "      <td>narail</td>\n",
       "      <td>train</td>\n",
       "    </tr>\n",
       "    <tr>\n",
       "      <th>6926</th>\n",
       "      <td>train_narsingdi_0402.wav</td>\n",
       "      <td>তো এইডা আবার নতুন কইরা লাগাইলে তো এডার মইদ্দে ...</td>\n",
       "      <td>/kaggle/input/interspeech-2025/train/train_nar...</td>\n",
       "      <td>narsingdi</td>\n",
       "      <td>train</td>\n",
       "    </tr>\n",
       "    <tr>\n",
       "      <th>8326</th>\n",
       "      <td>train_rangpur_0481.wav</td>\n",
       "      <td>ভাগ্নিটার নাম জানি কী রাখসেন? রাখসি হাওয়া। হা...</td>\n",
       "      <td>/kaggle/input/interspeech-2025/train/train_ran...</td>\n",
       "      <td>rangpur</td>\n",
       "      <td>train</td>\n",
       "    </tr>\n",
       "    <tr>\n",
       "      <th>5650</th>\n",
       "      <td>train_narail_0613.wav</td>\n",
       "      <td>সবাই দ্যাহা যাবে পরিচিত।আর কয় জনরেই বা&lt;&gt; । আর...</td>\n",
       "      <td>/kaggle/input/interspeech-2025/train/train_nar...</td>\n",
       "      <td>narail</td>\n",
       "      <td>train</td>\n",
       "    </tr>\n",
       "    <tr>\n",
       "      <th>3059</th>\n",
       "      <td>train_habiganj_0597.wav</td>\n",
       "      <td>বাড়ির অবস্তা যদি খই, বাড়িতে, আমি বার্সিটিত চ...</td>\n",
       "      <td>/kaggle/input/interspeech-2025/train/train_hab...</td>\n",
       "      <td>habiganj</td>\n",
       "      <td>train</td>\n",
       "    </tr>\n",
       "    <tr>\n",
       "      <th>11897</th>\n",
       "      <td>train_sylhet_1966.wav</td>\n",
       "      <td>তুমার আব্বুর যে আছিল। বুঝছি, বুঝছি। অই যে ইয়ো...</td>\n",
       "      <td>/kaggle/input/interspeech-2025/train/train_syl...</td>\n",
       "      <td>sylhet</td>\n",
       "      <td>train</td>\n",
       "    </tr>\n",
       "    <tr>\n",
       "      <th>11503</th>\n",
       "      <td>train_sylhet_1572.wav</td>\n",
       "      <td>ইতার নায়কর-নায়িকার নাম বুলি যাই। তো যে নায়ক...</td>\n",
       "      <td>/kaggle/input/interspeech-2025/train/train_syl...</td>\n",
       "      <td>sylhet</td>\n",
       "      <td>train</td>\n",
       "    </tr>\n",
       "    <tr>\n",
       "      <th>7873</th>\n",
       "      <td>train_rangpur_0028.wav</td>\n",
       "      <td>দুই কাকরা দিয়া ইট সব পৌঁছে দিয়া আচ্ছে, দুই ক...</td>\n",
       "      <td>/kaggle/input/interspeech-2025/train/train_ran...</td>\n",
       "      <td>rangpur</td>\n",
       "      <td>train</td>\n",
       "    </tr>\n",
       "    <tr>\n",
       "      <th>11651</th>\n",
       "      <td>train_sylhet_1720.wav</td>\n",
       "      <td>তাইরে মারি ওউতো বিয়ার আগে ওতা লইয়া তাইরে মার...</td>\n",
       "      <td>/kaggle/input/interspeech-2025/train/train_syl...</td>\n",
       "      <td>sylhet</td>\n",
       "      <td>train</td>\n",
       "    </tr>\n",
       "    <tr>\n",
       "      <th>6335</th>\n",
       "      <td>train_narail_1298.wav</td>\n",
       "      <td>তা আমি কচ্ছি এ বঊ। মাইজে বঊ। কহানে গরু নিয়ে য...</td>\n",
       "      <td>/kaggle/input/interspeech-2025/train/train_nar...</td>\n",
       "      <td>narail</td>\n",
       "      <td>train</td>\n",
       "    </tr>\n",
       "    <tr>\n",
       "      <th>1699</th>\n",
       "      <td>train_chittagong_0896.wav</td>\n",
       "      <td>আঁই যে ভাইয়র মাধ্যমে আঁই ইবার ইয়া ফাডাই, আঁর...</td>\n",
       "      <td>/kaggle/input/interspeech-2025/train/train_chi...</td>\n",
       "      <td>chittagong</td>\n",
       "      <td>train</td>\n",
       "    </tr>\n",
       "    <tr>\n",
       "      <th>6977</th>\n",
       "      <td>train_narsingdi_0453.wav</td>\n",
       "      <td>এই রাস্তাডা মানে করলে বালো অয়। আমরা কলেজে যাই...</td>\n",
       "      <td>/kaggle/input/interspeech-2025/train/train_nar...</td>\n",
       "      <td>narsingdi</td>\n",
       "      <td>train</td>\n",
       "    </tr>\n",
       "    <tr>\n",
       "      <th>363</th>\n",
       "      <td>train_barishal_0364.wav</td>\n",
       "      <td>ললিতা, বান্দুবি ললিতা। হালায় &lt;&gt; আয় তোগো বাসা...</td>\n",
       "      <td>/kaggle/input/interspeech-2025/train/train_bar...</td>\n",
       "      <td>barishal</td>\n",
       "      <td>train</td>\n",
       "    </tr>\n",
       "    <tr>\n",
       "      <th>11425</th>\n",
       "      <td>train_sylhet_1494.wav</td>\n",
       "      <td>তো হেরারেও কিভাবে কন্ট্রোল খরা লাগে বা কিলাখান...</td>\n",
       "      <td>/kaggle/input/interspeech-2025/train/train_syl...</td>\n",
       "      <td>sylhet</td>\n",
       "      <td>train</td>\n",
       "    </tr>\n",
       "    <tr>\n",
       "      <th>14615</th>\n",
       "      <td>train_sylhet_4684.wav</td>\n",
       "      <td>স্টার্ট ওইবো তান মাত। মানে ওতো নাত কুনান তাকি ...</td>\n",
       "      <td>/kaggle/input/interspeech-2025/train/train_syl...</td>\n",
       "      <td>sylhet</td>\n",
       "      <td>train</td>\n",
       "    </tr>\n",
       "    <tr>\n",
       "      <th>12535</th>\n",
       "      <td>train_sylhet_2604.wav</td>\n",
       "      <td>এইযে বিভিন্ন কম্পিটিশন ওইছে, ই কম্পিটিশনের মান...</td>\n",
       "      <td>/kaggle/input/interspeech-2025/train/train_syl...</td>\n",
       "      <td>sylhet</td>\n",
       "      <td>train</td>\n",
       "    </tr>\n",
       "    <tr>\n",
       "      <th>3904</th>\n",
       "      <td>train_kishoreganj_0506.wav</td>\n",
       "      <td>হ। নাস্তা কাইছস? হ। কি দিয়া কাইছস? মাছ দিয়া।...</td>\n",
       "      <td>/kaggle/input/interspeech-2025/train/train_kis...</td>\n",
       "      <td>kishoreganj</td>\n",
       "      <td>train</td>\n",
       "    </tr>\n",
       "    <tr>\n",
       "      <th>15843</th>\n",
       "      <td>train_sylhet_5912.wav</td>\n",
       "      <td>প্রেমের লুকোচুরি এখটা আরোখটা যেনো কিতা বুলি গে...</td>\n",
       "      <td>/kaggle/input/interspeech-2025/train/train_syl...</td>\n",
       "      <td>sylhet</td>\n",
       "      <td>train</td>\n",
       "    </tr>\n",
       "    <tr>\n",
       "      <th>16422</th>\n",
       "      <td>train_tangail_0391.wav</td>\n",
       "      <td>রেশম কাট আছে বাবার। রেশম পায়। সেগুলা সব তুইলা...</td>\n",
       "      <td>/kaggle/input/interspeech-2025/train/train_tan...</td>\n",
       "      <td>tangail</td>\n",
       "      <td>train</td>\n",
       "    </tr>\n",
       "  </tbody>\n",
       "</table>\n",
       "</div>"
      ],
      "text/plain": [
       "                        file_name  \\\n",
       "2606      train_habiganj_0144.wav   \n",
       "5264        train_narail_0227.wav   \n",
       "6926     train_narsingdi_0402.wav   \n",
       "8326       train_rangpur_0481.wav   \n",
       "5650        train_narail_0613.wav   \n",
       "3059      train_habiganj_0597.wav   \n",
       "11897       train_sylhet_1966.wav   \n",
       "11503       train_sylhet_1572.wav   \n",
       "7873       train_rangpur_0028.wav   \n",
       "11651       train_sylhet_1720.wav   \n",
       "6335        train_narail_1298.wav   \n",
       "1699    train_chittagong_0896.wav   \n",
       "6977     train_narsingdi_0453.wav   \n",
       "363       train_barishal_0364.wav   \n",
       "11425       train_sylhet_1494.wav   \n",
       "14615       train_sylhet_4684.wav   \n",
       "12535       train_sylhet_2604.wav   \n",
       "3904   train_kishoreganj_0506.wav   \n",
       "15843       train_sylhet_5912.wav   \n",
       "16422      train_tangail_0391.wav   \n",
       "\n",
       "                                             transcripts  \\\n",
       "2606   <> এরাওত্তো আর ইতা খ না। এরাওত্তো আছেওই। এরা য...   \n",
       "5264   একবার বাথরুমি দৌড়েই আবার পায়খানা হয়। আরেকবা...   \n",
       "6926   তো এইডা আবার নতুন কইরা লাগাইলে তো এডার মইদ্দে ...   \n",
       "8326   ভাগ্নিটার নাম জানি কী রাখসেন? রাখসি হাওয়া। হা...   \n",
       "5650   সবাই দ্যাহা যাবে পরিচিত।আর কয় জনরেই বা<> । আর...   \n",
       "3059   বাড়ির অবস্তা যদি খই, বাড়িতে, আমি বার্সিটিত চ...   \n",
       "11897  তুমার আব্বুর যে আছিল। বুঝছি, বুঝছি। অই যে ইয়ো...   \n",
       "11503  ইতার নায়কর-নায়িকার নাম বুলি যাই। তো যে নায়ক...   \n",
       "7873   দুই কাকরা দিয়া ইট সব পৌঁছে দিয়া আচ্ছে, দুই ক...   \n",
       "11651  তাইরে মারি ওউতো বিয়ার আগে ওতা লইয়া তাইরে মার...   \n",
       "6335   তা আমি কচ্ছি এ বঊ। মাইজে বঊ। কহানে গরু নিয়ে য...   \n",
       "1699   আঁই যে ভাইয়র মাধ্যমে আঁই ইবার ইয়া ফাডাই, আঁর...   \n",
       "6977   এই রাস্তাডা মানে করলে বালো অয়। আমরা কলেজে যাই...   \n",
       "363    ললিতা, বান্দুবি ললিতা। হালায় <> আয় তোগো বাসা...   \n",
       "11425  তো হেরারেও কিভাবে কন্ট্রোল খরা লাগে বা কিলাখান...   \n",
       "14615  স্টার্ট ওইবো তান মাত। মানে ওতো নাত কুনান তাকি ...   \n",
       "12535  এইযে বিভিন্ন কম্পিটিশন ওইছে, ই কম্পিটিশনের মান...   \n",
       "3904   হ। নাস্তা কাইছস? হ। কি দিয়া কাইছস? মাছ দিয়া।...   \n",
       "15843  প্রেমের লুকোচুরি এখটা আরোখটা যেনো কিতা বুলি গে...   \n",
       "16422  রেশম কাট আছে বাবার। রেশম পায়। সেগুলা সব তুইলা...   \n",
       "\n",
       "                                               file_path     district  split  \n",
       "2606   /kaggle/input/interspeech-2025/train/train_hab...     habiganj  train  \n",
       "5264   /kaggle/input/interspeech-2025/train/train_nar...       narail  train  \n",
       "6926   /kaggle/input/interspeech-2025/train/train_nar...    narsingdi  train  \n",
       "8326   /kaggle/input/interspeech-2025/train/train_ran...      rangpur  train  \n",
       "5650   /kaggle/input/interspeech-2025/train/train_nar...       narail  train  \n",
       "3059   /kaggle/input/interspeech-2025/train/train_hab...     habiganj  train  \n",
       "11897  /kaggle/input/interspeech-2025/train/train_syl...       sylhet  train  \n",
       "11503  /kaggle/input/interspeech-2025/train/train_syl...       sylhet  train  \n",
       "7873   /kaggle/input/interspeech-2025/train/train_ran...      rangpur  train  \n",
       "11651  /kaggle/input/interspeech-2025/train/train_syl...       sylhet  train  \n",
       "6335   /kaggle/input/interspeech-2025/train/train_nar...       narail  train  \n",
       "1699   /kaggle/input/interspeech-2025/train/train_chi...   chittagong  train  \n",
       "6977   /kaggle/input/interspeech-2025/train/train_nar...    narsingdi  train  \n",
       "363    /kaggle/input/interspeech-2025/train/train_bar...     barishal  train  \n",
       "11425  /kaggle/input/interspeech-2025/train/train_syl...       sylhet  train  \n",
       "14615  /kaggle/input/interspeech-2025/train/train_syl...       sylhet  train  \n",
       "12535  /kaggle/input/interspeech-2025/train/train_syl...       sylhet  train  \n",
       "3904   /kaggle/input/interspeech-2025/train/train_kis...  kishoreganj  train  \n",
       "15843  /kaggle/input/interspeech-2025/train/train_syl...       sylhet  train  \n",
       "16422  /kaggle/input/interspeech-2025/train/train_tan...      tangail  train  "
      ]
     },
     "execution_count": 6,
     "metadata": {},
     "output_type": "execute_result"
    }
   ],
   "source": [
    "# train_data= train_data.head(20)\n",
    "data = beautify_dataset(train_data) \n",
    "data.sample(20)"
   ]
  },
  {
   "cell_type": "code",
   "execution_count": 7,
   "id": "7debf8d5",
   "metadata": {
    "execution": {
     "iopub.execute_input": "2025-02-07T07:01:47.531833Z",
     "iopub.status.busy": "2025-02-07T07:01:47.531114Z",
     "iopub.status.idle": "2025-02-07T07:01:47.558244Z",
     "shell.execute_reply": "2025-02-07T07:01:47.557583Z"
    },
    "papermill": {
     "duration": 0.035522,
     "end_time": "2025-02-07T07:01:47.560142",
     "exception": false,
     "start_time": "2025-02-07T07:01:47.524620",
     "status": "completed"
    },
    "tags": []
   },
   "outputs": [],
   "source": [
    "data.drop(data[data['transcripts'] == ''].index, inplace=True)\n",
    "data.drop(data[data['transcripts'] == \"<>\"].index, inplace=True)\n",
    "data.drop(data[data['transcripts'] == \"..\"].index, inplace=True)\n",
    "data[\"transcripts\"] = data[\"transcripts\"].str.strip()"
   ]
  },
  {
   "cell_type": "code",
   "execution_count": 8,
   "id": "1797fe55",
   "metadata": {
    "execution": {
     "iopub.execute_input": "2025-02-07T07:01:47.572690Z",
     "iopub.status.busy": "2025-02-07T07:01:47.572066Z",
     "iopub.status.idle": "2025-02-07T07:01:47.585343Z",
     "shell.execute_reply": "2025-02-07T07:01:47.584406Z"
    },
    "papermill": {
     "duration": 0.021244,
     "end_time": "2025-02-07T07:01:47.587040",
     "exception": false,
     "start_time": "2025-02-07T07:01:47.565796",
     "status": "completed"
    },
    "tags": []
   },
   "outputs": [
    {
     "data": {
      "text/html": [
       "<div>\n",
       "<style scoped>\n",
       "    .dataframe tbody tr th:only-of-type {\n",
       "        vertical-align: middle;\n",
       "    }\n",
       "\n",
       "    .dataframe tbody tr th {\n",
       "        vertical-align: top;\n",
       "    }\n",
       "\n",
       "    .dataframe thead th {\n",
       "        text-align: right;\n",
       "    }\n",
       "</style>\n",
       "<table border=\"1\" class=\"dataframe\">\n",
       "  <thead>\n",
       "    <tr style=\"text-align: right;\">\n",
       "      <th></th>\n",
       "      <th>file_name</th>\n",
       "      <th>transcripts</th>\n",
       "      <th>file_path</th>\n",
       "      <th>district</th>\n",
       "      <th>split</th>\n",
       "    </tr>\n",
       "  </thead>\n",
       "  <tbody>\n",
       "  </tbody>\n",
       "</table>\n",
       "</div>"
      ],
      "text/plain": [
       "Empty DataFrame\n",
       "Columns: [file_name, transcripts, file_path, district, split]\n",
       "Index: []"
      ]
     },
     "execution_count": 8,
     "metadata": {},
     "output_type": "execute_result"
    }
   ],
   "source": [
    "data[data[\"transcripts\"] == \"<>\"]\n",
    "data[data[\"transcripts\"] == \"\"]\n",
    "data[data[\"transcripts\"] == \"..\"]"
   ]
  },
  {
   "cell_type": "code",
   "execution_count": 9,
   "id": "805c35be",
   "metadata": {
    "execution": {
     "iopub.execute_input": "2025-02-07T07:01:47.598780Z",
     "iopub.status.busy": "2025-02-07T07:01:47.598462Z",
     "iopub.status.idle": "2025-02-07T07:01:47.607387Z",
     "shell.execute_reply": "2025-02-07T07:01:47.606830Z"
    },
    "papermill": {
     "duration": 0.016742,
     "end_time": "2025-02-07T07:01:47.608975",
     "exception": false,
     "start_time": "2025-02-07T07:01:47.592233",
     "status": "completed"
    },
    "tags": []
   },
   "outputs": [],
   "source": [
    "train_df, eval_df = train_test_split(data, test_size=0.01, shuffle=True)"
   ]
  },
  {
   "cell_type": "code",
   "execution_count": 10,
   "id": "60546b67",
   "metadata": {
    "execution": {
     "iopub.execute_input": "2025-02-07T07:01:47.620468Z",
     "iopub.status.busy": "2025-02-07T07:01:47.620075Z",
     "iopub.status.idle": "2025-02-07T07:01:47.629872Z",
     "shell.execute_reply": "2025-02-07T07:01:47.629085Z"
    },
    "papermill": {
     "duration": 0.017207,
     "end_time": "2025-02-07T07:01:47.631457",
     "exception": false,
     "start_time": "2025-02-07T07:01:47.614250",
     "status": "completed"
    },
    "tags": []
   },
   "outputs": [
    {
     "data": {
      "text/html": [
       "<div>\n",
       "<style scoped>\n",
       "    .dataframe tbody tr th:only-of-type {\n",
       "        vertical-align: middle;\n",
       "    }\n",
       "\n",
       "    .dataframe tbody tr th {\n",
       "        vertical-align: top;\n",
       "    }\n",
       "\n",
       "    .dataframe thead th {\n",
       "        text-align: right;\n",
       "    }\n",
       "</style>\n",
       "<table border=\"1\" class=\"dataframe\">\n",
       "  <thead>\n",
       "    <tr style=\"text-align: right;\">\n",
       "      <th></th>\n",
       "      <th>file_name</th>\n",
       "      <th>transcripts</th>\n",
       "      <th>file_path</th>\n",
       "      <th>district</th>\n",
       "      <th>split</th>\n",
       "    </tr>\n",
       "  </thead>\n",
       "  <tbody>\n",
       "    <tr>\n",
       "      <th>4979</th>\n",
       "      <td>train_kishoreganj_1581.wav</td>\n",
       "      <td>এল্লা বুঝ এল্লা। কিল্লিজ্ঞা? বই ফুরা চেঞ্জ কইর...</td>\n",
       "      <td>/kaggle/input/interspeech-2025/train/train_kis...</td>\n",
       "      <td>kishoreganj</td>\n",
       "      <td>train</td>\n",
       "    </tr>\n",
       "    <tr>\n",
       "      <th>12900</th>\n",
       "      <td>train_sylhet_2969.wav</td>\n",
       "      <td>সমাজে যেন আমারে প্রেশার ক্রিয়েট খরতো ইটার আমি...</td>\n",
       "      <td>/kaggle/input/interspeech-2025/train/train_syl...</td>\n",
       "      <td>sylhet</td>\n",
       "      <td>train</td>\n",
       "    </tr>\n",
       "    <tr>\n",
       "      <th>13136</th>\n",
       "      <td>train_sylhet_3205.wav</td>\n",
       "      <td>যে আমার যেটা &lt;&gt; ফয়লা যে রিজিওনাল আমি যেটাতে প...</td>\n",
       "      <td>/kaggle/input/interspeech-2025/train/train_syl...</td>\n",
       "      <td>sylhet</td>\n",
       "      <td>train</td>\n",
       "    </tr>\n",
       "    <tr>\n",
       "      <th>4043</th>\n",
       "      <td>train_kishoreganj_0645.wav</td>\n",
       "      <td>হা? কন্টাক অইয়াছেগা। কন্টাক অইয়াছেগা? &lt;&gt; মচ্...</td>\n",
       "      <td>/kaggle/input/interspeech-2025/train/train_kis...</td>\n",
       "      <td>kishoreganj</td>\n",
       "      <td>train</td>\n",
       "    </tr>\n",
       "    <tr>\n",
       "      <th>233</th>\n",
       "      <td>train_barishal_0234.wav</td>\n",
       "      <td>এহাইন্দা যা কইছি নয় মাডি দিমু কিন্তু গায়। মা...</td>\n",
       "      <td>/kaggle/input/interspeech-2025/train/train_bar...</td>\n",
       "      <td>barishal</td>\n",
       "      <td>train</td>\n",
       "    </tr>\n",
       "    <tr>\n",
       "      <th>...</th>\n",
       "      <td>...</td>\n",
       "      <td>...</td>\n",
       "      <td>...</td>\n",
       "      <td>...</td>\n",
       "      <td>...</td>\n",
       "    </tr>\n",
       "    <tr>\n",
       "      <th>6053</th>\n",
       "      <td>train_narail_1016.wav</td>\n",
       "      <td>এবার পর কচ্ছে যে, আমি তো নড়াইল আসছিলাম, &lt;&gt; ঘা...</td>\n",
       "      <td>/kaggle/input/interspeech-2025/train/train_nar...</td>\n",
       "      <td>narail</td>\n",
       "      <td>train</td>\n",
       "    </tr>\n",
       "    <tr>\n",
       "      <th>5562</th>\n",
       "      <td>train_narail_0525.wav</td>\n",
       "      <td>বঙ্গবন্ধু অনাস গুপালগঞ্জ। হতি পারে। হুম্ম। ও ভ...</td>\n",
       "      <td>/kaggle/input/interspeech-2025/train/train_nar...</td>\n",
       "      <td>narail</td>\n",
       "      <td>train</td>\n",
       "    </tr>\n",
       "    <tr>\n",
       "      <th>5297</th>\n",
       "      <td>train_narail_0260.wav</td>\n",
       "      <td>আইজ-কাইল তো এরমই ওইয়ে গেছে। জিরে দিলি জিরে অব...</td>\n",
       "      <td>/kaggle/input/interspeech-2025/train/train_nar...</td>\n",
       "      <td>narail</td>\n",
       "      <td>train</td>\n",
       "    </tr>\n",
       "    <tr>\n",
       "      <th>6424</th>\n",
       "      <td>train_narail_1387.wav</td>\n",
       "      <td>এবারা আম দিছি। &lt;&gt;। এবা, শোন কয়ডা মুড়ি দিয়ে ...</td>\n",
       "      <td>/kaggle/input/interspeech-2025/train/train_nar...</td>\n",
       "      <td>narail</td>\n",
       "      <td>train</td>\n",
       "    </tr>\n",
       "    <tr>\n",
       "      <th>9144</th>\n",
       "      <td>train_sandwip_0261.wav</td>\n",
       "      <td>তো অল ইন অল আমনের এক বছর সময় খাইয়েলা। তো কুঁ...</td>\n",
       "      <td>/kaggle/input/interspeech-2025/train/train_san...</td>\n",
       "      <td>sandwip</td>\n",
       "      <td>train</td>\n",
       "    </tr>\n",
       "  </tbody>\n",
       "</table>\n",
       "<p>16878 rows × 5 columns</p>\n",
       "</div>"
      ],
      "text/plain": [
       "                        file_name  \\\n",
       "4979   train_kishoreganj_1581.wav   \n",
       "12900       train_sylhet_2969.wav   \n",
       "13136       train_sylhet_3205.wav   \n",
       "4043   train_kishoreganj_0645.wav   \n",
       "233       train_barishal_0234.wav   \n",
       "...                           ...   \n",
       "6053        train_narail_1016.wav   \n",
       "5562        train_narail_0525.wav   \n",
       "5297        train_narail_0260.wav   \n",
       "6424        train_narail_1387.wav   \n",
       "9144       train_sandwip_0261.wav   \n",
       "\n",
       "                                             transcripts  \\\n",
       "4979   এল্লা বুঝ এল্লা। কিল্লিজ্ঞা? বই ফুরা চেঞ্জ কইর...   \n",
       "12900  সমাজে যেন আমারে প্রেশার ক্রিয়েট খরতো ইটার আমি...   \n",
       "13136  যে আমার যেটা <> ফয়লা যে রিজিওনাল আমি যেটাতে প...   \n",
       "4043   হা? কন্টাক অইয়াছেগা। কন্টাক অইয়াছেগা? <> মচ্...   \n",
       "233    এহাইন্দা যা কইছি নয় মাডি দিমু কিন্তু গায়। মা...   \n",
       "...                                                  ...   \n",
       "6053   এবার পর কচ্ছে যে, আমি তো নড়াইল আসছিলাম, <> ঘা...   \n",
       "5562   বঙ্গবন্ধু অনাস গুপালগঞ্জ। হতি পারে। হুম্ম। ও ভ...   \n",
       "5297   আইজ-কাইল তো এরমই ওইয়ে গেছে। জিরে দিলি জিরে অব...   \n",
       "6424   এবারা আম দিছি। <>। এবা, শোন কয়ডা মুড়ি দিয়ে ...   \n",
       "9144   তো অল ইন অল আমনের এক বছর সময় খাইয়েলা। তো কুঁ...   \n",
       "\n",
       "                                               file_path     district  split  \n",
       "4979   /kaggle/input/interspeech-2025/train/train_kis...  kishoreganj  train  \n",
       "12900  /kaggle/input/interspeech-2025/train/train_syl...       sylhet  train  \n",
       "13136  /kaggle/input/interspeech-2025/train/train_syl...       sylhet  train  \n",
       "4043   /kaggle/input/interspeech-2025/train/train_kis...  kishoreganj  train  \n",
       "233    /kaggle/input/interspeech-2025/train/train_bar...     barishal  train  \n",
       "...                                                  ...          ...    ...  \n",
       "6053   /kaggle/input/interspeech-2025/train/train_nar...       narail  train  \n",
       "5562   /kaggle/input/interspeech-2025/train/train_nar...       narail  train  \n",
       "5297   /kaggle/input/interspeech-2025/train/train_nar...       narail  train  \n",
       "6424   /kaggle/input/interspeech-2025/train/train_nar...       narail  train  \n",
       "9144   /kaggle/input/interspeech-2025/train/train_san...      sandwip  train  \n",
       "\n",
       "[16878 rows x 5 columns]"
      ]
     },
     "execution_count": 10,
     "metadata": {},
     "output_type": "execute_result"
    }
   ],
   "source": [
    "train_df"
   ]
  },
  {
   "cell_type": "code",
   "execution_count": null,
   "id": "24772a04",
   "metadata": {
    "papermill": {
     "duration": 0.005293,
     "end_time": "2025-02-07T07:01:47.642344",
     "exception": false,
     "start_time": "2025-02-07T07:01:47.637051",
     "status": "completed"
    },
    "tags": []
   },
   "outputs": [],
   "source": []
  },
  {
   "cell_type": "markdown",
   "id": "6b95b551",
   "metadata": {
    "papermill": {
     "duration": 0.005248,
     "end_time": "2025-02-07T07:01:47.652949",
     "exception": false,
     "start_time": "2025-02-07T07:01:47.647701",
     "status": "completed"
    },
    "tags": []
   },
   "source": [
    "# **2. Preparing Feature Extractor, Tokenizer and Processor & pre-trained model**"
   ]
  },
  {
   "cell_type": "code",
   "execution_count": 11,
   "id": "0b9b50b6",
   "metadata": {
    "execution": {
     "iopub.execute_input": "2025-02-07T07:01:47.665728Z",
     "iopub.status.busy": "2025-02-07T07:01:47.664921Z",
     "iopub.status.idle": "2025-02-07T07:02:23.322477Z",
     "shell.execute_reply": "2025-02-07T07:02:23.321642Z"
    },
    "papermill": {
     "duration": 35.674099,
     "end_time": "2025-02-07T07:02:23.332375",
     "exception": false,
     "start_time": "2025-02-07T07:01:47.658276",
     "status": "completed"
    },
    "tags": []
   },
   "outputs": [
    {
     "name": "stderr",
     "output_type": "stream",
     "text": [
      "Special tokens have been added in the vocabulary, make sure the associated word embeddings are fine-tuned or trained.\n",
      "Special tokens have been added in the vocabulary, make sure the associated word embeddings are fine-tuned or trained.\n",
      "/opt/conda/lib/python3.10/site-packages/torch/_utils.py:831: UserWarning: TypedStorage is deprecated. It will be removed in the future and UntypedStorage will be the only storage class. This should only matter to you if you are using storages directly.  To access UntypedStorage directly, use tensor.untyped_storage() instead of tensor.storage()\n",
      "  return self.fget.__get__(instance, owner)()\n"
     ]
    },
    {
     "data": {
      "application/vnd.jupyter.widget-view+json": {
       "model_id": "84b554474e614bcfa97639a999c76737",
       "version_major": 2,
       "version_minor": 0
      },
      "text/plain": [
       "generation_config.json:   0%|          | 0.00/3.75k [00:00<?, ?B/s]"
      ]
     },
     "metadata": {},
     "output_type": "display_data"
    }
   ],
   "source": [
    "TASK = \"transcribe\"\n",
    "MODEL_NAME=\"/kaggle/input/bengali-ai-asr-submission/bengali-whisper-medium\"\n",
    "LANGUAGE='bn'\n",
    "\n",
    "feature_extractor = WhisperFeatureExtractor.from_pretrained(MODEL_NAME)\n",
    "tokenizer = WhisperTokenizer.from_pretrained(MODEL_NAME, language=LANGUAGE, task=TASK)\n",
    "processor = WhisperProcessor.from_pretrained(MODEL_NAME, language=LANGUAGE, task=TASK)\n",
    "model = WhisperForConditionalGeneration.from_pretrained(MODEL_NAME, device_map=\"auto\")\n",
    "\n",
    "model.generation_config=GenerationConfig.from_pretrained(\"openai/whisper-medium\")\n",
    "model.generation_config.language = LANGUAGE\n",
    "model.generation_config.task = TASK\n",
    "model.generation_config.forced_decoder_ids = None\n",
    "model.config.suppress_tokens = [] # added later"
   ]
  },
  {
   "cell_type": "code",
   "execution_count": 12,
   "id": "56215f8a",
   "metadata": {
    "execution": {
     "iopub.execute_input": "2025-02-07T07:02:23.344922Z",
     "iopub.status.busy": "2025-02-07T07:02:23.344667Z",
     "iopub.status.idle": "2025-02-07T07:02:23.349778Z",
     "shell.execute_reply": "2025-02-07T07:02:23.348995Z"
    },
    "papermill": {
     "duration": 0.013254,
     "end_time": "2025-02-07T07:02:23.351328",
     "exception": false,
     "start_time": "2025-02-07T07:02:23.338074",
     "status": "completed"
    },
    "tags": []
   },
   "outputs": [
    {
     "data": {
      "text/plain": [
       "[50258, 50302, 50359, 50363, 50257]"
      ]
     },
     "execution_count": 12,
     "metadata": {},
     "output_type": "execute_result"
    }
   ],
   "source": [
    "ids = tokenizer.encode(\"\") #Encoding an Empty String with the Tokenizer\n",
    "ids #The token IDs produced by the tokenizer for the empty string."
   ]
  },
  {
   "cell_type": "markdown",
   "id": "38c5249c",
   "metadata": {
    "papermill": {
     "duration": 0.005688,
     "end_time": "2025-02-07T07:02:23.362933",
     "exception": false,
     "start_time": "2025-02-07T07:02:23.357245",
     "status": "completed"
    },
    "tags": []
   },
   "source": [
    "# **3. Prepare Dataset**"
   ]
  },
  {
   "cell_type": "code",
   "execution_count": 13,
   "id": "1adfa0e1",
   "metadata": {
    "execution": {
     "iopub.execute_input": "2025-02-07T07:02:23.375628Z",
     "iopub.status.busy": "2025-02-07T07:02:23.375377Z",
     "iopub.status.idle": "2025-02-07T07:02:23.451798Z",
     "shell.execute_reply": "2025-02-07T07:02:23.450846Z"
    },
    "papermill": {
     "duration": 0.085033,
     "end_time": "2025-02-07T07:02:23.453880",
     "exception": false,
     "start_time": "2025-02-07T07:02:23.368847",
     "status": "completed"
    },
    "tags": []
   },
   "outputs": [],
   "source": [
    "ds_splits = DatasetDict({\n",
    "    'train': DS.from_pandas(train_df),\n",
    "    'eval': DS.from_pandas(eval_df)\n",
    "})\n",
    "ds_splits = ds_splits.remove_columns([\"split\"])"
   ]
  },
  {
   "cell_type": "code",
   "execution_count": 14,
   "id": "02b617d7",
   "metadata": {
    "execution": {
     "iopub.execute_input": "2025-02-07T07:02:23.467916Z",
     "iopub.status.busy": "2025-02-07T07:02:23.467581Z",
     "iopub.status.idle": "2025-02-07T07:09:49.347425Z",
     "shell.execute_reply": "2025-02-07T07:09:49.346515Z"
    },
    "papermill": {
     "duration": 445.889377,
     "end_time": "2025-02-07T07:09:49.349485",
     "exception": false,
     "start_time": "2025-02-07T07:02:23.460108",
     "status": "completed"
    },
    "tags": []
   },
   "outputs": [
    {
     "name": "stdout",
     "output_type": "stream",
     "text": [
      "   "
     ]
    },
    {
     "data": {
      "application/vnd.jupyter.widget-view+json": {
       "model_id": "9ba212e2382f4bccac6c3ada37d608bb",
       "version_major": 2,
       "version_minor": 0
      },
      "text/plain": [
       "#0:   0%|          | 0/8439 [00:00<?, ?ex/s]"
      ]
     },
     "metadata": {},
     "output_type": "display_data"
    },
    {
     "name": "stdout",
     "output_type": "stream",
     "text": [
      " "
     ]
    },
    {
     "data": {
      "application/vnd.jupyter.widget-view+json": {
       "model_id": "b02244eb19dd46af961cdfc8a543b2de",
       "version_major": 2,
       "version_minor": 0
      },
      "text/plain": [
       "#1:   0%|          | 0/8439 [00:00<?, ?ex/s]"
      ]
     },
     "metadata": {},
     "output_type": "display_data"
    },
    {
     "name": "stdout",
     "output_type": "stream",
     "text": [
      "    "
     ]
    },
    {
     "data": {
      "application/vnd.jupyter.widget-view+json": {
       "model_id": "71921429e984462c83129fba94f52628",
       "version_major": 2,
       "version_minor": 0
      },
      "text/plain": [
       "#0:   0%|          | 0/86 [00:00<?, ?ex/s]"
      ]
     },
     "metadata": {},
     "output_type": "display_data"
    },
    {
     "data": {
      "application/vnd.jupyter.widget-view+json": {
       "model_id": "1a685f457a894d09a53a7c48f7073674",
       "version_major": 2,
       "version_minor": 0
      },
      "text/plain": [
       "#1:   0%|          | 0/85 [00:00<?, ?ex/s]"
      ]
     },
     "metadata": {},
     "output_type": "display_data"
    }
   ],
   "source": [
    "def prepare_dataset(example):\n",
    "    audio_path = example[\"file_path\"]\n",
    "    audio, sr = librosa.load(audio_path, sr=16_000)\n",
    "    example[\"input_features\"] = feature_extractor(audio, sampling_rate=sr).input_features[0]\n",
    "    example[\"labels\"] = tokenizer(f\"{example['transcripts']}\", max_length=448, padding=True, truncation=True).input_ids\n",
    "    return example\n",
    "\n",
    "np.object=object\n",
    "ds_splits = ds_splits.map(prepare_dataset, remove_columns=ds_splits.column_names[\"train\"],num_proc=2)\n",
    "# ds_splits.save_to_disk(\"/kaggle/working/bengali-dialect-pre-trained-full-data\")"
   ]
  },
  {
   "cell_type": "code",
   "execution_count": 15,
   "id": "b048588d",
   "metadata": {
    "execution": {
     "iopub.execute_input": "2025-02-07T07:09:49.365751Z",
     "iopub.status.busy": "2025-02-07T07:09:49.365049Z",
     "iopub.status.idle": "2025-02-07T07:09:49.375323Z",
     "shell.execute_reply": "2025-02-07T07:09:49.374473Z"
    },
    "papermill": {
     "duration": 0.020327,
     "end_time": "2025-02-07T07:09:49.377058",
     "exception": false,
     "start_time": "2025-02-07T07:09:49.356731",
     "status": "completed"
    },
    "tags": []
   },
   "outputs": [],
   "source": [
    "def compute_metrics(pred):\n",
    "    pred_ids = pred.predictions\n",
    "    label_ids = pred.label_ids\n",
    "\n",
    "    label_ids[label_ids == -100] = tokenizer.pad_token_id\n",
    "\n",
    "    pred_str = tokenizer.batch_decode(pred_ids, skip_special_tokens=True)\n",
    "    label_str = tokenizer.batch_decode(label_ids, skip_special_tokens=True)\n",
    "\n",
    "    wer_res = wer(pred_str, label_str)\n",
    "    cer_res = cer(pred_str, label_str)\n",
    "    \n",
    "    print(\"WER:\",wer_res,\"| CER:\", cer_res) # to show up during running logs\n",
    "    print(\"Pred:\",pred_str[0])\n",
    "    print(\"Label:\",label_str[0])\n",
    "    \n",
    "    return {\"wer\": wer_res, \"cer\": cer_res}\n",
    "\n",
    "@dataclass\n",
    "class DataCollatorSpeechSeq2SeqWithPadding:\n",
    "    processor: Any\n",
    "\n",
    "    def __call__(self, features: List[Dict[str, Union[List[int], torch.Tensor]]]) -> Dict[str, torch.Tensor]:\n",
    "        # split inputs and labels since they have to be of different lengths and need different padding methods\n",
    "        # first treat the audio inputs by simply returning torch tensors\n",
    "        input_features = [{\"input_features\": feature[\"input_features\"]} for feature in features]\n",
    "        batch = self.processor.feature_extractor.pad(input_features, return_tensors=\"pt\")\n",
    "\n",
    "        # get the tokenized label sequences\n",
    "        label_features = [{\"input_ids\": feature[\"labels\"]} for feature in features]\n",
    "        # pad the labels to max length\n",
    "        labels_batch = self.processor.tokenizer.pad(label_features, return_tensors=\"pt\")\n",
    "\n",
    "        # replace padding with -100 to ignore loss correctly\n",
    "        labels = labels_batch[\"input_ids\"].masked_fill(labels_batch.attention_mask.ne(1), -100)\n",
    "\n",
    "        # if bos token is appended in previous tokenization step,\n",
    "        # cut bos token here as it's append later anyways\n",
    "        if (labels[:, 0] == self.processor.tokenizer.bos_token_id).all().cpu().item():\n",
    "            labels = labels[:, 1:]\n",
    "\n",
    "        batch[\"labels\"] = labels\n",
    "        \n",
    "        torch.cuda.empty_cache()\n",
    "\n",
    "        return batch\n",
    "\n",
    "\n",
    "data_collator = DataCollatorSpeechSeq2SeqWithPadding(processor=processor)"
   ]
  },
  {
   "cell_type": "code",
   "execution_count": 16,
   "id": "24284f60",
   "metadata": {
    "execution": {
     "iopub.execute_input": "2025-02-07T07:09:49.393311Z",
     "iopub.status.busy": "2025-02-07T07:09:49.392618Z",
     "iopub.status.idle": "2025-02-07T07:09:49.402108Z",
     "shell.execute_reply": "2025-02-07T07:09:49.401476Z"
    },
    "papermill": {
     "duration": 0.019135,
     "end_time": "2025-02-07T07:09:49.403640",
     "exception": false,
     "start_time": "2025-02-07T07:09:49.384505",
     "status": "completed"
    },
    "tags": []
   },
   "outputs": [],
   "source": [
    "cer = CharErrorRate()\n",
    "wer = WordErrorRate()\n",
    "\n",
    "steps=1000\n",
    "batch=8"
   ]
  },
  {
   "cell_type": "code",
   "execution_count": 17,
   "id": "902a9b2d",
   "metadata": {
    "execution": {
     "iopub.execute_input": "2025-02-07T07:09:49.417814Z",
     "iopub.status.busy": "2025-02-07T07:09:49.417592Z",
     "iopub.status.idle": "2025-02-07T07:09:49.424357Z",
     "shell.execute_reply": "2025-02-07T07:09:49.423581Z"
    },
    "papermill": {
     "duration": 0.015542,
     "end_time": "2025-02-07T07:09:49.425876",
     "exception": false,
     "start_time": "2025-02-07T07:09:49.410334",
     "status": "completed"
    },
    "tags": []
   },
   "outputs": [],
   "source": [
    "training_args = Seq2SeqTrainingArguments(\n",
    "    output_dir=\"/kaggle/working/\",\n",
    "    per_device_train_batch_size=batch,\n",
    "    per_device_eval_batch_size=batch,\n",
    "    gradient_accumulation_steps=1,\n",
    "    gradient_checkpointing=True,\n",
    "    learning_rate=1e-5,\n",
    "    fp16=True,\n",
    "    weight_decay=1e-2,\n",
    "    warmup_steps=50,\n",
    "    num_train_epochs=2,\n",
    "    evaluation_strategy=\"steps\", # or \"epochs\"\n",
    "    predict_with_generate=True,\n",
    "#     generation_max_length=448,\n",
    "    save_steps=steps,\n",
    "    eval_steps=steps,\n",
    "    logging_steps=steps,\n",
    "    save_total_limit=1,\n",
    "    load_best_model_at_end=True,\n",
    "    metric_for_best_model=\"wer\",\n",
    "    greater_is_better=False,\n",
    "    push_to_hub=False,\n",
    "    report_to=\"none\",\n",
    "    remove_unused_columns=False,\n",
    ")"
   ]
  },
  {
   "cell_type": "code",
   "execution_count": 18,
   "id": "fafd8964",
   "metadata": {
    "execution": {
     "iopub.execute_input": "2025-02-07T07:09:49.440612Z",
     "iopub.status.busy": "2025-02-07T07:09:49.439879Z",
     "iopub.status.idle": "2025-02-07T07:09:49.470673Z",
     "shell.execute_reply": "2025-02-07T07:09:49.469793Z"
    },
    "papermill": {
     "duration": 0.039928,
     "end_time": "2025-02-07T07:09:49.472300",
     "exception": false,
     "start_time": "2025-02-07T07:09:49.432372",
     "status": "completed"
    },
    "tags": []
   },
   "outputs": [
    {
     "name": "stderr",
     "output_type": "stream",
     "text": [
      "/opt/conda/lib/python3.10/site-packages/accelerate/accelerator.py:432: FutureWarning: Passing the following arguments to `Accelerator` is deprecated and will be removed in version 1.0 of Accelerate: dict_keys(['dispatch_batches', 'split_batches', 'even_batches', 'use_seedable_sampler']). Please pass an `accelerate.DataLoaderConfiguration` instead: \n",
      "dataloader_config = DataLoaderConfiguration(dispatch_batches=None, split_batches=False, even_batches=True, use_seedable_sampler=True)\n",
      "  warnings.warn(\n"
     ]
    }
   ],
   "source": [
    "trainer = Seq2SeqTrainer(\n",
    "    args=training_args,\n",
    "    model=model,\n",
    "    train_dataset=ds_splits[\"train\"],\n",
    "    eval_dataset=ds_splits[\"eval\"],\n",
    "    data_collator=data_collator,\n",
    "    tokenizer=processor.feature_extractor,\n",
    "    compute_metrics=compute_metrics,\n",
    "    callbacks=[EarlyStoppingCallback(2, 1.0)]\n",
    ")"
   ]
  },
  {
   "cell_type": "code",
   "execution_count": 19,
   "id": "7f53b01b",
   "metadata": {
    "execution": {
     "iopub.execute_input": "2025-02-07T07:09:49.487078Z",
     "iopub.status.busy": "2025-02-07T07:09:49.486564Z",
     "iopub.status.idle": "2025-02-07T15:36:58.420590Z",
     "shell.execute_reply": "2025-02-07T15:36:58.419496Z"
    },
    "papermill": {
     "duration": 30428.944854,
     "end_time": "2025-02-07T15:36:58.424005",
     "exception": false,
     "start_time": "2025-02-07T07:09:49.479151",
     "status": "completed"
    },
    "tags": []
   },
   "outputs": [
    {
     "name": "stderr",
     "output_type": "stream",
     "text": [
      "/opt/conda/lib/python3.10/site-packages/torch/utils/checkpoint.py:429: UserWarning: torch.utils.checkpoint: please pass in use_reentrant=True or use_reentrant=False explicitly. The default value of use_reentrant will be updated to be False in the future. To maintain current behavior, pass use_reentrant=True. It is recommended that you use use_reentrant=False. Refer to docs for more details on the differences between the two variants.\n",
      "  warnings.warn(\n",
      "`use_cache = True` is incompatible with gradient checkpointing. Setting `use_cache = False`...\n"
     ]
    },
    {
     "data": {
      "text/html": [
       "\n",
       "    <div>\n",
       "      \n",
       "      <progress value='3000' max='4220' style='width:300px; height:20px; vertical-align: middle;'></progress>\n",
       "      [3000/4220 8:26:57 < 3:26:18, 0.10 it/s, Epoch 1/2]\n",
       "    </div>\n",
       "    <table border=\"1\" class=\"dataframe\">\n",
       "  <thead>\n",
       " <tr style=\"text-align: left;\">\n",
       "      <th>Step</th>\n",
       "      <th>Training Loss</th>\n",
       "      <th>Validation Loss</th>\n",
       "      <th>Wer</th>\n",
       "      <th>Cer</th>\n",
       "    </tr>\n",
       "  </thead>\n",
       "  <tbody>\n",
       "    <tr>\n",
       "      <td>1000</td>\n",
       "      <td>1.015500</td>\n",
       "      <td>0.729412</td>\n",
       "      <td>0.763195</td>\n",
       "      <td>0.380089</td>\n",
       "    </tr>\n",
       "    <tr>\n",
       "      <td>2000</td>\n",
       "      <td>0.675100</td>\n",
       "      <td>0.652822</td>\n",
       "      <td>0.697810</td>\n",
       "      <td>0.348245</td>\n",
       "    </tr>\n",
       "    <tr>\n",
       "      <td>3000</td>\n",
       "      <td>0.496100</td>\n",
       "      <td>0.633070</td>\n",
       "      <td>0.680479</td>\n",
       "      <td>0.350625</td>\n",
       "    </tr>\n",
       "  </tbody>\n",
       "</table><p>"
      ],
      "text/plain": [
       "<IPython.core.display.HTML object>"
      ]
     },
     "metadata": {},
     "output_type": "display_data"
    },
    {
     "name": "stdout",
     "output_type": "stream",
     "text": [
      "WER: tensor(0.7632) | CER: tensor(0.3801)\n",
      "Pred: এবার আসলে দিবে? হ। তারে তুই ওয়ডাই জামান্নাই, চট্টগ্রাম জামান্নাই শালায়। জামান্নাই শেন্না ব্যারেটে রাইস প্যান্নাই। যাইন দেরি আছে। ওউ দেরি? অনেক দেরি আছে। ইটা কী করবেন না ছোন্নোরা?\n",
      "Label: ওবার আসলে দিবে? হ। তাইলে তুই ওটে যাবার নইস? চট্টগ্রাম যাবার নইস এলায়? যাবার নইস, এনা বেড়ে টেরে আইসবার নইস? যাইম দেরি আসে। কত দেরি? অনেক দেরি আসে। তা কি কইরবার নাগসেন তোরে?\n"
     ]
    },
    {
     "name": "stderr",
     "output_type": "stream",
     "text": [
      "Some non-default generation parameters are set in the model config. These should go into a GenerationConfig file (https://huggingface.co/docs/transformers/generation_strategies#save-a-custom-decoding-strategy-with-your-model) instead. This warning will be raised to an exception in v4.41.\n",
      "Non-default generation parameters: {'max_length': 448, 'suppress_tokens': [], 'begin_suppress_tokens': [220, 50257]}\n",
      "/opt/conda/lib/python3.10/site-packages/torch/utils/checkpoint.py:429: UserWarning: torch.utils.checkpoint: please pass in use_reentrant=True or use_reentrant=False explicitly. The default value of use_reentrant will be updated to be False in the future. To maintain current behavior, pass use_reentrant=True. It is recommended that you use use_reentrant=False. Refer to docs for more details on the differences between the two variants.\n",
      "  warnings.warn(\n"
     ]
    },
    {
     "name": "stdout",
     "output_type": "stream",
     "text": [
      "WER: tensor(0.6978) | CER: tensor(0.3482)\n",
      "Pred: এবার আসলে দেবে? হ। তাইলে তুই অডে যাবার নয়। চট্টগ্রাম যাবার নয় শালায়। যাবার নয় শালায় না বেড়ে-টেড়ে হাইস্পার নয়। যাইন দেরি আছে। ওও দেরি? অনেক দেরি আছে। হুম। ইতা কি কইরবেন আছোইন না?\n",
      "Label: ওবার আসলে দিবে? হ। তাইলে তুই ওটে যাবার নইস? চট্টগ্রাম যাবার নইস এলায়? যাবার নইস, এনা বেড়ে টেরে আইসবার নইস? যাইম দেরি আসে। কত দেরি? অনেক দেরি আসে। তা কি কইরবার নাগসেন তোরে?\n"
     ]
    },
    {
     "name": "stderr",
     "output_type": "stream",
     "text": [
      "Some non-default generation parameters are set in the model config. These should go into a GenerationConfig file (https://huggingface.co/docs/transformers/generation_strategies#save-a-custom-decoding-strategy-with-your-model) instead. This warning will be raised to an exception in v4.41.\n",
      "Non-default generation parameters: {'max_length': 448, 'suppress_tokens': [], 'begin_suppress_tokens': [220, 50257]}\n",
      "/opt/conda/lib/python3.10/site-packages/torch/utils/checkpoint.py:429: UserWarning: torch.utils.checkpoint: please pass in use_reentrant=True or use_reentrant=False explicitly. The default value of use_reentrant will be updated to be False in the future. To maintain current behavior, pass use_reentrant=True. It is recommended that you use use_reentrant=False. Refer to docs for more details on the differences between the two variants.\n",
      "  warnings.warn(\n"
     ]
    },
    {
     "name": "stdout",
     "output_type": "stream",
     "text": [
      "WER: tensor(0.6805) | CER: tensor(0.3506)\n",
      "Pred: এবার আসলে দিবে? হ। তাইলে তুই অডে যাবার নয়, চট্টগ্রাম যাবার নিশালায়। যাবার নইসে না বেরে-টেরে? আইস পেন নইস? যাইন দেরি আসে। ও দেরি? অনেক দেরি আসে। কি করবেন না তুমরা?\n",
      "Label: ওবার আসলে দিবে? হ। তাইলে তুই ওটে যাবার নইস? চট্টগ্রাম যাবার নইস এলায়? যাবার নইস, এনা বেড়ে টেরে আইসবার নইস? যাইম দেরি আসে। কত দেরি? অনেক দেরি আসে। তা কি কইরবার নাগসেন তোরে?\n"
     ]
    },
    {
     "name": "stderr",
     "output_type": "stream",
     "text": [
      "Some non-default generation parameters are set in the model config. These should go into a GenerationConfig file (https://huggingface.co/docs/transformers/generation_strategies#save-a-custom-decoding-strategy-with-your-model) instead. This warning will be raised to an exception in v4.41.\n",
      "Non-default generation parameters: {'max_length': 448, 'suppress_tokens': [], 'begin_suppress_tokens': [220, 50257]}\n",
      "There were missing keys in the checkpoint model loaded: ['proj_out.weight'].\n"
     ]
    },
    {
     "data": {
      "text/plain": [
       "('/kaggle/working/tokenizer_config.json',\n",
       " '/kaggle/working/special_tokens_map.json',\n",
       " '/kaggle/working/vocab.json',\n",
       " '/kaggle/working/merges.txt',\n",
       " '/kaggle/working/normalizer.json',\n",
       " '/kaggle/working/added_tokens.json')"
      ]
     },
     "execution_count": 19,
     "metadata": {},
     "output_type": "execute_result"
    }
   ],
   "source": [
    "trainer.train()\n",
    "tokenizer.save_pretrained(training_args.output_dir)"
   ]
  },
  {
   "cell_type": "code",
   "execution_count": 20,
   "id": "eafcdfae",
   "metadata": {
    "execution": {
     "iopub.execute_input": "2025-02-07T15:36:58.445162Z",
     "iopub.status.busy": "2025-02-07T15:36:58.444326Z",
     "iopub.status.idle": "2025-02-07T15:37:10.671807Z",
     "shell.execute_reply": "2025-02-07T15:37:10.670852Z"
    },
    "papermill": {
     "duration": 12.240782,
     "end_time": "2025-02-07T15:37:10.673849",
     "exception": false,
     "start_time": "2025-02-07T15:36:58.433067",
     "status": "completed"
    },
    "tags": []
   },
   "outputs": [
    {
     "name": "stderr",
     "output_type": "stream",
     "text": [
      "Some non-default generation parameters are set in the model config. These should go into a GenerationConfig file (https://huggingface.co/docs/transformers/generation_strategies#save-a-custom-decoding-strategy-with-your-model) instead. This warning will be raised to an exception in v4.41.\n",
      "Non-default generation parameters: {'max_length': 448, 'suppress_tokens': [], 'begin_suppress_tokens': [220, 50257]}\n"
     ]
    },
    {
     "data": {
      "text/plain": [
       "[]"
      ]
     },
     "execution_count": 20,
     "metadata": {},
     "output_type": "execute_result"
    }
   ],
   "source": [
    "tokenizer.save_pretrained(training_args.output_dir)\n",
    "trainer.save_model(training_args.output_dir)\n",
    "processor.save_pretrained(training_args.output_dir)"
   ]
  },
  {
   "cell_type": "code",
   "execution_count": 21,
   "id": "c088b696",
   "metadata": {
    "execution": {
     "iopub.execute_input": "2025-02-07T15:37:10.693628Z",
     "iopub.status.busy": "2025-02-07T15:37:10.692658Z",
     "iopub.status.idle": "2025-02-07T15:37:10.745426Z",
     "shell.execute_reply": "2025-02-07T15:37:10.744586Z"
    },
    "papermill": {
     "duration": 0.064839,
     "end_time": "2025-02-07T15:37:10.747592",
     "exception": false,
     "start_time": "2025-02-07T15:37:10.682753",
     "status": "completed"
    },
    "tags": []
   },
   "outputs": [],
   "source": [
    "out_logs = pd.DataFrame(trainer.state.log_history)\n",
    "out_logs.to_csv(\"logs.csv\",index = False)"
   ]
  },
  {
   "cell_type": "code",
   "execution_count": 22,
   "id": "f5d43bf5",
   "metadata": {
    "execution": {
     "iopub.execute_input": "2025-02-07T15:37:10.768014Z",
     "iopub.status.busy": "2025-02-07T15:37:10.767306Z",
     "iopub.status.idle": "2025-02-07T15:37:11.317756Z",
     "shell.execute_reply": "2025-02-07T15:37:11.316766Z"
    },
    "papermill": {
     "duration": 0.563004,
     "end_time": "2025-02-07T15:37:11.320213",
     "exception": false,
     "start_time": "2025-02-07T15:37:10.757209",
     "status": "completed"
    },
    "tags": []
   },
   "outputs": [
    {
     "data": {
      "image/png": "[encoded data removed]",
      "text/plain": [
       "<Figure size 1200x600 with 1 Axes>"
      ]
     },
     "metadata": {},
     "output_type": "display_data"
    },
    {
     "data": {
      "text/plain": [
       "<Figure size 640x480 with 0 Axes>"
      ]
     },
     "metadata": {},
     "output_type": "display_data"
    }
   ],
   "source": [
    "# with open(f\"{training_args.output_dir}/training.history\", 'r') as f:\n",
    "#     history = json.load(f)\n",
    "\n",
    "# Access the logs and plot the training and validation curves\n",
    "train_logs = trainer.state.log_history\n",
    "train_losses = [log['loss'] for log in train_logs if 'loss' in log]\n",
    "eval_losses = [log['eval_loss'] for log in train_logs if 'eval_loss' in log]\n",
    "\n",
    "# Plotting the curves\n",
    "plt.figure(figsize=(12, 6))\n",
    "plt.plot(train_losses, label='Training Loss')\n",
    "plt.plot(eval_losses, label='Validation Loss')\n",
    "plt.xlabel('Steps')\n",
    "plt.ylabel('Loss')\n",
    "plt.title('Training and Validation Loss')\n",
    "plt.legend()\n",
    "plt.show()\n",
    "\n",
    "plt.savefig(\"train_test_curves.png\", dpi=300, bbox_inches='tight')  # Save as PNG with high resolution"
   ]
  },
  {
   "cell_type": "code",
   "execution_count": 23,
   "id": "8e4886dd",
   "metadata": {
    "execution": {
     "iopub.execute_input": "2025-02-07T15:37:11.345905Z",
     "iopub.status.busy": "2025-02-07T15:37:11.344040Z",
     "iopub.status.idle": "2025-02-07T15:37:11.924129Z",
     "shell.execute_reply": "2025-02-07T15:37:11.923280Z"
    },
    "papermill": {
     "duration": 0.593343,
     "end_time": "2025-02-07T15:37:11.926013",
     "exception": false,
     "start_time": "2025-02-07T15:37:11.332670",
     "status": "completed"
    },
    "tags": []
   },
   "outputs": [],
   "source": [
    "import gc\n",
    "gc.collect()\n",
    "torch.cuda.empty_cache()"
   ]
  },
  {
   "cell_type": "code",
   "execution_count": null,
   "id": "f2bac1ad",
   "metadata": {
    "papermill": {
     "duration": 0.009789,
     "end_time": "2025-02-07T15:37:11.945780",
     "exception": false,
     "start_time": "2025-02-07T15:37:11.935991",
     "status": "completed"
    },
    "tags": []
   },
   "outputs": [],
   "source": []
  }
 ],
 "metadata": {
  "kaggle": {
   "accelerator": "gpu",
   "dataSources": [
    {
     "databundleVersionId": 8823072,
     "sourceId": 73047,
     "sourceType": "competition"
    },
    {
     "datasetId": 3865741,
     "sourceId": 6707460,
     "sourceType": "datasetVersion"
    },
    {
     "datasetId": 6544256,
     "sourceId": 10672472,
     "sourceType": "datasetVersion"
    }
   ],
   "dockerImageVersionId": 30674,
   "isGpuEnabled": true,
   "isInternetEnabled": true,
   "language": "python",
   "sourceType": "notebook"
  },
  "kernelspec": {
   "display_name": "Python 3",
   "language": "python",
   "name": "python3"
  },
  "language_info": {
   "codemirror_mode": {
    "name": "ipython",
    "version": 3
   },
   "file_extension": ".py",
   "mimetype": "text/x-python",
   "name": "python",
   "nbconvert_exporter": "python",
   "pygments_lexer": "ipython3",
   "version": "3.10.13"
  },
  "papermill": {
   "default_parameters": {},
   "duration": 30997.121069,
   "end_time": "2025-02-07T15:37:17.308743",
   "environment_variables": {},
   "exception": null,
   "input_path": "__notebook__.ipynb",
   "output_path": "__notebook__.ipynb",
   "parameters": {},
   "start_time": "2025-02-07T07:00:40.187674",
   "version": "2.5.0"
  },
  "widgets": {
   "application/vnd.jupyter.widget-state+json": {
    "state": {
     "0139e7cacedc4c4f970f699012efc934": {
      "model_module": "@jupyter-widgets/base",
      "model_module_version": "1.2.0",
      "model_name": "LayoutModel",
      "state": {
       "_model_module": "@jupyter-widgets/base",
       "_model_module_version": "1.2.0",
       "_model_name": "LayoutModel",
       "_view_count": null,
       "_view_module": "@jupyter-widgets/base",
       "_view_module_version": "1.2.0",
       "_view_name": "LayoutView",
       "align_content": null,
       "align_items": null,
       "align_self": null,
       "border": null,
       "bottom": null,
       "display": null,
       "flex": null,
       "flex_flow": null,
       "grid_area": null,
       "grid_auto_columns": null,
       "grid_auto_flow": null,
       "grid_auto_rows": null,
       "grid_column": null,
       "grid_gap": null,
       "grid_row": null,
       "grid_template_areas": null,
       "grid_template_columns": null,
       "grid_template_rows": null,
       "height": null,
       "justify_content": null,
       "justify_items": null,
       "left": null,
       "margin": null,
       "max_height": null,
       "max_width": null,
       "min_height": null,
       "min_width": null,
       "object_fit": null,
       "object_position": null,
       "order": null,
       "overflow": null,
       "overflow_x": null,
       "overflow_y": null,
       "padding": null,
       "right": null,
       "top": null,
       "visibility": null,
       "width": null
      }
     },
     "01c67465be014f84b1cf44833409ae4d": {
      "model_module": "@jupyter-widgets/controls",
      "model_module_version": "1.5.0",
      "model_name": "FloatProgressModel",
      "state": {
       "_dom_classes": [],
       "_model_module": "@jupyter-widgets/controls",
       "_model_module_version": "1.5.0",
       "_model_name": "FloatProgressModel",
       "_view_count": null,
       "_view_module": "@jupyter-widgets/controls",
       "_view_module_version": "1.5.0",
       "_view_name": "ProgressView",
       "bar_style": "success",
       "description": "",
       "description_tooltip": null,
       "layout": "IPY_MODEL_b0c18803077c4a16b6f4caff9ea50a63",
       "max": 8439.0,
       "min": 0.0,
       "orientation": "horizontal",
       "style": "IPY_MODEL_068006c57f0c4324b1762e0d3a93dbb4",
       "value": 8439.0
      }
     },
     "04dc17f8c1de434694190b232e1b52c1": {
      "model_module": "@jupyter-widgets/base",
      "model_module_version": "1.2.0",
      "model_name": "LayoutModel",
      "state": {
       "_model_module": "@jupyter-widgets/base",
       "_model_module_version": "1.2.0",
       "_model_name": "LayoutModel",
       "_view_count": null,
       "_view_module": "@jupyter-widgets/base",
       "_view_module_version": "1.2.0",
       "_view_name": "LayoutView",
       "align_content": null,
       "align_items": null,
       "align_self": null,
       "border": null,
       "bottom": null,
       "display": null,
       "flex": null,
       "flex_flow": null,
       "grid_area": null,
       "grid_auto_columns": null,
       "grid_auto_flow": null,
       "grid_auto_rows": null,
       "grid_column": null,
       "grid_gap": null,
       "grid_row": null,
       "grid_template_areas": null,
       "grid_template_columns": null,
       "grid_template_rows": null,
       "height": null,
       "justify_content": null,
       "justify_items": null,
       "left": null,
       "margin": null,
       "max_height": null,
       "max_width": null,
       "min_height": null,
       "min_width": null,
       "object_fit": null,
       "object_position": null,
       "order": null,
       "overflow": null,
       "overflow_x": null,
       "overflow_y": null,
       "padding": null,
       "right": null,
       "top": null,
       "visibility": null,
       "width": null
      }
     },
     "068006c57f0c4324b1762e0d3a93dbb4": {
      "model_module": "@jupyter-widgets/controls",
      "model_module_version": "1.5.0",
      "model_name": "ProgressStyleModel",
      "state": {
       "_model_module": "@jupyter-widgets/controls",
       "_model_module_version": "1.5.0",
       "_model_name": "ProgressStyleModel",
       "_view_count": null,
       "_view_module": "@jupyter-widgets/base",
       "_view_module_version": "1.2.0",
       "_view_name": "StyleView",
       "bar_color": null,
       "description_width": ""
      }
     },
     "075c60ea2b40499aab50ad29fd7dda32": {
      "model_module": "@jupyter-widgets/controls",
      "model_module_version": "1.5.0",
      "model_name": "FloatProgressModel",
      "state": {
       "_dom_classes": [],
       "_model_module": "@jupyter-widgets/controls",
       "_model_module_version": "1.5.0",
       "_model_name": "FloatProgressModel",
       "_view_count": null,
       "_view_module": "@jupyter-widgets/controls",
       "_view_module_version": "1.5.0",
       "_view_name": "ProgressView",
       "bar_style": "success",
       "description": "",
       "description_tooltip": null,
       "layout": "IPY_MODEL_bf7caca448094efbbdfcf50d399356c6",
       "max": 86.0,
       "min": 0.0,
       "orientation": "horizontal",
       "style": "IPY_MODEL_9a06fd35e2d24b5894abc496a335d411",
       "value": 86.0
      }
     },
     "0dad532dfaa74265a8c74623d491874d": {
      "model_module": "@jupyter-widgets/base",
      "model_module_version": "1.2.0",
      "model_name": "LayoutModel",
      "state": {
       "_model_module": "@jupyter-widgets/base",
       "_model_module_version": "1.2.0",
       "_model_name": "LayoutModel",
       "_view_count": null,
       "_view_module": "@jupyter-widgets/base",
       "_view_module_version": "1.2.0",
       "_view_name": "LayoutView",
       "align_content": null,
       "align_items": null,
       "align_self": null,
       "border": null,
       "bottom": null,
       "display": null,
       "flex": null,
       "flex_flow": null,
       "grid_area": null,
       "grid_auto_columns": null,
       "grid_auto_flow": null,
       "grid_auto_rows": null,
       "grid_column": null,
       "grid_gap": null,
       "grid_row": null,
       "grid_template_areas": null,
       "grid_template_columns": null,
       "grid_template_rows": null,
       "height": null,
       "justify_content": null,
       "justify_items": null,
       "left": null,
       "margin": null,
       "max_height": null,
       "max_width": null,
       "min_height": null,
       "min_width": null,
       "object_fit": null,
       "object_position": null,
       "order": null,
       "overflow": null,
       "overflow_x": null,
       "overflow_y": null,
       "padding": null,
       "right": null,
       "top": null,
       "visibility": null,
       "width": null
      }
     },
     "0e3d44c1725d464bae66885160c54961": {
      "model_module": "@jupyter-widgets/base",
      "model_module_version": "1.2.0",
      "model_name": "LayoutModel",
      "state": {
       "_model_module": "@jupyter-widgets/base",
       "_model_module_version": "1.2.0",
       "_model_name": "LayoutModel",
       "_view_count": null,
       "_view_module": "@jupyter-widgets/base",
       "_view_module_version": "1.2.0",
       "_view_name": "LayoutView",
       "align_content": null,
       "align_items": null,
       "align_self": null,
       "border": null,
       "bottom": null,
       "display": null,
       "flex": null,
       "flex_flow": null,
       "grid_area": null,
       "grid_auto_columns": null,
       "grid_auto_flow": null,
       "grid_auto_rows": null,
       "grid_column": null,
       "grid_gap": null,
       "grid_row": null,
       "grid_template_areas": null,
       "grid_template_columns": null,
       "grid_template_rows": null,
       "height": null,
       "justify_content": null,
       "justify_items": null,
       "left": null,
       "margin": null,
       "max_height": null,
       "max_width": null,
       "min_height": null,
       "min_width": null,
       "object_fit": null,
       "object_position": null,
       "order": null,
       "overflow": null,
       "overflow_x": null,
       "overflow_y": null,
       "padding": null,
       "right": null,
       "top": null,
       "visibility": null,
       "width": null
      }
     },
     "13488511d0974f01a8a7ebac0081b853": {
      "model_module": "@jupyter-widgets/base",
      "model_module_version": "1.2.0",
      "model_name": "LayoutModel",
      "state": {
       "_model_module": "@jupyter-widgets/base",
       "_model_module_version": "1.2.0",
       "_model_name": "LayoutModel",
       "_view_count": null,
       "_view_module": "@jupyter-widgets/base",
       "_view_module_version": "1.2.0",
       "_view_name": "LayoutView",
       "align_content": null,
       "align_items": null,
       "align_self": null,
       "border": null,
       "bottom": null,
       "display": null,
       "flex": null,
       "flex_flow": null,
       "grid_area": null,
       "grid_auto_columns": null,
       "grid_auto_flow": null,
       "grid_auto_rows": null,
       "grid_column": null,
       "grid_gap": null,
       "grid_row": null,
       "grid_template_areas": null,
       "grid_template_columns": null,
       "grid_template_rows": null,
       "height": null,
       "justify_content": null,
       "justify_items": null,
       "left": null,
       "margin": null,
       "max_height": null,
       "max_width": null,
       "min_height": null,
       "min_width": null,
       "object_fit": null,
       "object_position": null,
       "order": null,
       "overflow": null,
       "overflow_x": null,
       "overflow_y": null,
       "padding": null,
       "right": null,
       "top": null,
       "visibility": null,
       "width": null
      }
     },
     "1a685f457a894d09a53a7c48f7073674": {
      "model_module": "@jupyter-widgets/controls",
      "model_module_version": "1.5.0",
      "model_name": "HBoxModel",
      "state": {
       "_dom_classes": [],
       "_model_module": "@jupyter-widgets/controls",
       "_model_module_version": "1.5.0",
       "_model_name": "HBoxModel",
       "_view_count": null,
       "_view_module": "@jupyter-widgets/controls",
       "_view_module_version": "1.5.0",
       "_view_name": "HBoxView",
       "box_style": "",
       "children": [
        "IPY_MODEL_788329af013e4b6a87f96cd2a6df5a1b",
        "IPY_MODEL_4673e2fdeaee4752a0dfdf5cf84487ac",
        "IPY_MODEL_c56dd41ee00343638bc51f24fa8090f6"
       ],
       "layout": "IPY_MODEL_04dc17f8c1de434694190b232e1b52c1"
      }
     },
     "28077d6f58994da3b7d2f1b80e4baab6": {
      "model_module": "@jupyter-widgets/controls",
      "model_module_version": "1.5.0",
      "model_name": "HTMLModel",
      "state": {
       "_dom_classes": [],
       "_model_module": "@jupyter-widgets/controls",
       "_model_module_version": "1.5.0",
       "_model_name": "HTMLModel",
       "_view_count": null,
       "_view_module": "@jupyter-widgets/controls",
       "_view_module_version": "1.5.0",
       "_view_name": "HTMLView",
       "description": "",
       "description_tooltip": null,
       "layout": "IPY_MODEL_0139e7cacedc4c4f970f699012efc934",
       "placeholder": "​",
       "style": "IPY_MODEL_84f7c039ace948f9b0bd67b014ae258a",
       "value": " 3.75k/3.75k [00:00&lt;00:00, 391kB/s]"
      }
     },
     "2d4df823851841efaf5433030b102011": {
      "model_module": "@jupyter-widgets/controls",
      "model_module_version": "1.5.0",
      "model_name": "DescriptionStyleModel",
      "state": {
       "_model_module": "@jupyter-widgets/controls",
       "_model_module_version": "1.5.0",
       "_model_name": "DescriptionStyleModel",
       "_view_count": null,
       "_view_module": "@jupyter-widgets/base",
       "_view_module_version": "1.2.0",
       "_view_name": "StyleView",
       "description_width": ""
      }
     },
     "2ed38eb203d44453ac69393d17d27258": {
      "model_module": "@jupyter-widgets/base",
      "model_module_version": "1.2.0",
      "model_name": "LayoutModel",
      "state": {
       "_model_module": "@jupyter-widgets/base",
       "_model_module_version": "1.2.0",
       "_model_name": "LayoutModel",
       "_view_count": null,
       "_view_module": "@jupyter-widgets/base",
       "_view_module_version": "1.2.0",
       "_view_name": "LayoutView",
       "align_content": null,
       "align_items": null,
       "align_self": null,
       "border": null,
       "bottom": null,
       "display": null,
       "flex": null,
       "flex_flow": null,
       "grid_area": null,
       "grid_auto_columns": null,
       "grid_auto_flow": null,
       "grid_auto_rows": null,
       "grid_column": null,
       "grid_gap": null,
       "grid_row": null,
       "grid_template_areas": null,
       "grid_template_columns": null,
       "grid_template_rows": null,
       "height": null,
       "justify_content": null,
       "justify_items": null,
       "left": null,
       "margin": null,
       "max_height": null,
       "max_width": null,
       "min_height": null,
       "min_width": null,
       "object_fit": null,
       "object_position": null,
       "order": null,
       "overflow": null,
       "overflow_x": null,
       "overflow_y": null,
       "padding": null,
       "right": null,
       "top": null,
       "visibility": null,
       "width": null
      }
     },
     "4673e2fdeaee4752a0dfdf5cf84487ac": {
      "model_module": "@jupyter-widgets/controls",
      "model_module_version": "1.5.0",
      "model_name": "FloatProgressModel",
      "state": {
       "_dom_classes": [],
       "_model_module": "@jupyter-widgets/controls",
       "_model_module_version": "1.5.0",
       "_model_name": "FloatProgressModel",
       "_view_count": null,
       "_view_module": "@jupyter-widgets/controls",
       "_view_module_version": "1.5.0",
       "_view_name": "ProgressView",
       "bar_style": "success",
       "description": "",
       "description_tooltip": null,
       "layout": "IPY_MODEL_13488511d0974f01a8a7ebac0081b853",
       "max": 85.0,
       "min": 0.0,
       "orientation": "horizontal",
       "style": "IPY_MODEL_8ecf771eba3e41cc91ff5a5d5e2cb331",
       "value": 85.0
      }
     },
     "50bef9aea1a24be6b6c63d01cd500c64": {
      "model_module": "@jupyter-widgets/base",
      "model_module_version": "1.2.0",
      "model_name": "LayoutModel",
      "state": {
       "_model_module": "@jupyter-widgets/base",
       "_model_module_version": "1.2.0",
       "_model_name": "LayoutModel",
       "_view_count": null,
       "_view_module": "@jupyter-widgets/base",
       "_view_module_version": "1.2.0",
       "_view_name": "LayoutView",
       "align_content": null,
       "align_items": null,
       "align_self": null,
       "border": null,
       "bottom": null,
       "display": null,
       "flex": null,
       "flex_flow": null,
       "grid_area": null,
       "grid_auto_columns": null,
       "grid_auto_flow": null,
       "grid_auto_rows": null,
       "grid_column": null,
       "grid_gap": null,
       "grid_row": null,
       "grid_template_areas": null,
       "grid_template_columns": null,
       "grid_template_rows": null,
       "height": null,
       "justify_content": null,
       "justify_items": null,
       "left": null,
       "margin": null,
       "max_height": null,
       "max_width": null,
       "min_height": null,
       "min_width": null,
       "object_fit": null,
       "object_position": null,
       "order": null,
       "overflow": null,
       "overflow_x": null,
       "overflow_y": null,
       "padding": null,
       "right": null,
       "top": null,
       "visibility": null,
       "width": null
      }
     },
     "546898b0cf14465d9e0732dff5d278d2": {
      "model_module": "@jupyter-widgets/controls",
      "model_module_version": "1.5.0",
      "model_name": "HTMLModel",
      "state": {
       "_dom_classes": [],
       "_model_module": "@jupyter-widgets/controls",
       "_model_module_version": "1.5.0",
       "_model_name": "HTMLModel",
       "_view_count": null,
       "_view_module": "@jupyter-widgets/controls",
       "_view_module_version": "1.5.0",
       "_view_name": "HTMLView",
       "description": "",
       "description_tooltip": null,
       "layout": "IPY_MODEL_e12c8ce220754800ab3da8ce8815792f",
       "placeholder": "​",
       "style": "IPY_MODEL_bcebe1b9b35c4bedb3a303d586ae477a",
       "value": "generation_config.json: 100%"
      }
     },
     "56042b37a6664fc9bef2eb14cfea0471": {
      "model_module": "@jupyter-widgets/controls",
      "model_module_version": "1.5.0",
      "model_name": "HTMLModel",
      "state": {
       "_dom_classes": [],
       "_model_module": "@jupyter-widgets/controls",
       "_model_module_version": "1.5.0",
       "_model_name": "HTMLModel",
       "_view_count": null,
       "_view_module": "@jupyter-widgets/controls",
       "_view_module_version": "1.5.0",
       "_view_name": "HTMLView",
       "description": "",
       "description_tooltip": null,
       "layout": "IPY_MODEL_a07d017eca6d4cc2a16ec966ef784cfa",
       "placeholder": "​",
       "style": "IPY_MODEL_b619fa23b4d34daeb0ba0d125ffa2b00",
       "value": "#0: 100%"
      }
     },
     "57ce5f88f94a41768ff37e3db4693bad": {
      "model_module": "@jupyter-widgets/controls",
      "model_module_version": "1.5.0",
      "model_name": "DescriptionStyleModel",
      "state": {
       "_model_module": "@jupyter-widgets/controls",
       "_model_module_version": "1.5.0",
       "_model_name": "DescriptionStyleModel",
       "_view_count": null,
       "_view_module": "@jupyter-widgets/base",
       "_view_module_version": "1.2.0",
       "_view_name": "StyleView",
       "description_width": ""
      }
     },
     "5b6dbbc43dc0499984099e7e835bba24": {
      "model_module": "@jupyter-widgets/controls",
      "model_module_version": "1.5.0",
      "model_name": "DescriptionStyleModel",
      "state": {
       "_model_module": "@jupyter-widgets/controls",
       "_model_module_version": "1.5.0",
       "_model_name": "DescriptionStyleModel",
       "_view_count": null,
       "_view_module": "@jupyter-widgets/base",
       "_view_module_version": "1.2.0",
       "_view_name": "StyleView",
       "description_width": ""
      }
     },
     "5c683d41a43441e6bae5c4259e4f45ba": {
      "model_module": "@jupyter-widgets/controls",
      "model_module_version": "1.5.0",
      "model_name": "HTMLModel",
      "state": {
       "_dom_classes": [],
       "_model_module": "@jupyter-widgets/controls",
       "_model_module_version": "1.5.0",
       "_model_name": "HTMLModel",
       "_view_count": null,
       "_view_module": "@jupyter-widgets/controls",
       "_view_module_version": "1.5.0",
       "_view_name": "HTMLView",
       "description": "",
       "description_tooltip": null,
       "layout": "IPY_MODEL_cc99ee667e8c42a39016efa2eb209823",
       "placeholder": "​",
       "style": "IPY_MODEL_5b6dbbc43dc0499984099e7e835bba24",
       "value": "#0: 100%"
      }
     },
     "6573bcc4b25a48cba638a61701ea77cf": {
      "model_module": "@jupyter-widgets/base",
      "model_module_version": "1.2.0",
      "model_name": "LayoutModel",
      "state": {
       "_model_module": "@jupyter-widgets/base",
       "_model_module_version": "1.2.0",
       "_model_name": "LayoutModel",
       "_view_count": null,
       "_view_module": "@jupyter-widgets/base",
       "_view_module_version": "1.2.0",
       "_view_name": "LayoutView",
       "align_content": null,
       "align_items": null,
       "align_self": null,
       "border": null,
       "bottom": null,
       "display": null,
       "flex": null,
       "flex_flow": null,
       "grid_area": null,
       "grid_auto_columns": null,
       "grid_auto_flow": null,
       "grid_auto_rows": null,
       "grid_column": null,
       "grid_gap": null,
       "grid_row": null,
       "grid_template_areas": null,
       "grid_template_columns": null,
       "grid_template_rows": null,
       "height": null,
       "justify_content": null,
       "justify_items": null,
       "left": null,
       "margin": null,
       "max_height": null,
       "max_width": null,
       "min_height": null,
       "min_width": null,
       "object_fit": null,
       "object_position": null,
       "order": null,
       "overflow": null,
       "overflow_x": null,
       "overflow_y": null,
       "padding": null,
       "right": null,
       "top": null,
       "visibility": null,
       "width": null
      }
     },
     "69c29f6084514807860dc358074fb8c5": {
      "model_module": "@jupyter-widgets/controls",
      "model_module_version": "1.5.0",
      "model_name": "HTMLModel",
      "state": {
       "_dom_classes": [],
       "_model_module": "@jupyter-widgets/controls",
       "_model_module_version": "1.5.0",
       "_model_name": "HTMLModel",
       "_view_count": null,
       "_view_module": "@jupyter-widgets/controls",
       "_view_module_version": "1.5.0",
       "_view_name": "HTMLView",
       "description": "",
       "description_tooltip": null,
       "layout": "IPY_MODEL_ce065f938a0f4d75be61865b1000f169",
       "placeholder": "​",
       "style": "IPY_MODEL_57ce5f88f94a41768ff37e3db4693bad",
       "value": " 86/86 [00:05&lt;00:00, 32.67ex/s]"
      }
     },
     "71921429e984462c83129fba94f52628": {
      "model_module": "@jupyter-widgets/controls",
      "model_module_version": "1.5.0",
      "model_name": "HBoxModel",
      "state": {
       "_dom_classes": [],
       "_model_module": "@jupyter-widgets/controls",
       "_model_module_version": "1.5.0",
       "_model_name": "HBoxModel",
       "_view_count": null,
       "_view_module": "@jupyter-widgets/controls",
       "_view_module_version": "1.5.0",
       "_view_name": "HBoxView",
       "box_style": "",
       "children": [
        "IPY_MODEL_5c683d41a43441e6bae5c4259e4f45ba",
        "IPY_MODEL_075c60ea2b40499aab50ad29fd7dda32",
        "IPY_MODEL_69c29f6084514807860dc358074fb8c5"
       ],
       "layout": "IPY_MODEL_50bef9aea1a24be6b6c63d01cd500c64"
      }
     },
     "788329af013e4b6a87f96cd2a6df5a1b": {
      "model_module": "@jupyter-widgets/controls",
      "model_module_version": "1.5.0",
      "model_name": "HTMLModel",
      "state": {
       "_dom_classes": [],
       "_model_module": "@jupyter-widgets/controls",
       "_model_module_version": "1.5.0",
       "_model_name": "HTMLModel",
       "_view_count": null,
       "_view_module": "@jupyter-widgets/controls",
       "_view_module_version": "1.5.0",
       "_view_name": "HTMLView",
       "description": "",
       "description_tooltip": null,
       "layout": "IPY_MODEL_8063556368544041a7c23e2b7016b941",
       "placeholder": "​",
       "style": "IPY_MODEL_2d4df823851841efaf5433030b102011",
       "value": "#1: 100%"
      }
     },
     "8063556368544041a7c23e2b7016b941": {
      "model_module": "@jupyter-widgets/base",
      "model_module_version": "1.2.0",
      "model_name": "LayoutModel",
      "state": {
       "_model_module": "@jupyter-widgets/base",
       "_model_module_version": "1.2.0",
       "_model_name": "LayoutModel",
       "_view_count": null,
       "_view_module": "@jupyter-widgets/base",
       "_view_module_version": "1.2.0",
       "_view_name": "LayoutView",
       "align_content": null,
       "align_items": null,
       "align_self": null,
       "border": null,
       "bottom": null,
       "display": null,
       "flex": null,
       "flex_flow": null,
       "grid_area": null,
       "grid_auto_columns": null,
       "grid_auto_flow": null,
       "grid_auto_rows": null,
       "grid_column": null,
       "grid_gap": null,
       "grid_row": null,
       "grid_template_areas": null,
       "grid_template_columns": null,
       "grid_template_rows": null,
       "height": null,
       "justify_content": null,
       "justify_items": null,
       "left": null,
       "margin": null,
       "max_height": null,
       "max_width": null,
       "min_height": null,
       "min_width": null,
       "object_fit": null,
       "object_position": null,
       "order": null,
       "overflow": null,
       "overflow_x": null,
       "overflow_y": null,
       "padding": null,
       "right": null,
       "top": null,
       "visibility": null,
       "width": null
      }
     },
     "83524113953740fcbbc057af6e822e99": {
      "model_module": "@jupyter-widgets/controls",
      "model_module_version": "1.5.0",
      "model_name": "FloatProgressModel",
      "state": {
       "_dom_classes": [],
       "_model_module": "@jupyter-widgets/controls",
       "_model_module_version": "1.5.0",
       "_model_name": "FloatProgressModel",
       "_view_count": null,
       "_view_module": "@jupyter-widgets/controls",
       "_view_module_version": "1.5.0",
       "_view_name": "ProgressView",
       "bar_style": "success",
       "description": "",
       "description_tooltip": null,
       "layout": "IPY_MODEL_0dad532dfaa74265a8c74623d491874d",
       "max": 3755.0,
       "min": 0.0,
       "orientation": "horizontal",
       "style": "IPY_MODEL_9369a9f6643241dbafc329c693ecfa5c",
       "value": 3755.0
      }
     },
     "84b554474e614bcfa97639a999c76737": {
      "model_module": "@jupyter-widgets/controls",
      "model_module_version": "1.5.0",
      "model_name": "HBoxModel",
      "state": {
       "_dom_classes": [],
       "_model_module": "@jupyter-widgets/controls",
       "_model_module_version": "1.5.0",
       "_model_name": "HBoxModel",
       "_view_count": null,
       "_view_module": "@jupyter-widgets/controls",
       "_view_module_version": "1.5.0",
       "_view_name": "HBoxView",
       "box_style": "",
       "children": [
        "IPY_MODEL_546898b0cf14465d9e0732dff5d278d2",
        "IPY_MODEL_83524113953740fcbbc057af6e822e99",
        "IPY_MODEL_28077d6f58994da3b7d2f1b80e4baab6"
       ],
       "layout": "IPY_MODEL_2ed38eb203d44453ac69393d17d27258"
      }
     },
     "84f7c039ace948f9b0bd67b014ae258a": {
      "model_module": "@jupyter-widgets/controls",
      "model_module_version": "1.5.0",
      "model_name": "DescriptionStyleModel",
      "state": {
       "_model_module": "@jupyter-widgets/controls",
       "_model_module_version": "1.5.0",
       "_model_name": "DescriptionStyleModel",
       "_view_count": null,
       "_view_module": "@jupyter-widgets/base",
       "_view_module_version": "1.2.0",
       "_view_name": "StyleView",
       "description_width": ""
      }
     },
     "860e18b6adf04c23a1b8b32ca429925d": {
      "model_module": "@jupyter-widgets/controls",
      "model_module_version": "1.5.0",
      "model_name": "DescriptionStyleModel",
      "state": {
       "_model_module": "@jupyter-widgets/controls",
       "_model_module_version": "1.5.0",
       "_model_name": "DescriptionStyleModel",
       "_view_count": null,
       "_view_module": "@jupyter-widgets/base",
       "_view_module_version": "1.2.0",
       "_view_name": "StyleView",
       "description_width": ""
      }
     },
     "884410a6b1a547e6b81475032bd2e6aa": {
      "model_module": "@jupyter-widgets/base",
      "model_module_version": "1.2.0",
      "model_name": "LayoutModel",
      "state": {
       "_model_module": "@jupyter-widgets/base",
       "_model_module_version": "1.2.0",
       "_model_name": "LayoutModel",
       "_view_count": null,
       "_view_module": "@jupyter-widgets/base",
       "_view_module_version": "1.2.0",
       "_view_name": "LayoutView",
       "align_content": null,
       "align_items": null,
       "align_self": null,
       "border": null,
       "bottom": null,
       "display": null,
       "flex": null,
       "flex_flow": null,
       "grid_area": null,
       "grid_auto_columns": null,
       "grid_auto_flow": null,
       "grid_auto_rows": null,
       "grid_column": null,
       "grid_gap": null,
       "grid_row": null,
       "grid_template_areas": null,
       "grid_template_columns": null,
       "grid_template_rows": null,
       "height": null,
       "justify_content": null,
       "justify_items": null,
       "left": null,
       "margin": null,
       "max_height": null,
       "max_width": null,
       "min_height": null,
       "min_width": null,
       "object_fit": null,
       "object_position": null,
       "order": null,
       "overflow": null,
       "overflow_x": null,
       "overflow_y": null,
       "padding": null,
       "right": null,
       "top": null,
       "visibility": null,
       "width": null
      }
     },
     "8ecf771eba3e41cc91ff5a5d5e2cb331": {
      "model_module": "@jupyter-widgets/controls",
      "model_module_version": "1.5.0",
      "model_name": "ProgressStyleModel",
      "state": {
       "_model_module": "@jupyter-widgets/controls",
       "_model_module_version": "1.5.0",
       "_model_name": "ProgressStyleModel",
       "_view_count": null,
       "_view_module": "@jupyter-widgets/base",
       "_view_module_version": "1.2.0",
       "_view_name": "StyleView",
       "bar_color": null,
       "description_width": ""
      }
     },
     "9369a9f6643241dbafc329c693ecfa5c": {
      "model_module": "@jupyter-widgets/controls",
      "model_module_version": "1.5.0",
      "model_name": "ProgressStyleModel",
      "state": {
       "_model_module": "@jupyter-widgets/controls",
       "_model_module_version": "1.5.0",
       "_model_name": "ProgressStyleModel",
       "_view_count": null,
       "_view_module": "@jupyter-widgets/base",
       "_view_module_version": "1.2.0",
       "_view_name": "StyleView",
       "bar_color": null,
       "description_width": ""
      }
     },
     "9a06fd35e2d24b5894abc496a335d411": {
      "model_module": "@jupyter-widgets/controls",
      "model_module_version": "1.5.0",
      "model_name": "ProgressStyleModel",
      "state": {
       "_model_module": "@jupyter-widgets/controls",
       "_model_module_version": "1.5.0",
       "_model_name": "ProgressStyleModel",
       "_view_count": null,
       "_view_module": "@jupyter-widgets/base",
       "_view_module_version": "1.2.0",
       "_view_name": "StyleView",
       "bar_color": null,
       "description_width": ""
      }
     },
     "9ba212e2382f4bccac6c3ada37d608bb": {
      "model_module": "@jupyter-widgets/controls",
      "model_module_version": "1.5.0",
      "model_name": "HBoxModel",
      "state": {
       "_dom_classes": [],
       "_model_module": "@jupyter-widgets/controls",
       "_model_module_version": "1.5.0",
       "_model_name": "HBoxModel",
       "_view_count": null,
       "_view_module": "@jupyter-widgets/controls",
       "_view_module_version": "1.5.0",
       "_view_name": "HBoxView",
       "box_style": "",
       "children": [
        "IPY_MODEL_56042b37a6664fc9bef2eb14cfea0471",
        "IPY_MODEL_f91eab42eb9a49068a469d91027940b9",
        "IPY_MODEL_e9121c1a1cca44abb2add960370e7d3d"
       ],
       "layout": "IPY_MODEL_0e3d44c1725d464bae66885160c54961"
      }
     },
     "9fffad5930e74284b5ceee5a25d2569e": {
      "model_module": "@jupyter-widgets/controls",
      "model_module_version": "1.5.0",
      "model_name": "DescriptionStyleModel",
      "state": {
       "_model_module": "@jupyter-widgets/controls",
       "_model_module_version": "1.5.0",
       "_model_name": "DescriptionStyleModel",
       "_view_count": null,
       "_view_module": "@jupyter-widgets/base",
       "_view_module_version": "1.2.0",
       "_view_name": "StyleView",
       "description_width": ""
      }
     },
     "a07d017eca6d4cc2a16ec966ef784cfa": {
      "model_module": "@jupyter-widgets/base",
      "model_module_version": "1.2.0",
      "model_name": "LayoutModel",
      "state": {
       "_model_module": "@jupyter-widgets/base",
       "_model_module_version": "1.2.0",
       "_model_name": "LayoutModel",
       "_view_count": null,
       "_view_module": "@jupyter-widgets/base",
       "_view_module_version": "1.2.0",
       "_view_name": "LayoutView",
       "align_content": null,
       "align_items": null,
       "align_self": null,
       "border": null,
       "bottom": null,
       "display": null,
       "flex": null,
       "flex_flow": null,
       "grid_area": null,
       "grid_auto_columns": null,
       "grid_auto_flow": null,
       "grid_auto_rows": null,
       "grid_column": null,
       "grid_gap": null,
       "grid_row": null,
       "grid_template_areas": null,
       "grid_template_columns": null,
       "grid_template_rows": null,
       "height": null,
       "justify_content": null,
       "justify_items": null,
       "left": null,
       "margin": null,
       "max_height": null,
       "max_width": null,
       "min_height": null,
       "min_width": null,
       "object_fit": null,
       "object_position": null,
       "order": null,
       "overflow": null,
       "overflow_x": null,
       "overflow_y": null,
       "padding": null,
       "right": null,
       "top": null,
       "visibility": null,
       "width": null
      }
     },
     "aa8d8b717624415ebc9c0bd9fcd0f25f": {
      "model_module": "@jupyter-widgets/base",
      "model_module_version": "1.2.0",
      "model_name": "LayoutModel",
      "state": {
       "_model_module": "@jupyter-widgets/base",
       "_model_module_version": "1.2.0",
       "_model_name": "LayoutModel",
       "_view_count": null,
       "_view_module": "@jupyter-widgets/base",
       "_view_module_version": "1.2.0",
       "_view_name": "LayoutView",
       "align_content": null,
       "align_items": null,
       "align_self": null,
       "border": null,
       "bottom": null,
       "display": null,
       "flex": null,
       "flex_flow": null,
       "grid_area": null,
       "grid_auto_columns": null,
       "grid_auto_flow": null,
       "grid_auto_rows": null,
       "grid_column": null,
       "grid_gap": null,
       "grid_row": null,
       "grid_template_areas": null,
       "grid_template_columns": null,
       "grid_template_rows": null,
       "height": null,
       "justify_content": null,
       "justify_items": null,
       "left": null,
       "margin": null,
       "max_height": null,
       "max_width": null,
       "min_height": null,
       "min_width": null,
       "object_fit": null,
       "object_position": null,
       "order": null,
       "overflow": null,
       "overflow_x": null,
       "overflow_y": null,
       "padding": null,
       "right": null,
       "top": null,
       "visibility": null,
       "width": null
      }
     },
     "ad621fda00484b6e813f9cde9dd2d274": {
      "model_module": "@jupyter-widgets/controls",
      "model_module_version": "1.5.0",
      "model_name": "DescriptionStyleModel",
      "state": {
       "_model_module": "@jupyter-widgets/controls",
       "_model_module_version": "1.5.0",
       "_model_name": "DescriptionStyleModel",
       "_view_count": null,
       "_view_module": "@jupyter-widgets/base",
       "_view_module_version": "1.2.0",
       "_view_name": "StyleView",
       "description_width": ""
      }
     },
     "b02244eb19dd46af961cdfc8a543b2de": {
      "model_module": "@jupyter-widgets/controls",
      "model_module_version": "1.5.0",
      "model_name": "HBoxModel",
      "state": {
       "_dom_classes": [],
       "_model_module": "@jupyter-widgets/controls",
       "_model_module_version": "1.5.0",
       "_model_name": "HBoxModel",
       "_view_count": null,
       "_view_module": "@jupyter-widgets/controls",
       "_view_module_version": "1.5.0",
       "_view_name": "HBoxView",
       "box_style": "",
       "children": [
        "IPY_MODEL_bd9c8466e22e4b0eb80e004603795e8b",
        "IPY_MODEL_01c67465be014f84b1cf44833409ae4d",
        "IPY_MODEL_d055d9370d4b4a9abb09d08388ad92e6"
       ],
       "layout": "IPY_MODEL_884410a6b1a547e6b81475032bd2e6aa"
      }
     },
     "b0c18803077c4a16b6f4caff9ea50a63": {
      "model_module": "@jupyter-widgets/base",
      "model_module_version": "1.2.0",
      "model_name": "LayoutModel",
      "state": {
       "_model_module": "@jupyter-widgets/base",
       "_model_module_version": "1.2.0",
       "_model_name": "LayoutModel",
       "_view_count": null,
       "_view_module": "@jupyter-widgets/base",
       "_view_module_version": "1.2.0",
       "_view_name": "LayoutView",
       "align_content": null,
       "align_items": null,
       "align_self": null,
       "border": null,
       "bottom": null,
       "display": null,
       "flex": null,
       "flex_flow": null,
       "grid_area": null,
       "grid_auto_columns": null,
       "grid_auto_flow": null,
       "grid_auto_rows": null,
       "grid_column": null,
       "grid_gap": null,
       "grid_row": null,
       "grid_template_areas": null,
       "grid_template_columns": null,
       "grid_template_rows": null,
       "height": null,
       "justify_content": null,
       "justify_items": null,
       "left": null,
       "margin": null,
       "max_height": null,
       "max_width": null,
       "min_height": null,
       "min_width": null,
       "object_fit": null,
       "object_position": null,
       "order": null,
       "overflow": null,
       "overflow_x": null,
       "overflow_y": null,
       "padding": null,
       "right": null,
       "top": null,
       "visibility": null,
       "width": null
      }
     },
     "b619fa23b4d34daeb0ba0d125ffa2b00": {
      "model_module": "@jupyter-widgets/controls",
      "model_module_version": "1.5.0",
      "model_name": "DescriptionStyleModel",
      "state": {
       "_model_module": "@jupyter-widgets/controls",
       "_model_module_version": "1.5.0",
       "_model_name": "DescriptionStyleModel",
       "_view_count": null,
       "_view_module": "@jupyter-widgets/base",
       "_view_module_version": "1.2.0",
       "_view_name": "StyleView",
       "description_width": ""
      }
     },
     "bc311c73c0c549ed83b27babca86f2bc": {
      "model_module": "@jupyter-widgets/base",
      "model_module_version": "1.2.0",
      "model_name": "LayoutModel",
      "state": {
       "_model_module": "@jupyter-widgets/base",
       "_model_module_version": "1.2.0",
       "_model_name": "LayoutModel",
       "_view_count": null,
       "_view_module": "@jupyter-widgets/base",
       "_view_module_version": "1.2.0",
       "_view_name": "LayoutView",
       "align_content": null,
       "align_items": null,
       "align_self": null,
       "border": null,
       "bottom": null,
       "display": null,
       "flex": null,
       "flex_flow": null,
       "grid_area": null,
       "grid_auto_columns": null,
       "grid_auto_flow": null,
       "grid_auto_rows": null,
       "grid_column": null,
       "grid_gap": null,
       "grid_row": null,
       "grid_template_areas": null,
       "grid_template_columns": null,
       "grid_template_rows": null,
       "height": null,
       "justify_content": null,
       "justify_items": null,
       "left": null,
       "margin": null,
       "max_height": null,
       "max_width": null,
       "min_height": null,
       "min_width": null,
       "object_fit": null,
       "object_position": null,
       "order": null,
       "overflow": null,
       "overflow_x": null,
       "overflow_y": null,
       "padding": null,
       "right": null,
       "top": null,
       "visibility": null,
       "width": null
      }
     },
     "bcebe1b9b35c4bedb3a303d586ae477a": {
      "model_module": "@jupyter-widgets/controls",
      "model_module_version": "1.5.0",
      "model_name": "DescriptionStyleModel",
      "state": {
       "_model_module": "@jupyter-widgets/controls",
       "_model_module_version": "1.5.0",
       "_model_name": "DescriptionStyleModel",
       "_view_count": null,
       "_view_module": "@jupyter-widgets/base",
       "_view_module_version": "1.2.0",
       "_view_name": "StyleView",
       "description_width": ""
      }
     },
     "bd9c8466e22e4b0eb80e004603795e8b": {
      "model_module": "@jupyter-widgets/controls",
      "model_module_version": "1.5.0",
      "model_name": "HTMLModel",
      "state": {
       "_dom_classes": [],
       "_model_module": "@jupyter-widgets/controls",
       "_model_module_version": "1.5.0",
       "_model_name": "HTMLModel",
       "_view_count": null,
       "_view_module": "@jupyter-widgets/controls",
       "_view_module_version": "1.5.0",
       "_view_name": "HTMLView",
       "description": "",
       "description_tooltip": null,
       "layout": "IPY_MODEL_6573bcc4b25a48cba638a61701ea77cf",
       "placeholder": "​",
       "style": "IPY_MODEL_bf1892a6fc0542cf91a0ada9c9b323af",
       "value": "#1: 100%"
      }
     },
     "bf1892a6fc0542cf91a0ada9c9b323af": {
      "model_module": "@jupyter-widgets/controls",
      "model_module_version": "1.5.0",
      "model_name": "DescriptionStyleModel",
      "state": {
       "_model_module": "@jupyter-widgets/controls",
       "_model_module_version": "1.5.0",
       "_model_name": "DescriptionStyleModel",
       "_view_count": null,
       "_view_module": "@jupyter-widgets/base",
       "_view_module_version": "1.2.0",
       "_view_name": "StyleView",
       "description_width": ""
      }
     },
     "bf7caca448094efbbdfcf50d399356c6": {
      "model_module": "@jupyter-widgets/base",
      "model_module_version": "1.2.0",
      "model_name": "LayoutModel",
      "state": {
       "_model_module": "@jupyter-widgets/base",
       "_model_module_version": "1.2.0",
       "_model_name": "LayoutModel",
       "_view_count": null,
       "_view_module": "@jupyter-widgets/base",
       "_view_module_version": "1.2.0",
       "_view_name": "LayoutView",
       "align_content": null,
       "align_items": null,
       "align_self": null,
       "border": null,
       "bottom": null,
       "display": null,
       "flex": null,
       "flex_flow": null,
       "grid_area": null,
       "grid_auto_columns": null,
       "grid_auto_flow": null,
       "grid_auto_rows": null,
       "grid_column": null,
       "grid_gap": null,
       "grid_row": null,
       "grid_template_areas": null,
       "grid_template_columns": null,
       "grid_template_rows": null,
       "height": null,
       "justify_content": null,
       "justify_items": null,
       "left": null,
       "margin": null,
       "max_height": null,
       "max_width": null,
       "min_height": null,
       "min_width": null,
       "object_fit": null,
       "object_position": null,
       "order": null,
       "overflow": null,
       "overflow_x": null,
       "overflow_y": null,
       "padding": null,
       "right": null,
       "top": null,
       "visibility": null,
       "width": null
      }
     },
     "c56dd41ee00343638bc51f24fa8090f6": {
      "model_module": "@jupyter-widgets/controls",
      "model_module_version": "1.5.0",
      "model_name": "HTMLModel",
      "state": {
       "_dom_classes": [],
       "_model_module": "@jupyter-widgets/controls",
       "_model_module_version": "1.5.0",
       "_model_name": "HTMLModel",
       "_view_count": null,
       "_view_module": "@jupyter-widgets/controls",
       "_view_module_version": "1.5.0",
       "_view_name": "HTMLView",
       "description": "",
       "description_tooltip": null,
       "layout": "IPY_MODEL_e20bf8bfd5fd4620b9061660b022d31f",
       "placeholder": "​",
       "style": "IPY_MODEL_860e18b6adf04c23a1b8b32ca429925d",
       "value": " 85/85 [00:05&lt;00:00, 33.29ex/s]"
      }
     },
     "c748cecaf07c45efa75d8530f37fce6f": {
      "model_module": "@jupyter-widgets/base",
      "model_module_version": "1.2.0",
      "model_name": "LayoutModel",
      "state": {
       "_model_module": "@jupyter-widgets/base",
       "_model_module_version": "1.2.0",
       "_model_name": "LayoutModel",
       "_view_count": null,
       "_view_module": "@jupyter-widgets/base",
       "_view_module_version": "1.2.0",
       "_view_name": "LayoutView",
       "align_content": null,
       "align_items": null,
       "align_self": null,
       "border": null,
       "bottom": null,
       "display": null,
       "flex": null,
       "flex_flow": null,
       "grid_area": null,
       "grid_auto_columns": null,
       "grid_auto_flow": null,
       "grid_auto_rows": null,
       "grid_column": null,
       "grid_gap": null,
       "grid_row": null,
       "grid_template_areas": null,
       "grid_template_columns": null,
       "grid_template_rows": null,
       "height": null,
       "justify_content": null,
       "justify_items": null,
       "left": null,
       "margin": null,
       "max_height": null,
       "max_width": null,
       "min_height": null,
       "min_width": null,
       "object_fit": null,
       "object_position": null,
       "order": null,
       "overflow": null,
       "overflow_x": null,
       "overflow_y": null,
       "padding": null,
       "right": null,
       "top": null,
       "visibility": null,
       "width": null
      }
     },
     "cc99ee667e8c42a39016efa2eb209823": {
      "model_module": "@jupyter-widgets/base",
      "model_module_version": "1.2.0",
      "model_name": "LayoutModel",
      "state": {
       "_model_module": "@jupyter-widgets/base",
       "_model_module_version": "1.2.0",
       "_model_name": "LayoutModel",
       "_view_count": null,
       "_view_module": "@jupyter-widgets/base",
       "_view_module_version": "1.2.0",
       "_view_name": "LayoutView",
       "align_content": null,
       "align_items": null,
       "align_self": null,
       "border": null,
       "bottom": null,
       "display": null,
       "flex": null,
       "flex_flow": null,
       "grid_area": null,
       "grid_auto_columns": null,
       "grid_auto_flow": null,
       "grid_auto_rows": null,
       "grid_column": null,
       "grid_gap": null,
       "grid_row": null,
       "grid_template_areas": null,
       "grid_template_columns": null,
       "grid_template_rows": null,
       "height": null,
       "justify_content": null,
       "justify_items": null,
       "left": null,
       "margin": null,
       "max_height": null,
       "max_width": null,
       "min_height": null,
       "min_width": null,
       "object_fit": null,
       "object_position": null,
       "order": null,
       "overflow": null,
       "overflow_x": null,
       "overflow_y": null,
       "padding": null,
       "right": null,
       "top": null,
       "visibility": null,
       "width": null
      }
     },
     "ce065f938a0f4d75be61865b1000f169": {
      "model_module": "@jupyter-widgets/base",
      "model_module_version": "1.2.0",
      "model_name": "LayoutModel",
      "state": {
       "_model_module": "@jupyter-widgets/base",
       "_model_module_version": "1.2.0",
       "_model_name": "LayoutModel",
       "_view_count": null,
       "_view_module": "@jupyter-widgets/base",
       "_view_module_version": "1.2.0",
       "_view_name": "LayoutView",
       "align_content": null,
       "align_items": null,
       "align_self": null,
       "border": null,
       "bottom": null,
       "display": null,
       "flex": null,
       "flex_flow": null,
       "grid_area": null,
       "grid_auto_columns": null,
       "grid_auto_flow": null,
       "grid_auto_rows": null,
       "grid_column": null,
       "grid_gap": null,
       "grid_row": null,
       "grid_template_areas": null,
       "grid_template_columns": null,
       "grid_template_rows": null,
       "height": null,
       "justify_content": null,
       "justify_items": null,
       "left": null,
       "margin": null,
       "max_height": null,
       "max_width": null,
       "min_height": null,
       "min_width": null,
       "object_fit": null,
       "object_position": null,
       "order": null,
       "overflow": null,
       "overflow_x": null,
       "overflow_y": null,
       "padding": null,
       "right": null,
       "top": null,
       "visibility": null,
       "width": null
      }
     },
     "d055d9370d4b4a9abb09d08388ad92e6": {
      "model_module": "@jupyter-widgets/controls",
      "model_module_version": "1.5.0",
      "model_name": "HTMLModel",
      "state": {
       "_dom_classes": [],
       "_model_module": "@jupyter-widgets/controls",
       "_model_module_version": "1.5.0",
       "_model_name": "HTMLModel",
       "_view_count": null,
       "_view_module": "@jupyter-widgets/controls",
       "_view_module_version": "1.5.0",
       "_view_name": "HTMLView",
       "description": "",
       "description_tooltip": null,
       "layout": "IPY_MODEL_aa8d8b717624415ebc9c0bd9fcd0f25f",
       "placeholder": "​",
       "style": "IPY_MODEL_ad621fda00484b6e813f9cde9dd2d274",
       "value": " 8439/8439 [04:43&lt;00:00, 35.95ex/s]"
      }
     },
     "e12c8ce220754800ab3da8ce8815792f": {
      "model_module": "@jupyter-widgets/base",
      "model_module_version": "1.2.0",
      "model_name": "LayoutModel",
      "state": {
       "_model_module": "@jupyter-widgets/base",
       "_model_module_version": "1.2.0",
       "_model_name": "LayoutModel",
       "_view_count": null,
       "_view_module": "@jupyter-widgets/base",
       "_view_module_version": "1.2.0",
       "_view_name": "LayoutView",
       "align_content": null,
       "align_items": null,
       "align_self": null,
       "border": null,
       "bottom": null,
       "display": null,
       "flex": null,
       "flex_flow": null,
       "grid_area": null,
       "grid_auto_columns": null,
       "grid_auto_flow": null,
       "grid_auto_rows": null,
       "grid_column": null,
       "grid_gap": null,
       "grid_row": null,
       "grid_template_areas": null,
       "grid_template_columns": null,
       "grid_template_rows": null,
       "height": null,
       "justify_content": null,
       "justify_items": null,
       "left": null,
       "margin": null,
       "max_height": null,
       "max_width": null,
       "min_height": null,
       "min_width": null,
       "object_fit": null,
       "object_position": null,
       "order": null,
       "overflow": null,
       "overflow_x": null,
       "overflow_y": null,
       "padding": null,
       "right": null,
       "top": null,
       "visibility": null,
       "width": null
      }
     },
     "e20bf8bfd5fd4620b9061660b022d31f": {
      "model_module": "@jupyter-widgets/base",
      "model_module_version": "1.2.0",
      "model_name": "LayoutModel",
      "state": {
       "_model_module": "@jupyter-widgets/base",
       "_model_module_version": "1.2.0",
       "_model_name": "LayoutModel",
       "_view_count": null,
       "_view_module": "@jupyter-widgets/base",
       "_view_module_version": "1.2.0",
       "_view_name": "LayoutView",
       "align_content": null,
       "align_items": null,
       "align_self": null,
       "border": null,
       "bottom": null,
       "display": null,
       "flex": null,
       "flex_flow": null,
       "grid_area": null,
       "grid_auto_columns": null,
       "grid_auto_flow": null,
       "grid_auto_rows": null,
       "grid_column": null,
       "grid_gap": null,
       "grid_row": null,
       "grid_template_areas": null,
       "grid_template_columns": null,
       "grid_template_rows": null,
       "height": null,
       "justify_content": null,
       "justify_items": null,
       "left": null,
       "margin": null,
       "max_height": null,
       "max_width": null,
       "min_height": null,
       "min_width": null,
       "object_fit": null,
       "object_position": null,
       "order": null,
       "overflow": null,
       "overflow_x": null,
       "overflow_y": null,
       "padding": null,
       "right": null,
       "top": null,
       "visibility": null,
       "width": null
      }
     },
     "e73931c0856c41eda59f66931944d6a5": {
      "model_module": "@jupyter-widgets/controls",
      "model_module_version": "1.5.0",
      "model_name": "ProgressStyleModel",
      "state": {
       "_model_module": "@jupyter-widgets/controls",
       "_model_module_version": "1.5.0",
       "_model_name": "ProgressStyleModel",
       "_view_count": null,
       "_view_module": "@jupyter-widgets/base",
       "_view_module_version": "1.2.0",
       "_view_name": "StyleView",
       "bar_color": null,
       "description_width": ""
      }
     },
     "e9121c1a1cca44abb2add960370e7d3d": {
      "model_module": "@jupyter-widgets/controls",
      "model_module_version": "1.5.0",
      "model_name": "HTMLModel",
      "state": {
       "_dom_classes": [],
       "_model_module": "@jupyter-widgets/controls",
       "_model_module_version": "1.5.0",
       "_model_name": "HTMLModel",
       "_view_count": null,
       "_view_module": "@jupyter-widgets/controls",
       "_view_module_version": "1.5.0",
       "_view_name": "HTMLView",
       "description": "",
       "description_tooltip": null,
       "layout": "IPY_MODEL_c748cecaf07c45efa75d8530f37fce6f",
       "placeholder": "​",
       "style": "IPY_MODEL_9fffad5930e74284b5ceee5a25d2569e",
       "value": " 8439/8439 [04:44&lt;00:00, 37.69ex/s]"
      }
     },
     "f91eab42eb9a49068a469d91027940b9": {
      "model_module": "@jupyter-widgets/controls",
      "model_module_version": "1.5.0",
      "model_name": "FloatProgressModel",
      "state": {
       "_dom_classes": [],
       "_model_module": "@jupyter-widgets/controls",
       "_model_module_version": "1.5.0",
       "_model_name": "FloatProgressModel",
       "_view_count": null,
       "_view_module": "@jupyter-widgets/controls",
       "_view_module_version": "1.5.0",
       "_view_name": "ProgressView",
       "bar_style": "success",
       "description": "",
       "description_tooltip": null,
       "layout": "IPY_MODEL_bc311c73c0c549ed83b27babca86f2bc",
       "max": 8439.0,
       "min": 0.0,
       "orientation": "horizontal",
       "style": "IPY_MODEL_e73931c0856c41eda59f66931944d6a5",
       "value": 8439.0
      }
     }
    },
    "version_major": 2,
    "version_minor": 0
   }
  }
 },
 "nbformat": 4,
 "nbformat_minor": 5
}
