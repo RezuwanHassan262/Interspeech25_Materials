{
 "cells": [
  {
   "cell_type": "code",
   "execution_count": null,
   "metadata": {
    "id": "oRCLQz3YH5FO"
   },
   "outputs": [],
   "source": [
    "from google.colab import drive\n",
    "drive.mount(\"/content/drive\")\n",
    "\n",
    "%cd /content/drive/MyDrive/path/to/data"
   ]
  },
  {
   "cell_type": "code",
   "execution_count": null,
   "metadata": {
    "id": "vLhi5nuRIE1f"
   },
   "outputs": [],
   "source": [
    "!pip install sqlalchemy==2.0.36"
   ]
  },
  {
   "cell_type": "code",
   "execution_count": null,
   "metadata": {
    "id": "HdtWjqQbIIvf"
   },
   "outputs": [],
   "source": [
    "from sqlalchemy import create_engine, Column, Date, Integer, String, ForeignKey\n",
    "from sqlalchemy.orm import declarative_base, sessionmaker"
   ]
  },
  {
   "cell_type": "markdown",
   "metadata": {
    "id": "MT9ln36vIMsv"
   },
   "source": [
    "# Models"
   ]
  },
  {
   "cell_type": "code",
   "execution_count": null,
   "metadata": {
    "id": "FJf4WsJkIKcn"
   },
   "outputs": [],
   "source": [
    "BASE = declarative_base()\n",
    "\n",
    "\n",
    "class LabelboxLog(BASE):\n",
    "    __tablename__ = \"labelbox_log\"\n",
    "    task_id = Column(\"task_id\", String, primary_key=True)\n",
    "    district = Column(\"district\", String)\n",
    "    date = Column(\"date\", Date)\n",
    "    synced_rows = Column(\"synced_rows\", Integer)\n",
    "    total = Column(\"total\", Integer)\n",
    "\n",
    "    def __init__(self, id, date, district, synced_rows, total):\n",
    "        self.task_id = id\n",
    "        self.date = date\n",
    "        self.district = district\n",
    "        self.synced_rows = synced_rows\n",
    "        self.total = total\n",
    "\n",
    "\n",
    "class ReviewSheetLog(BASE):\n",
    "    __tablename__ = \"reviewsheet_log\"\n",
    "    id = Column(\"id\", Integer, primary_key=True, autoincrement=True)\n",
    "    task_id = Column(\"task_id\", String, ForeignKey(\"labelbox_log.task_id\"))\n",
    "    sheetname = Column(\"sheetname\", String)\n",
    "    prev_count = Column(\"prev_count\", Integer)\n",
    "    curr_count = Column(\"curr_count\", Integer)\n",
    "    task_type = Column(\"task_type\", String)\n",
    "\n",
    "    def __init__(self, id, date, sheetname, prev_count, curr_count, task_type):\n",
    "        self.task_id = id\n",
    "        self.sheetname = sheetname\n",
    "        self.prev_count = prev_count\n",
    "        self.curr_count = curr_count\n",
    "        self.task_type = task_type\n",
    "\n",
    "\n",
    "class ProjectCursor(BASE):\n",
    "    __tablename__ = \"cursor\"\n",
    "    district = Column(\"district\", String, primary_key=True)\n",
    "    cursor = Column(\"cursor\", String)\n",
    "\n",
    "    def __init__(self, district, cursor):\n",
    "        self.district = district\n",
    "        self.cursor = cursor"
   ]
  },
  {
   "cell_type": "markdown",
   "metadata": {
    "id": "TJzRi-OjIQXv"
   },
   "source": [
    "# Database connection"
   ]
  },
  {
   "cell_type": "code",
   "execution_count": null,
   "metadata": {
    "id": "rJBnb627IOM3"
   },
   "outputs": [],
   "source": [
    "db_engine = create_engine(url=\"sqlite:////content/drive/MyDrive/path/to/Metadata.db\")\n",
    "Session = sessionmaker(db_engine)\n",
    "session = Session()"
   ]
  },
  {
   "cell_type": "markdown",
   "metadata": {
    "id": "Bi5pn4gaITCG"
   },
   "source": [
    "### WARNING\n",
    "Making changes via `BASE` can delete all contents of Metadata.db. Use proper migration scripts for making changes"
   ]
  },
  {
   "cell_type": "code",
   "execution_count": null,
   "metadata": {
    "id": "rg9qjTrOImKX"
   },
   "outputs": [],
   "source": [
    "BASE.metadata.create_all(db_engine)"
   ]
  }
 ],
 "metadata": {
  "colab": {
   "authorship_tag": "ABX9TyMVrxQhXKKGuTqkY4mGUtyq",
   "provenance": []
  },
  "kernelspec": {
   "display_name": "Python 3",
   "name": "python3"
  },
  "language_info": {
   "name": "python"
  }
 },
 "nbformat": 4,
 "nbformat_minor": 0
}
