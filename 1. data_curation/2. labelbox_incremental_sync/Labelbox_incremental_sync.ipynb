{
 "cells": [
  {
   "cell_type": "code",
   "execution_count": null,
   "metadata": {
    "colab": {
     "base_uri": "https://localhost:8080/"
    },
    "executionInfo": {
     "elapsed": 34033,
     "status": "ok",
     "timestamp": 1737643711412,
     "user": {
      "displayName": "research bengaliai",
      "userId": "05206161916899795889"
     },
     "user_tz": -360
    },
    "id": "aB5_3No-9DVU",
    "outputId": "4ca1611f-7732-4399-ccc1-114eead96235"
   },
   "outputs": [],
   "source": [
    "from google.colab import drive\n",
    "drive.mount('/content/drive')"
   ]
  },
  {
   "cell_type": "code",
   "execution_count": null,
   "metadata": {
    "colab": {
     "base_uri": "https://localhost:8080/"
    },
    "executionInfo": {
     "elapsed": 15523,
     "status": "ok",
     "timestamp": 1737643728814,
     "user": {
      "displayName": "research bengaliai",
      "userId": "05206161916899795889"
     },
     "user_tz": -360
    },
    "id": "9AvtPq8b9Zbo",
    "outputId": "ec14b4e4-cb82-467f-c629-ab53a7b7d305"
   },
   "outputs": [],
   "source": [
    "!pip install -q \"labelbox[data]\"\n",
    "!pip install sqlalchemy==2.0.36"
   ]
  },
  {
   "cell_type": "code",
   "execution_count": null,
   "metadata": {
    "id": "BlSbhZu29k3Q"
   },
   "outputs": [],
   "source": [
    "import pandas as pd\n",
    "from labelbox import Client\n",
    "import re\n",
    "from datetime import datetime, timezone\n",
    "from uuid import uuid4\n",
    "import numpy as np\n",
    "from IPython.display import display_html\n",
    "import os\n",
    "import shutil\n",
    "\n",
    "from sqlalchemy import create_engine, select, update, text\n",
    "from sqlalchemy.ext.automap import automap_base\n",
    "from sqlalchemy.orm import sessionmaker"
   ]
  },
  {
   "cell_type": "markdown",
   "metadata": {
    "id": "5jS09UWe9pMg"
   },
   "source": [
    "# Database connection"
   ]
  },
  {
   "cell_type": "code",
   "execution_count": null,
   "metadata": {
    "id": "TS42LviP9n7Q"
   },
   "outputs": [],
   "source": [
    "db_engine = create_engine()\n",
    "Session = sessionmaker(db_engine)\n",
    "session = Session()\n",
    "\n",
    "Base = automap_base()\n",
    "Base.prepare(db_engine)\n",
    "\n",
    "LabelboxLog = Base.classes.labelbox_log\n",
    "ReviewSheetLog = Base.classes.reviewsheet_log\n",
    "ProjectCursor = Base.classes.cursor"
   ]
  },
  {
   "cell_type": "markdown",
   "metadata": {
    "id": "26cK-6wc91rn"
   },
   "source": [
    "# CONNETORS\n",
    "\n",
    "\n",
    "LabelboxLog\n",
    "\n",
    "| task_id | district | date | synced_rows | total |\n",
    "| :-: | :-: | :-: | :-: | :-: |\n",
    "| 1fg49-6I | Sylhet | 12-12-2024 | 89 | 7086 |\n",
    "| 45g-s462 | Sandwip | 21-12-2024 | 89 | 789 |\n",
    "\n",
    "\n",
    "ProjectCursor\n",
    "\n",
    "| district | cursor |\n",
    "| :-: | :-: |\n",
    "| Sylhet | 2024-12-25T06:30:12+00:00 |\n",
    "| Chittagong | 2024-06-25T08:30:12+00:00 |\n",
    "\n",
    "\n",
    "Reviewsheet destination\n",
    "\n",
    "| task_id | sheetname | prev_count | curr_count | task_type |\n",
    "| :-: | :-: | :-: | :-: | :-: |\n",
    "| 1fg49-6I | Sylhet Data | 500 | 589 | append |\n",
    "| 1fg49-6I | Ashraful | 20 | 60 | append |\n",
    "| 1fg49-6I | Dipa | 0 | 29 | new sheet |\n",
    "| 1fg49-6I | Monisha | 20 | 40 | append |"
   ]
  },
  {
   "cell_type": "code",
   "execution_count": null,
   "metadata": {
    "id": "B5dju0Wf9ye_"
   },
   "outputs": [],
   "source": [
    "class LabelboxSource():\n",
    "    def __init__(self, api_key, project_id, district):\n",
    "        client = Client(api_key = api_key)\n",
    "        self.project_id = project_id\n",
    "        self.project = client.get_project(project_id)\n",
    "        self.district = district\n",
    "\n",
    "    def get_new_or_updatd_data(self):\n",
    "        \"\"\"Return most recently transcribed data with a unique id\"\"\"\n",
    "        try:\n",
    "            cursor = session.execute(\n",
    "                select(ProjectCursor.cursor).where(ProjectCursor.district == self.district)\n",
    "            ).first()[0]\n",
    "        except TypeError:\n",
    "            cursor = None\n",
    "\n",
    "        stream = self.get_labelbox_data(cursor)\n",
    "        lb_df = self.load_labelbox_data_into_dataframe(stream)\n",
    "\n",
    "        if cursor != None:\n",
    "            lb_df = lb_df.query('updated_at > @ cursor')\n",
    "        if lb_df.shape[0] > 0:\n",
    "            if cursor != None:\n",
    "                session.execute(\n",
    "                    update(ProjectCursor).\n",
    "                    where(ProjectCursor.district == self.district).\n",
    "                    values(cursor = lb_df.updated_at.max())\n",
    "                )\n",
    "            else:\n",
    "                session.add(ProjectCursor(\n",
    "                    district = district, cursor = lb_df.updated_at.max())\n",
    "                )\n",
    "        # log actions\n",
    "        TASK_ID = str(uuid4())\n",
    "        session.add(LabelboxLog(\n",
    "            task_id = TASK_ID,\n",
    "            district = self.district,\n",
    "            date = datetime.today(),\n",
    "            synced_rows = lb_df.shape[0],\n",
    "            total = self.project.data_row_count\n",
    "        ))\n",
    "        return lb_df, TASK_ID\n",
    "\n",
    "    def get_labelbox_data(self, cursor:str|None=None):\n",
    "        if cursor != None:\n",
    "            x = re.findall(r\"\\d+-\\d+-\\d+T\\d+:\\d+:\\d+\\d+|\\+\\d+:\\d+\", cursor) # remove decimal from seconds\n",
    "            cursor = x[0] + x[1]\n",
    "        print(\"Fetching Data from Labelbox for:\", self.project.name)\n",
    "        export_task = self.project.export(\n",
    "            filters = {\n",
    "                \"last_activity_at\" : [cursor, datetime.now(timezone.utc).isoformat(timespec='seconds')]\n",
    "            }, params = {\n",
    "                \"label_details\" : True, \"performance_details\" : True\n",
    "            }\n",
    "        )\n",
    "        export_task.wait_till_done()\n",
    "        return export_task.get_buffered_stream()\n",
    "\n",
    "    def load_labelbox_data_into_dataframe(self, stream):\n",
    "        dataframe_rows = []\n",
    "        for datarow in stream:\n",
    "            if len(datarow.json[\"projects\"][self.project_id][\"labels\"]) == 0:\n",
    "                continue\n",
    "            try:\n",
    "                transcript = datarow.json[\"projects\"][self.project_id][\"labels\"][0][\"annotations\"][\"classifications\"][0][\"text_answer\"][\"content\"]\n",
    "            except:\n",
    "                continue\n",
    "\n",
    "            ext_id = datarow.json[\"data_row\"][\"external_id\"]\n",
    "            og_name = re.findall(r\"(rec_\\d*)\", ext_id)[0] + '.wav'\n",
    "            annotator = datarow.json[\"projects\"][self.project_id][\"labels\"][0][\"label_details\"][\"created_by\"]\n",
    "            updated_at = datarow.json[\"projects\"][self.project_id][\"labels\"][0][\"label_details\"][\"updated_at\"]\n",
    "            time = datarow.json['projects'][self.project_id]['labels'][0]['performance_details']['seconds_to_create']\n",
    "\n",
    "            dataframe_rows.append([og_name, ext_id, annotator, transcript, self.district, time, updated_at])\n",
    "\n",
    "        return pd.DataFrame(\n",
    "            dataframe_rows,\n",
    "            columns = [\n",
    "                \"original_file\", \"External_ID\",\n",
    "                \"annotator\", \"transcripts\",\n",
    "                \"district\", \"time\", \"updated_at\"\n",
    "            ]\n",
    "        )\n",
    "\n",
    "    def get_annotator_info(self):\n",
    "        output = {}\n",
    "        for member in self.project.members():\n",
    "            if member.role().name in [\"Labeler\", \"Reviewer\"]:\n",
    "                output[member.user().name] = member.user().email\n",
    "        return output\n",
    "\n",
    "\n",
    "#-------------------------------------------------------------------------------\n",
    "# REVIEWSHEET destination\n",
    "#-------------------------------------------------------------------------------\n",
    "class Reviewsheet:\n",
    "    def __init__(self, sheet_path, district):\n",
    "        self.sheet_path = sheet_path\n",
    "        self.district = district\n",
    "        try:\n",
    "            self.sheet = pd.ExcelFile(sheet_path)\n",
    "        except FileNotFoundError:\n",
    "            self.sheet = None\n",
    "\n",
    "    def load_data_into_reviewsheet(self, source_df:pd.DataFrame, name_to_email:dict, TASK_ID:str):\n",
    "        if self.sheet != None:\n",
    "            print(\"Appending data\")\n",
    "            self.append_to_workbook(source_df, name_to_email, TASK_ID)\n",
    "        else:\n",
    "            print(\"Creating new workbook\")\n",
    "            self.create_new_workbook(source_df, name_to_email, TASK_ID)\n",
    "\n",
    "    def create_new_workbook(self, source_df, name_to_email, TASK_ID):\n",
    "        with pd.ExcelWriter(self.sheet_path, mode=\"w\") as writer:\n",
    "            source_df.to_excel(writer, sheet_name=self.district+\" Data\", header=True, index=False)\n",
    "            session.add(ReviewSheetLog(\n",
    "                task_id = TASK_ID,\n",
    "                sheetname = self.district+\" Data\",\n",
    "                prev_count = 0,\n",
    "                curr_count = source_df.shape[0],\n",
    "                task_type = \"new sheet\"\n",
    "            ))\n",
    "            for name, email in name_to_email.items():\n",
    "                source_df.query('annotator == @email')\\\n",
    "                .to_excel(writer, sheet_name=name, header=True, index=False)\n",
    "                session.add(ReviewSheetLog(\n",
    "                    task_id = TASK_ID,\n",
    "                    sheetname = name,\n",
    "                    prev_count = 0,\n",
    "                    curr_count = source_df.query('annotator == @email').shape[0],\n",
    "                    task_type = \"new sheet\"\n",
    "                ))\n",
    "\n",
    "    def append_to_workbook(self, source_df, name_to_email, TASK_ID):\n",
    "        with pd.ExcelWriter(\n",
    "            self.sheet_path,\n",
    "            mode = 'a',\n",
    "            engine = \"openpyxl\",\n",
    "            if_sheet_exists=\"overlay\"\n",
    "        ) as writer:\n",
    "\n",
    "            # <district> Data sheet, e.g. \"Sylhet Data\", \"Chittagong Data\" etc.\n",
    "            prev_count = self.sheet.parse(self.district+\" Data\").shape[0]\n",
    "            task_type = \"append\"\n",
    "            if source_df.shape[0] == 0:\n",
    "                task_type = \"no change\"\n",
    "            source_df.to_excel(writer, sheet_name=self.district+\" Data\", header=False,\n",
    "                               startrow= prev_count + 1)\n",
    "            session.add(ReviewSheetLog(\n",
    "                task_id = TASK_ID,\n",
    "                sheetname = self.district+\" Data\",\n",
    "                prev_count = prev_count,\n",
    "                curr_count = prev_count + source_df.shape[0],\n",
    "                task_type = task_type\n",
    "            ))\n",
    "\n",
    "            # Individual annotator sheets\n",
    "            for name, email in name_to_email.items():\n",
    "                new_data = source_df.query('annotator == @email')\n",
    "                prev_count = 0\n",
    "\n",
    "                # when no new transcripts by annotator\n",
    "                if new_data.shape[0] == 0:\n",
    "                    task_type = \"no change\"\n",
    "                    prev_count = pd.read_excel(self.sheet_path, sheet_name=name).shape[0]\n",
    "\n",
    "                # new annotator joined the team\n",
    "                elif name not in self.sheet.sheet_names:\n",
    "                    task_type = \"new sheet\"\n",
    "                    new_data.to_excel(writer, sheet_name=name, header=True)\n",
    "\n",
    "                # new transcripts by annotator\n",
    "                else:\n",
    "                    task_type = \"append\"\n",
    "                    prev_count = pd.read_excel(self.sheet_path, sheet_name=name).shape[0]\n",
    "                    new_data.to_excel(writer, sheet_name=name, startrow=prev_count+1, header=False)\n",
    "\n",
    "                session.add(ReviewSheetLog(\n",
    "                    task_id = TASK_ID,\n",
    "                    sheetname = name,\n",
    "                    prev_count = prev_count,\n",
    "                    curr_count = prev_count + new_data.shape[0],\n",
    "                    task_type = task_type\n",
    "                ))"
   ]
  },
  {
   "cell_type": "markdown",
   "metadata": {
    "id": "NQapV4Hx9-vf"
   },
   "source": [
    "# Backup and version control"
   ]
  },
  {
   "cell_type": "code",
   "execution_count": null,
   "metadata": {
    "id": "2GGEXLy995sP"
   },
   "outputs": [],
   "source": [
    "def back_up(src, dst, district):\n",
    "    previous_version = session.execute(text(\"\"\"\n",
    "    SELECT task_id FROM (\n",
    "        SELECT task_id, MAX(\"date\") FROM labelbox_log\n",
    "        WHERE labelbox_log.district = :district\n",
    "    );\n",
    "    \"\"\"), {\"district\":district}).one()[0]\n",
    "    version_path = os.path.join(dst, f\"{district}-{previous_version}.xlsx\")\n",
    "    try:\n",
    "        shutil.copy2(src, os.path.join(dst, f\"{district}-{previous_version}.xlsx\"))\n",
    "        print(\"Backing up | path:\", version_path)\n",
    "    except FileNotFoundError:\n",
    "        return None"
   ]
  },
  {
   "cell_type": "markdown",
   "metadata": {
    "id": "CLiZpqIn-E23"
   },
   "source": [
    "# Task configuration"
   ]
  },
  {
   "cell_type": "code",
   "execution_count": null,
   "metadata": {
    "id": "fNlTVE-I-BN3"
   },
   "outputs": [],
   "source": [
    "district = \"\"\n",
    "backup_path = \"\"\n",
    "sheet_path = f\"base/{district}_Data.xlsx\""
   ]
  },
  {
   "cell_type": "code",
   "execution_count": null,
   "metadata": {
    "id": "G_JolyXc-Oq3"
   },
   "outputs": [],
   "source": [
    "PROJECT_ID = pd.read_excel(\"\", index_col=0)\n",
    "\n",
    "labelbox_src = LabelboxSource(\n",
    "    api_key= \"\",\n",
    "    project_id = PROJECT_ID.loc[district, \"id\"],\n",
    "    district = district\n",
    ")\n",
    "\n",
    "review_dst = Reviewsheet(\n",
    "    sheet_path = f\"base/{sheet_path}\",\n",
    "    district = district\n",
    ")"
   ]
  },
  {
   "cell_type": "markdown",
   "metadata": {
    "id": "qGztJ_p6-It_"
   },
   "source": [
    "# Run Task"
   ]
  },
  {
   "cell_type": "code",
   "execution_count": null,
   "metadata": {
    "id": "f514UYl9-Ian"
   },
   "outputs": [],
   "source": [
    "# RUN TASK -------------------------------------------------\n",
    "labelbox_df, TASK_ID = labelbox_src.get_new_or_updatd_data()\n",
    "name_to_email = labelbox_src.get_annotator_info()\n",
    "print()\n",
    "back_up(review_dst.sheet_path, backup_path, district)\n",
    "print()\n",
    "review_dst.load_data_into_reviewsheet(labelbox_df, name_to_email, TASK_ID)\n",
    "\n",
    "session.commit()\n",
    "\n",
    "# TASK SUMMARY ---------------------------------------------\n",
    "def display_side_by_side(dfs, titles):\n",
    "    html_str = \"\"\n",
    "    for df, title in zip(dfs, titles):\n",
    "        html_str += f\"<div style='margin: 10px;'><h3 style='text-align: center;'>{title}</h3>{df.to_html(index=False)}</div>\"\n",
    "    display_html(f\"<div style='display: flex; justify-content: space-around;'>{html_str}</div>\", raw=True)\n",
    "\n",
    "labelbox_log = pd.read_sql(f\"select * from labelbox_log where labelbox_log.task_id = '{TASK_ID}'\", db_engine)\n",
    "reviewsheet_log = pd.read_sql(f\"select * from reviewsheet_log where reviewsheet_log.task_id = '{TASK_ID}'\", db_engine)\n",
    "\n",
    "display_side_by_side([labelbox_log, reviewsheet_log], [\"Labelbox\", \"Reviewsheet\"])"
   ]
  }
 ],
 "metadata": {
  "colab": {
   "authorship_tag": "ABX9TyO5EHVdrN9vMFUDpftflckn",
   "provenance": []
  },
  "kernelspec": {
   "display_name": "Python 3",
   "name": "python3"
  },
  "language_info": {
   "name": "python"
  }
 },
 "nbformat": 4,
 "nbformat_minor": 0
}
