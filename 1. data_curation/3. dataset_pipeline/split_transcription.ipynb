{
 "cells": [
  {
   "cell_type": "code",
   "execution_count": 1,
   "id": "54bbf753-0f5c-401b-9f79-c3914faab07c",
   "metadata": {},
   "outputs": [],
   "source": [
    "import pandas as pd\n",
    "import os\n",
    "from glob import glob\n",
    "from tqdm import tqdm\n",
    "import librosa"
   ]
  },
  {
   "cell_type": "code",
   "execution_count": null,
   "id": "feb2c8db-7735-4b04-9647-bd0b9191708c",
   "metadata": {},
   "outputs": [],
   "source": [
    "df = pd.read_excel(\"filtered.xlsx\").drop(columns=[\"file_name\", \"split_type\"])\n",
    "df"
   ]
  },
  {
   "cell_type": "code",
   "execution_count": null,
   "id": "d11619f7-10a1-4266-a8d3-03286e33cfdc",
   "metadata": {},
   "outputs": [],
   "source": [
    "df.district.unique()"
   ]
  },
  {
   "cell_type": "code",
   "execution_count": null,
   "id": "70282066-e2cb-420c-a975-6ed3887bccc3",
   "metadata": {},
   "outputs": [],
   "source": [
    "districts = ['Barishal', 'Chittagong', 'Comilla', 'Habiganj', 'Jhenaidah',\n",
    "       'Kishoreganj', 'Lakshmipur', 'Narail', 'Narsingdi', 'Nilphamari',\n",
    "       'Noakhali', 'Rangpur', 'Sandwip', 'Sylhet', 'Tangail']\n",
    "\n",
    "def split_dataset(df, district):\n",
    "    district = district.lower()\n",
    "    total = df.shape[0]\n",
    "    test = round(0.1*total)\n",
    "    train = total - 2*test # both test and validation is 10% of the data, so 20%\n",
    "\n",
    "    split_type = [[f\"train_{district}_{i+1:04}.wav\", \"train\"] for i in range(train)] \\\n",
    "                + [[f\"test_{district}_{i+1:04}.wav\", \"test\"] for i in range(test)] \\\n",
    "                + [[f\"valid_{district}_{i+1:04}.wav\", \"valid\"] for i in range(test)]\n",
    "\n",
    "    df[[\"file_name\", \"split_type\"]] = split_type\n",
    "    return df[[\"file_name\", \"External_ID\", \"transcripts\", \"district\", \"split_type\"]]\n",
    "    \n",
    "split_df = pd.DataFrame()\n",
    "\n",
    "for district in districts:\n",
    "    df2 = df.query(\"district == @district\").copy()\n",
    "\n",
    "    print(district)\n",
    "    split_df = pd.concat([\n",
    "        split_df, split_dataset(df2, district)\n",
    "    ])\n",
    "split_df"
   ]
  },
  {
   "cell_type": "markdown",
   "id": "7bd68e9d-f858-41c8-a507-769ae53fcdaf",
   "metadata": {},
   "source": [
    "# Export junction table"
   ]
  },
  {
   "cell_type": "code",
   "execution_count": 11,
   "id": "3a1c53d7-37e1-42b2-be6e-36fb283bdfe6",
   "metadata": {},
   "outputs": [],
   "source": [
    "split_df[[\"file_name\", \"External_ID\", \"district\"]].to_excel(\"junction_table.xlsx\", index=False)"
   ]
  },
  {
   "cell_type": "markdown",
   "id": "119dcb76-7c2c-4794-9160-9fb23247d56f",
   "metadata": {},
   "source": [
    "# Export Dev version of split"
   ]
  },
  {
   "cell_type": "code",
   "execution_count": 10,
   "id": "86b342ff-d0d7-43d8-8192-0f46ce8c3d94",
   "metadata": {},
   "outputs": [],
   "source": [
    "split_df.to_excel(\"dev.xlsx\", index=False)\n",
    "split_df.query(\"split_type == 'train'\").to_excel(\"dev_train.xlsx\", index=False)\n",
    "split_df.query(\"split_type == 'test'\").to_excel(\"dev_test.xlsx\", index=False)\n",
    "split_df.query(\"split_type == 'valid'\").to_excel(\"dev_valid.xlsx\", index=False)"
   ]
  },
  {
   "cell_type": "code",
   "execution_count": 4,
   "id": "59182016-a878-4ffc-a182-bc0a51f085b7",
   "metadata": {},
   "outputs": [],
   "source": [
    "districts = ['Barishal', 'Chittagong', 'Comilla', 'Habiganj', 'Jhenaidah',\n",
    "       'Kishoreganj', 'Lakshmipur', 'Narail', 'Narsingdi', 'Nilphamari',\n",
    "       'Noakhali', 'Rangpur', 'Sandwip', 'Sylhet', 'Tangail']\n",
    "df = pd.read_excel(\"dev\\\\dev.xlsx\")\n",
    "\n",
    "for district in districts:\n",
    "    for sp in [\"train\", \"test\", \"valid\"]:\n",
    "        df.query(\"district == @district and split_type == @sp\").to_excel(f\"district_wise\\\\{district}\\\\{district}_{sp}.xlsx\", index=False)"
   ]
  },
  {
   "cell_type": "code",
   "execution_count": 5,
   "id": "9c9f723a-532b-49e8-a722-bc5cd7f3d096",
   "metadata": {},
   "outputs": [],
   "source": [
    "for sp in [\"train\", \"test\", \"valid\"]:\n",
    "    df.query(\"split_type == @sp\")[[\"file_name\", \"transcripts\"]].to_excel(f\"{sp}.xlsx\", index=False)"
   ]
  }
 ],
 "metadata": {
  "kernelspec": {
   "display_name": "Python 3 (ipykernel)",
   "language": "python",
   "name": "python3"
  },
  "language_info": {
   "codemirror_mode": {
    "name": "ipython",
    "version": 3
   },
   "file_extension": ".py",
   "mimetype": "text/x-python",
   "name": "python",
   "nbconvert_exporter": "python",
   "pygments_lexer": "ipython3",
   "version": "3.11.6"
  }
 },
 "nbformat": 4,
 "nbformat_minor": 5
}
