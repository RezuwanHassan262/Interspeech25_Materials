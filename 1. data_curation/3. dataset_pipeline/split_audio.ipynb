{
 "cells": [
  {
   "cell_type": "code",
   "execution_count": 3,
   "id": "6df98061-3847-42eb-9ccf-b16554796605",
   "metadata": {},
   "outputs": [],
   "source": [
    "from pydub import AudioSegment\n",
    "import os\n",
    "from glob import glob\n",
    "import pandas as pd\n",
    "from tqdm import tqdm"
   ]
  },
  {
   "cell_type": "code",
   "execution_count": null,
   "id": "533f1963-27fd-4ec9-9e64-d7134a68318a",
   "metadata": {},
   "outputs": [],
   "source": [
    "df = pd.read_excel(\"junction_table.xlsx\")\n",
    "df"
   ]
  },
  {
   "cell_type": "code",
   "execution_count": null,
   "id": "e1e02acc-59d6-4864-ab3a-f272000b35f9",
   "metadata": {},
   "outputs": [],
   "source": [
    "base = \"\"\n",
    "\n",
    "\n",
    "districts = ['Barishal', 'Chittagong', 'Comilla', 'Habiganj', 'Jhenaidah',\n",
    "       'Kishoreganj', 'Lakshmipur', 'Narail', 'Narsingdi', 'Nilphamari',\n",
    "       'Noakhali', 'Rangpur', 'Sandwip', 'Sylhet', 'Tangail']\n",
    "for district in tqdm(districts):\n",
    "    df2 = df.query(\"district == @district\")\n",
    "    name_pairs = list(zip(df2.file_name, df2.External_ID))\n",
    "    print(district)\n",
    "\n",
    "    for filename, external_id in name_pairs:\n",
    "        src = os.path.join(base, district, \"all\", external_id)\n",
    "        audio = AudioSegment.from_file(src)\n",
    "        \n",
    "        audio.set_frame_rate(16000)\n",
    "        \n",
    "        if \"train\" in filename:\n",
    "            audio.export(os.path.join(os.getcwd(), \"train\", filename), format=\"wav\")\n",
    "            audio.export(os.path.join(os.getcwd(), \"district_wise\", district, \"train\", filename), format=\"wav\")\n",
    "        elif \"test\" in filename:\n",
    "            audio.export(os.path.join(os.getcwd(), \"test\", filename), format=\"wav\")\n",
    "            audio.export(os.path.join(os.getcwd(), \"district_wise\", district, \"test\", filename), format=\"wav\")\n",
    "        elif \"valid\" in filename:\n",
    "            audio.export(os.path.join(os.getcwd(), \"valid\", filename), format=\"wav\")\n",
    "            audio.export(os.path.join(os.getcwd(), \"district_wise\", district, \"valid\", filename), format=\"wav\")\n",
    "        "
   ]
  }
 ],
 "metadata": {
  "kernelspec": {
   "display_name": "Python 3 (ipykernel)",
   "language": "python",
   "name": "python3"
  },
  "language_info": {
   "codemirror_mode": {
    "name": "ipython",
    "version": 3
   },
   "file_extension": ".py",
   "mimetype": "text/x-python",
   "name": "python",
   "nbconvert_exporter": "python",
   "pygments_lexer": "ipython3",
   "version": "3.11.6"
  }
 },
 "nbformat": 4,
 "nbformat_minor": 5
}
