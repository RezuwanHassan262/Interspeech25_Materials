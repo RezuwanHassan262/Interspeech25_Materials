{
 "cells": [
  {
   "cell_type": "code",
   "execution_count": 1,
   "id": "9e5cf48d",
   "metadata": {
    "_cell_guid": "b1076dfc-b9ad-4769-8c92-a6c4dae69d19",
    "_uuid": "8f2839f25d086af736a60e9eeb907d3b93b6e0e5",
    "execution": {
     "iopub.execute_input": "2025-01-24T17:56:08.407716Z",
     "iopub.status.busy": "2025-01-24T17:56:08.407195Z",
     "iopub.status.idle": "2025-01-24T17:57:13.027575Z",
     "shell.execute_reply": "2025-01-24T17:57:13.026225Z"
    },
    "papermill": {
     "duration": 64.63349,
     "end_time": "2025-01-24T17:57:13.029880",
     "exception": false,
     "start_time": "2025-01-24T17:56:08.396390",
     "status": "completed"
    },
    "tags": []
   },
   "outputs": [
    {
     "name": "stdout",
     "output_type": "stream",
     "text": [
      "\u001b[2K     \u001b[90m━━━━━━━━━━━━━━━━━━━━━━━━━━━━━━━━━━━━━━━━\u001b[0m \u001b[32m58.9/58.9 kB\u001b[0m \u001b[31m2.0 MB/s\u001b[0m eta \u001b[36m0:00:00\u001b[0m\r\n",
      "\u001b[2K     \u001b[90m━━━━━━━━━━━━━━━━━━━━━━━━━━━━━━━━━━━━━━━━\u001b[0m \u001b[32m57.6/57.6 kB\u001b[0m \u001b[31m3.2 MB/s\u001b[0m eta \u001b[36m0:00:00\u001b[0m\r\n",
      "\u001b[2K     \u001b[90m━━━━━━━━━━━━━━━━━━━━━━━━━━━━━━━━━━━━━━━━\u001b[0m \u001b[32m175.4/175.4 kB\u001b[0m \u001b[31m7.9 MB/s\u001b[0m eta \u001b[36m0:00:00\u001b[0m\r\n",
      "\u001b[?25h  Preparing metadata (setup.py) ... \u001b[?25l\u001b[?25hdone\r\n",
      "\u001b[2K   \u001b[90m━━━━━━━━━━━━━━━━━━━━━━━━━━━━━━━━━━━━━━━━\u001b[0m \u001b[32m54.4/54.4 kB\u001b[0m \u001b[31m2.8 MB/s\u001b[0m eta \u001b[36m0:00:00\u001b[0m\r\n",
      "\u001b[2K   \u001b[90m━━━━━━━━━━━━━━━━━━━━━━━━━━━━━━━━━━━━━━━━\u001b[0m \u001b[32m26.5/26.5 MB\u001b[0m \u001b[31m48.4 MB/s\u001b[0m eta \u001b[36m0:00:00\u001b[0m\r\n",
      "\u001b[2K   \u001b[90m━━━━━━━━━━━━━━━━━━━━━━━━━━━━━━━━━━━━━━━━\u001b[0m \u001b[32m34.4/34.4 MB\u001b[0m \u001b[31m40.1 MB/s\u001b[0m eta \u001b[36m0:00:00\u001b[0m\r\n",
      "\u001b[2K   \u001b[90m━━━━━━━━━━━━━━━━━━━━━━━━━━━━━━━━━━━━━━━━\u001b[0m \u001b[32m78.4/78.4 kB\u001b[0m \u001b[31m4.3 MB/s\u001b[0m eta \u001b[36m0:00:00\u001b[0m\r\n",
      "\u001b[2K   \u001b[90m━━━━━━━━━━━━━━━━━━━━━━━━━━━━━━━━━━━━━━━━\u001b[0m \u001b[32m1.2/1.2 MB\u001b[0m \u001b[31m33.0 MB/s\u001b[0m eta \u001b[36m0:00:00\u001b[0m\r\n",
      "\u001b[?25h  Building wheel for emoji (setup.py) ... \u001b[?25l\u001b[?25hdone\r\n",
      "\u001b[31mERROR: pip's dependency resolver does not currently take into account all the packages that are installed. This behaviour is the source of the following dependency conflicts.\r\n",
      "kaggle-environments 1.16.10 requires scipy>=1.11.2, but you have scipy 1.10.1 which is incompatible.\r\n",
      "mlxtend 0.23.3 requires scikit-learn>=1.3.1, but you have scikit-learn 1.2.2 which is incompatible.\r\n",
      "plotnine 0.14.4 requires matplotlib>=3.8.0, but you have matplotlib 3.7.5 which is incompatible.\r\n",
      "scikit-image 0.25.0 requires scipy>=1.11.2, but you have scipy 1.10.1 which is incompatible.\u001b[0m\u001b[31m\r\n",
      "\u001b[0m  Preparing metadata (setup.py) ... \u001b[?25l\u001b[?25hdone\r\n",
      "\u001b[2K   \u001b[90m━━━━━━━━━━━━━━━━━━━━━━━━━━━━━━━━━━━━━━━━\u001b[0m \u001b[32m101.6/101.6 kB\u001b[0m \u001b[31m4.2 MB/s\u001b[0m eta \u001b[36m0:00:00\u001b[0m\r\n",
      "\u001b[?25h  Building wheel for docopt (setup.py) ... \u001b[?25l\u001b[?25hdone\r\n",
      "  Preparing metadata (setup.py) ... \u001b[?25l\u001b[?25hdone\r\n",
      "\u001b[2K     \u001b[90m━━━━━━━━━━━━━━━━━━━━━━━━━━━━━━━━━━━━━━━━\u001b[0m \u001b[32m185.0/185.0 kB\u001b[0m \u001b[31m4.8 MB/s\u001b[0m eta \u001b[36m0:00:00\u001b[0m\r\n",
      "\u001b[?25h  Preparing metadata (setup.py) ... \u001b[?25l\u001b[?25hdone\r\n",
      "\u001b[2K     \u001b[90m━━━━━━━━━━━━━━━━━━━━━━━━━━━━━━━━━━━━━━━━\u001b[0m \u001b[32m64.2/64.2 kB\u001b[0m \u001b[31m3.1 MB/s\u001b[0m eta \u001b[36m0:00:00\u001b[0m\r\n",
      "\u001b[?25h  Preparing metadata (setup.py) ... \u001b[?25l\u001b[?25hdone\r\n",
      "  Building wheel for normalizer (setup.py) ... \u001b[?25l\u001b[?25hdone\r\n",
      "  Building wheel for emoji (setup.py) ... \u001b[?25l\u001b[?25hdone\r\n",
      "  Building wheel for ftfy (setup.py) ... \u001b[?25l\u001b[?25hdone\r\n",
      "\u001b[31mERROR: pip's dependency resolver does not currently take into account all the packages that are installed. This behaviour is the source of the following dependency conflicts.\r\n",
      "bnlp-toolkit 4.0.3 requires emoji==1.7.0, but you have emoji 1.4.2 which is incompatible.\r\n",
      "bnlp-toolkit 4.0.3 requires ftfy==6.2.0, but you have ftfy 6.0.3 which is incompatible.\u001b[0m\u001b[31m\r\n",
      "\u001b[0m\u001b[31mERROR: pip's dependency resolver does not currently take into account all the packages that are installed. This behaviour is the source of the following dependency conflicts.\r\n",
      "normalizer 0.0.1 requires emoji==1.4.2, but you have emoji 1.7.0 which is incompatible.\r\n",
      "normalizer 0.0.1 requires ftfy==6.0.3, but you have ftfy 6.2.0 which is incompatible.\u001b[0m\u001b[31m\r\n",
      "\u001b[0m"
     ]
    }
   ],
   "source": [
    "!pip install bnlp-toolkit -q\n",
    "!pip install banglanum2words -q\n",
    "!pip install git+https://github.com/csebuetnlp/normalizer -q\n",
    "!pip install bnunicodenormalizer -q\n",
    "!pip install bnlp-toolkit -q"
   ]
  },
  {
   "cell_type": "code",
   "execution_count": 2,
   "id": "9e18a3f3",
   "metadata": {
    "execution": {
     "iopub.execute_input": "2025-01-24T17:57:13.050341Z",
     "iopub.status.busy": "2025-01-24T17:57:13.049876Z",
     "iopub.status.idle": "2025-01-24T17:57:36.007518Z",
     "shell.execute_reply": "2025-01-24T17:57:36.006021Z"
    },
    "papermill": {
     "duration": 22.970303,
     "end_time": "2025-01-24T17:57:36.009674",
     "exception": false,
     "start_time": "2025-01-24T17:57:13.039371",
     "status": "completed"
    },
    "tags": []
   },
   "outputs": [],
   "source": [
    "import re\n",
    "import os\n",
    "import time\n",
    "import random\n",
    "import numpy as np\n",
    "import pandas as pd\n",
    "from tqdm import tqdm\n",
    "\n",
    "import unicodedata\n",
    "from normalizer import normalize\n",
    "from banglanum2words import num_convert\n",
    "\n",
    "from bnunicodenormalizer import Normalizer \n",
    "from pprint import pprint\n",
    "bnorm=Normalizer()\n",
    "\n",
    "from bnlp import NLTKTokenizer\n",
    "bnltk = NLTKTokenizer()"
   ]
  },
  {
   "cell_type": "code",
   "execution_count": 3,
   "id": "84c94727",
   "metadata": {
    "execution": {
     "iopub.execute_input": "2025-01-24T17:57:36.030066Z",
     "iopub.status.busy": "2025-01-24T17:57:36.029240Z",
     "iopub.status.idle": "2025-01-24T17:57:36.117823Z",
     "shell.execute_reply": "2025-01-24T17:57:36.116520Z"
    },
    "papermill": {
     "duration": 0.100614,
     "end_time": "2025-01-24T17:57:36.119678",
     "exception": false,
     "start_time": "2025-01-24T17:57:36.019064",
     "status": "completed"
    },
    "tags": []
   },
   "outputs": [
    {
     "data": {
      "text/html": [
       "<div>\n",
       "<style scoped>\n",
       "    .dataframe tbody tr th:only-of-type {\n",
       "        vertical-align: middle;\n",
       "    }\n",
       "\n",
       "    .dataframe tbody tr th {\n",
       "        vertical-align: top;\n",
       "    }\n",
       "\n",
       "    .dataframe thead th {\n",
       "        text-align: right;\n",
       "    }\n",
       "</style>\n",
       "<table border=\"1\" class=\"dataframe\">\n",
       "  <thead>\n",
       "    <tr style=\"text-align: right;\">\n",
       "      <th></th>\n",
       "      <th>file_name</th>\n",
       "      <th>transcripts</th>\n",
       "      <th>district</th>\n",
       "    </tr>\n",
       "  </thead>\n",
       "  <tbody>\n",
       "    <tr>\n",
       "      <th>0</th>\n",
       "      <td>test_sandwip (1).wav</td>\n",
       "      <td>হুম, আই দাওয়াত খাইবো। খাইবো অনকা তো বুজি &lt;&gt; হব...</td>\n",
       "      <td>sandwip</td>\n",
       "    </tr>\n",
       "    <tr>\n",
       "      <th>1</th>\n",
       "      <td>test_sandwip (2).wav</td>\n",
       "      <td>এন্নে বিয়া-সাদি চুয়াইছে, ঘরে সংসারও চইলছে, হুম...</td>\n",
       "      <td>sandwip</td>\n",
       "    </tr>\n",
       "    <tr>\n",
       "      <th>2</th>\n",
       "      <td>test_sandwip (3).wav</td>\n",
       "      <td>হুম, হাক্কন হিডা ন নি হারা যাইবো নে? এক্কবারে ...</td>\n",
       "      <td>sandwip</td>\n",
       "    </tr>\n",
       "    <tr>\n",
       "      <th>3</th>\n",
       "      <td>test_sandwip (4).wav</td>\n",
       "      <td>আম-কাডল &lt;&gt; ধর ইয়া আছে, হল আছে তারফরে দুধ আছে আ...</td>\n",
       "      <td>sandwip</td>\n",
       "    </tr>\n",
       "    <tr>\n",
       "      <th>4</th>\n",
       "      <td>test_sandwip (5).wav</td>\n",
       "      <td>এই তুই গোসল কইত্তি ন? হিয়া হরে কইরবো এরি। গোসল...</td>\n",
       "      <td>sandwip</td>\n",
       "    </tr>\n",
       "    <tr>\n",
       "      <th>...</th>\n",
       "      <td>...</td>\n",
       "      <td>...</td>\n",
       "      <td>...</td>\n",
       "    </tr>\n",
       "    <tr>\n",
       "      <th>1695</th>\n",
       "      <td>test_sylhet (364).wav</td>\n",
       "      <td>তার বাদে ব্যাবসা-বানিজ্য, টাখা ফয়সার লেন-দেন, ...</td>\n",
       "      <td>sylhet</td>\n",
       "    </tr>\n",
       "    <tr>\n",
       "      <th>1696</th>\n",
       "      <td>test_sylhet (365).wav</td>\n",
       "      <td>তে দেখা গেছে এই দিকটার মানুষরা এরা, এরার বড়ো শ...</td>\n",
       "      <td>sylhet</td>\n",
       "    </tr>\n",
       "    <tr>\n",
       "      <th>1697</th>\n",
       "      <td>test_sylhet (366).wav</td>\n",
       "      <td>যারা এই ডকুমেন্ট &lt;&gt; দেখায়, এরা খয় যো এরার, এরা...</td>\n",
       "      <td>sylhet</td>\n",
       "    </tr>\n",
       "    <tr>\n",
       "      <th>1698</th>\n",
       "      <td>test_sylhet (367).wav</td>\n",
       "      <td>তারা মনে খরে যে ওইটা, ওইটা আমার রুট। এইযে রুট ...</td>\n",
       "      <td>sylhet</td>\n",
       "    </tr>\n",
       "    <tr>\n",
       "      <th>1699</th>\n",
       "      <td>test_sylhet (368).wav</td>\n",
       "      <td>আমার ওরিজিন যদি আমি বুঝি যে না আমার ওরিজিন ওই ...</td>\n",
       "      <td>sylhet</td>\n",
       "    </tr>\n",
       "  </tbody>\n",
       "</table>\n",
       "<p>1700 rows × 3 columns</p>\n",
       "</div>"
      ],
      "text/plain": [
       "                  file_name  \\\n",
       "0      test_sandwip (1).wav   \n",
       "1      test_sandwip (2).wav   \n",
       "2      test_sandwip (3).wav   \n",
       "3      test_sandwip (4).wav   \n",
       "4      test_sandwip (5).wav   \n",
       "...                     ...   \n",
       "1695  test_sylhet (364).wav   \n",
       "1696  test_sylhet (365).wav   \n",
       "1697  test_sylhet (366).wav   \n",
       "1698  test_sylhet (367).wav   \n",
       "1699  test_sylhet (368).wav   \n",
       "\n",
       "                                            transcripts district  \n",
       "0     হুম, আই দাওয়াত খাইবো। খাইবো অনকা তো বুজি <> হব...  sandwip  \n",
       "1     এন্নে বিয়া-সাদি চুয়াইছে, ঘরে সংসারও চইলছে, হুম...  sandwip  \n",
       "2     হুম, হাক্কন হিডা ন নি হারা যাইবো নে? এক্কবারে ...  sandwip  \n",
       "3     আম-কাডল <> ধর ইয়া আছে, হল আছে তারফরে দুধ আছে আ...  sandwip  \n",
       "4     এই তুই গোসল কইত্তি ন? হিয়া হরে কইরবো এরি। গোসল...  sandwip  \n",
       "...                                                 ...      ...  \n",
       "1695  তার বাদে ব্যাবসা-বানিজ্য, টাখা ফয়সার লেন-দেন, ...   sylhet  \n",
       "1696  তে দেখা গেছে এই দিকটার মানুষরা এরা, এরার বড়ো শ...   sylhet  \n",
       "1697  যারা এই ডকুমেন্ট <> দেখায়, এরা খয় যো এরার, এরা...   sylhet  \n",
       "1698  তারা মনে খরে যে ওইটা, ওইটা আমার রুট। এইযে রুট ...   sylhet  \n",
       "1699  আমার ওরিজিন যদি আমি বুঝি যে না আমার ওরিজিন ওই ...   sylhet  \n",
       "\n",
       "[1700 rows x 3 columns]"
      ]
     },
     "execution_count": 3,
     "metadata": {},
     "output_type": "execute_result"
    }
   ],
   "source": [
    "df = pd.read_csv('/kaggle/input/normalization-quality-testing/test.csv')\n",
    "df"
   ]
  },
  {
   "cell_type": "code",
   "execution_count": 4,
   "id": "d2b2c09c",
   "metadata": {
    "execution": {
     "iopub.execute_input": "2025-01-24T17:57:36.140663Z",
     "iopub.status.busy": "2025-01-24T17:57:36.140257Z",
     "iopub.status.idle": "2025-01-24T17:57:36.163210Z",
     "shell.execute_reply": "2025-01-24T17:57:36.161851Z"
    },
    "papermill": {
     "duration": 0.036038,
     "end_time": "2025-01-24T17:57:36.165343",
     "exception": false,
     "start_time": "2025-01-24T17:57:36.129305",
     "status": "completed"
    },
    "tags": []
   },
   "outputs": [
    {
     "data": {
      "text/html": [
       "<div>\n",
       "<style scoped>\n",
       "    .dataframe tbody tr th:only-of-type {\n",
       "        vertical-align: middle;\n",
       "    }\n",
       "\n",
       "    .dataframe tbody tr th {\n",
       "        vertical-align: top;\n",
       "    }\n",
       "\n",
       "    .dataframe thead th {\n",
       "        text-align: right;\n",
       "    }\n",
       "</style>\n",
       "<table border=\"1\" class=\"dataframe\">\n",
       "  <thead>\n",
       "    <tr style=\"text-align: right;\">\n",
       "      <th></th>\n",
       "      <th>file_name</th>\n",
       "      <th>transcripts</th>\n",
       "      <th>district</th>\n",
       "      <th>sen_len</th>\n",
       "    </tr>\n",
       "  </thead>\n",
       "  <tbody>\n",
       "    <tr>\n",
       "      <th>0</th>\n",
       "      <td>test_sandwip (1).wav</td>\n",
       "      <td>হুম, আই দাওয়াত খাইবো। খাইবো অনকা তো বুজি &lt;&gt; হব...</td>\n",
       "      <td>sandwip</td>\n",
       "      <td>31</td>\n",
       "    </tr>\n",
       "    <tr>\n",
       "      <th>1</th>\n",
       "      <td>test_sandwip (2).wav</td>\n",
       "      <td>এন্নে বিয়া-সাদি চুয়াইছে, ঘরে সংসারও চইলছে, হুম...</td>\n",
       "      <td>sandwip</td>\n",
       "      <td>26</td>\n",
       "    </tr>\n",
       "    <tr>\n",
       "      <th>2</th>\n",
       "      <td>test_sandwip (3).wav</td>\n",
       "      <td>হুম, হাক্কন হিডা ন নি হারা যাইবো নে? এক্কবারে ...</td>\n",
       "      <td>sandwip</td>\n",
       "      <td>36</td>\n",
       "    </tr>\n",
       "    <tr>\n",
       "      <th>3</th>\n",
       "      <td>test_sandwip (4).wav</td>\n",
       "      <td>আম-কাডল &lt;&gt; ধর ইয়া আছে, হল আছে তারফরে দুধ আছে আ...</td>\n",
       "      <td>sandwip</td>\n",
       "      <td>29</td>\n",
       "    </tr>\n",
       "    <tr>\n",
       "      <th>4</th>\n",
       "      <td>test_sandwip (5).wav</td>\n",
       "      <td>এই তুই গোসল কইত্তি ন? হিয়া হরে কইরবো এরি। গোসল...</td>\n",
       "      <td>sandwip</td>\n",
       "      <td>25</td>\n",
       "    </tr>\n",
       "    <tr>\n",
       "      <th>...</th>\n",
       "      <td>...</td>\n",
       "      <td>...</td>\n",
       "      <td>...</td>\n",
       "      <td>...</td>\n",
       "    </tr>\n",
       "    <tr>\n",
       "      <th>1695</th>\n",
       "      <td>test_sylhet (364).wav</td>\n",
       "      <td>তার বাদে ব্যাবসা-বানিজ্য, টাখা ফয়সার লেন-দেন, ...</td>\n",
       "      <td>sylhet</td>\n",
       "      <td>43</td>\n",
       "    </tr>\n",
       "    <tr>\n",
       "      <th>1696</th>\n",
       "      <td>test_sylhet (365).wav</td>\n",
       "      <td>তে দেখা গেছে এই দিকটার মানুষরা এরা, এরার বড়ো শ...</td>\n",
       "      <td>sylhet</td>\n",
       "      <td>41</td>\n",
       "    </tr>\n",
       "    <tr>\n",
       "      <th>1697</th>\n",
       "      <td>test_sylhet (366).wav</td>\n",
       "      <td>যারা এই ডকুমেন্ট &lt;&gt; দেখায়, এরা খয় যো এরার, এরা...</td>\n",
       "      <td>sylhet</td>\n",
       "      <td>43</td>\n",
       "    </tr>\n",
       "    <tr>\n",
       "      <th>1698</th>\n",
       "      <td>test_sylhet (367).wav</td>\n",
       "      <td>তারা মনে খরে যে ওইটা, ওইটা আমার রুট। এইযে রুট ...</td>\n",
       "      <td>sylhet</td>\n",
       "      <td>30</td>\n",
       "    </tr>\n",
       "    <tr>\n",
       "      <th>1699</th>\n",
       "      <td>test_sylhet (368).wav</td>\n",
       "      <td>আমার ওরিজিন যদি আমি বুঝি যে না আমার ওরিজিন ওই ...</td>\n",
       "      <td>sylhet</td>\n",
       "      <td>34</td>\n",
       "    </tr>\n",
       "  </tbody>\n",
       "</table>\n",
       "<p>1700 rows × 4 columns</p>\n",
       "</div>"
      ],
      "text/plain": [
       "                  file_name  \\\n",
       "0      test_sandwip (1).wav   \n",
       "1      test_sandwip (2).wav   \n",
       "2      test_sandwip (3).wav   \n",
       "3      test_sandwip (4).wav   \n",
       "4      test_sandwip (5).wav   \n",
       "...                     ...   \n",
       "1695  test_sylhet (364).wav   \n",
       "1696  test_sylhet (365).wav   \n",
       "1697  test_sylhet (366).wav   \n",
       "1698  test_sylhet (367).wav   \n",
       "1699  test_sylhet (368).wav   \n",
       "\n",
       "                                            transcripts district  sen_len  \n",
       "0     হুম, আই দাওয়াত খাইবো। খাইবো অনকা তো বুজি <> হব...  sandwip       31  \n",
       "1     এন্নে বিয়া-সাদি চুয়াইছে, ঘরে সংসারও চইলছে, হুম...  sandwip       26  \n",
       "2     হুম, হাক্কন হিডা ন নি হারা যাইবো নে? এক্কবারে ...  sandwip       36  \n",
       "3     আম-কাডল <> ধর ইয়া আছে, হল আছে তারফরে দুধ আছে আ...  sandwip       29  \n",
       "4     এই তুই গোসল কইত্তি ন? হিয়া হরে কইরবো এরি। গোসল...  sandwip       25  \n",
       "...                                                 ...      ...      ...  \n",
       "1695  তার বাদে ব্যাবসা-বানিজ্য, টাখা ফয়সার লেন-দেন, ...   sylhet       43  \n",
       "1696  তে দেখা গেছে এই দিকটার মানুষরা এরা, এরার বড়ো শ...   sylhet       41  \n",
       "1697  যারা এই ডকুমেন্ট <> দেখায়, এরা খয় যো এরার, এরা...   sylhet       43  \n",
       "1698  তারা মনে খরে যে ওইটা, ওইটা আমার রুট। এইযে রুট ...   sylhet       30  \n",
       "1699  আমার ওরিজিন যদি আমি বুঝি যে না আমার ওরিজিন ওই ...   sylhet       34  \n",
       "\n",
       "[1700 rows x 4 columns]"
      ]
     },
     "execution_count": 4,
     "metadata": {},
     "output_type": "execute_result"
    }
   ],
   "source": [
    "df['sen_len'] = df['transcripts'].apply(lambda x: len(x.split()))\n",
    "df"
   ]
  },
  {
   "cell_type": "code",
   "execution_count": 5,
   "id": "817113bb",
   "metadata": {
    "execution": {
     "iopub.execute_input": "2025-01-24T17:57:36.186566Z",
     "iopub.status.busy": "2025-01-24T17:57:36.186153Z",
     "iopub.status.idle": "2025-01-24T17:57:36.196567Z",
     "shell.execute_reply": "2025-01-24T17:57:36.195353Z"
    },
    "papermill": {
     "duration": 0.023271,
     "end_time": "2025-01-24T17:57:36.198419",
     "exception": false,
     "start_time": "2025-01-24T17:57:36.175148",
     "status": "completed"
    },
    "tags": []
   },
   "outputs": [
    {
     "data": {
      "text/html": [
       "<div>\n",
       "<style scoped>\n",
       "    .dataframe tbody tr th:only-of-type {\n",
       "        vertical-align: middle;\n",
       "    }\n",
       "\n",
       "    .dataframe tbody tr th {\n",
       "        vertical-align: top;\n",
       "    }\n",
       "\n",
       "    .dataframe thead th {\n",
       "        text-align: right;\n",
       "    }\n",
       "</style>\n",
       "<table border=\"1\" class=\"dataframe\">\n",
       "  <thead>\n",
       "    <tr style=\"text-align: right;\">\n",
       "      <th></th>\n",
       "      <th>file_name</th>\n",
       "      <th>transcripts</th>\n",
       "      <th>district</th>\n",
       "      <th>sen_len</th>\n",
       "    </tr>\n",
       "  </thead>\n",
       "  <tbody>\n",
       "  </tbody>\n",
       "</table>\n",
       "</div>"
      ],
      "text/plain": [
       "Empty DataFrame\n",
       "Columns: [file_name, transcripts, district, sen_len]\n",
       "Index: []"
      ]
     },
     "execution_count": 5,
     "metadata": {},
     "output_type": "execute_result"
    }
   ],
   "source": [
    "df[df['sen_len']==0]"
   ]
  },
  {
   "cell_type": "code",
   "execution_count": null,
   "id": "b7de56c6",
   "metadata": {
    "papermill": {
     "duration": 0.009696,
     "end_time": "2025-01-24T17:57:36.218573",
     "exception": false,
     "start_time": "2025-01-24T17:57:36.208877",
     "status": "completed"
    },
    "tags": []
   },
   "outputs": [],
   "source": []
  },
  {
   "cell_type": "markdown",
   "id": "cb324393",
   "metadata": {
    "papermill": {
     "duration": 0.009585,
     "end_time": "2025-01-24T17:57:36.238324",
     "exception": false,
     "start_time": "2025-01-24T17:57:36.228739",
     "status": "completed"
    },
    "tags": []
   },
   "source": [
    "# Checking the data types present in the dataframe"
   ]
  },
  {
   "cell_type": "code",
   "execution_count": 6,
   "id": "92d43eb8",
   "metadata": {
    "execution": {
     "iopub.execute_input": "2025-01-24T17:57:36.259938Z",
     "iopub.status.busy": "2025-01-24T17:57:36.259478Z",
     "iopub.status.idle": "2025-01-24T17:57:36.268211Z",
     "shell.execute_reply": "2025-01-24T17:57:36.267002Z"
    },
    "papermill": {
     "duration": 0.021735,
     "end_time": "2025-01-24T17:57:36.270085",
     "exception": false,
     "start_time": "2025-01-24T17:57:36.248350",
     "status": "completed"
    },
    "tags": []
   },
   "outputs": [
    {
     "data": {
      "text/plain": [
       "{str: 1700}"
      ]
     },
     "execution_count": 6,
     "metadata": {},
     "output_type": "execute_result"
    }
   ],
   "source": [
    "types = {}\n",
    "\n",
    "for i in df['transcripts']:\n",
    "    t = type(i)\n",
    "    if t not in types:\n",
    "        types[t] = 1\n",
    "    else:\n",
    "        types[t] += 1\n",
    "\n",
    "types"
   ]
  },
  {
   "cell_type": "code",
   "execution_count": 7,
   "id": "d3d9e44d",
   "metadata": {
    "execution": {
     "iopub.execute_input": "2025-01-24T17:57:36.292701Z",
     "iopub.status.busy": "2025-01-24T17:57:36.292283Z",
     "iopub.status.idle": "2025-01-24T17:57:36.299771Z",
     "shell.execute_reply": "2025-01-24T17:57:36.298579Z"
    },
    "papermill": {
     "duration": 0.021172,
     "end_time": "2025-01-24T17:57:36.301815",
     "exception": false,
     "start_time": "2025-01-24T17:57:36.280643",
     "status": "completed"
    },
    "tags": []
   },
   "outputs": [
    {
     "name": "stdout",
     "output_type": "stream",
     "text": [
      "\n",
      "[]\n"
     ]
    }
   ],
   "source": [
    "null_ind = []\n",
    "\n",
    "for index, value in df['transcripts'].items():\n",
    "    if type(value) == float:\n",
    "        null_ind.append(index)\n",
    "        #print(f\"Index: {index}, Value: {value}\")\n",
    "\n",
    "print()\n",
    "print(null_ind)"
   ]
  },
  {
   "cell_type": "code",
   "execution_count": 8,
   "id": "90a2a825",
   "metadata": {
    "execution": {
     "iopub.execute_input": "2025-01-24T17:57:36.324014Z",
     "iopub.status.busy": "2025-01-24T17:57:36.323567Z",
     "iopub.status.idle": "2025-01-24T17:57:36.332845Z",
     "shell.execute_reply": "2025-01-24T17:57:36.331661Z"
    },
    "papermill": {
     "duration": 0.022218,
     "end_time": "2025-01-24T17:57:36.334634",
     "exception": false,
     "start_time": "2025-01-24T17:57:36.312416",
     "status": "completed"
    },
    "tags": []
   },
   "outputs": [
    {
     "data": {
      "text/html": [
       "<div>\n",
       "<style scoped>\n",
       "    .dataframe tbody tr th:only-of-type {\n",
       "        vertical-align: middle;\n",
       "    }\n",
       "\n",
       "    .dataframe tbody tr th {\n",
       "        vertical-align: top;\n",
       "    }\n",
       "\n",
       "    .dataframe thead th {\n",
       "        text-align: right;\n",
       "    }\n",
       "</style>\n",
       "<table border=\"1\" class=\"dataframe\">\n",
       "  <thead>\n",
       "    <tr style=\"text-align: right;\">\n",
       "      <th></th>\n",
       "      <th>file_name</th>\n",
       "      <th>transcripts</th>\n",
       "      <th>district</th>\n",
       "      <th>sen_len</th>\n",
       "    </tr>\n",
       "  </thead>\n",
       "  <tbody>\n",
       "  </tbody>\n",
       "</table>\n",
       "</div>"
      ],
      "text/plain": [
       "Empty DataFrame\n",
       "Columns: [file_name, transcripts, district, sen_len]\n",
       "Index: []"
      ]
     },
     "execution_count": 8,
     "metadata": {},
     "output_type": "execute_result"
    }
   ],
   "source": [
    "df.iloc[null_ind]"
   ]
  },
  {
   "cell_type": "code",
   "execution_count": 9,
   "id": "48c5604f",
   "metadata": {
    "execution": {
     "iopub.execute_input": "2025-01-24T17:57:36.357131Z",
     "iopub.status.busy": "2025-01-24T17:57:36.356692Z",
     "iopub.status.idle": "2025-01-24T17:57:36.367722Z",
     "shell.execute_reply": "2025-01-24T17:57:36.366530Z"
    },
    "papermill": {
     "duration": 0.024259,
     "end_time": "2025-01-24T17:57:36.369818",
     "exception": false,
     "start_time": "2025-01-24T17:57:36.345559",
     "status": "completed"
    },
    "tags": []
   },
   "outputs": [
    {
     "data": {
      "text/html": [
       "<div>\n",
       "<style scoped>\n",
       "    .dataframe tbody tr th:only-of-type {\n",
       "        vertical-align: middle;\n",
       "    }\n",
       "\n",
       "    .dataframe tbody tr th {\n",
       "        vertical-align: top;\n",
       "    }\n",
       "\n",
       "    .dataframe thead th {\n",
       "        text-align: right;\n",
       "    }\n",
       "</style>\n",
       "<table border=\"1\" class=\"dataframe\">\n",
       "  <thead>\n",
       "    <tr style=\"text-align: right;\">\n",
       "      <th></th>\n",
       "      <th>file_name</th>\n",
       "      <th>transcripts</th>\n",
       "      <th>district</th>\n",
       "      <th>sen_len</th>\n",
       "    </tr>\n",
       "  </thead>\n",
       "  <tbody>\n",
       "  </tbody>\n",
       "</table>\n",
       "</div>"
      ],
      "text/plain": [
       "Empty DataFrame\n",
       "Columns: [file_name, transcripts, district, sen_len]\n",
       "Index: []"
      ]
     },
     "execution_count": 9,
     "metadata": {},
     "output_type": "execute_result"
    }
   ],
   "source": [
    "null_mask = df.isnull().any(axis=1)\n",
    "null_rows = df[null_mask]\n",
    "\n",
    "null_rows"
   ]
  },
  {
   "cell_type": "code",
   "execution_count": null,
   "id": "fe72c571",
   "metadata": {
    "papermill": {
     "duration": 0.009969,
     "end_time": "2025-01-24T17:57:36.390323",
     "exception": false,
     "start_time": "2025-01-24T17:57:36.380354",
     "status": "completed"
    },
    "tags": []
   },
   "outputs": [],
   "source": []
  },
  {
   "cell_type": "markdown",
   "id": "f50c2c77",
   "metadata": {
    "papermill": {
     "duration": 0.009735,
     "end_time": "2025-01-24T17:57:36.410314",
     "exception": false,
     "start_time": "2025-01-24T17:57:36.400579",
     "status": "completed"
    },
    "tags": []
   },
   "source": [
    "# Checking for numerical texts (Both Bangla and English)"
   ]
  },
  {
   "cell_type": "code",
   "execution_count": 10,
   "id": "8e037d55",
   "metadata": {
    "execution": {
     "iopub.execute_input": "2025-01-24T17:57:36.435151Z",
     "iopub.status.busy": "2025-01-24T17:57:36.434690Z",
     "iopub.status.idle": "2025-01-24T17:57:36.447951Z",
     "shell.execute_reply": "2025-01-24T17:57:36.446718Z"
    },
    "papermill": {
     "duration": 0.026636,
     "end_time": "2025-01-24T17:57:36.449846",
     "exception": false,
     "start_time": "2025-01-24T17:57:36.423210",
     "status": "completed"
    },
    "tags": []
   },
   "outputs": [
    {
     "data": {
      "text/html": [
       "<div>\n",
       "<style scoped>\n",
       "    .dataframe tbody tr th:only-of-type {\n",
       "        vertical-align: middle;\n",
       "    }\n",
       "\n",
       "    .dataframe tbody tr th {\n",
       "        vertical-align: top;\n",
       "    }\n",
       "\n",
       "    .dataframe thead th {\n",
       "        text-align: right;\n",
       "    }\n",
       "</style>\n",
       "<table border=\"1\" class=\"dataframe\">\n",
       "  <thead>\n",
       "    <tr style=\"text-align: right;\">\n",
       "      <th></th>\n",
       "      <th>file_name</th>\n",
       "      <th>transcripts</th>\n",
       "      <th>district</th>\n",
       "      <th>sen_len</th>\n",
       "    </tr>\n",
       "  </thead>\n",
       "  <tbody>\n",
       "    <tr>\n",
       "      <th>0</th>\n",
       "      <td>test_sandwip (1).wav</td>\n",
       "      <td>হুম, আই দাওয়াত খাইবো। খাইবো অনকা তো বুজি &lt;&gt; হব...</td>\n",
       "      <td>sandwip</td>\n",
       "      <td>31</td>\n",
       "    </tr>\n",
       "    <tr>\n",
       "      <th>1</th>\n",
       "      <td>test_sandwip (2).wav</td>\n",
       "      <td>এন্নে বিয়া-সাদি চুয়াইছে, ঘরে সংসারও চইলছে, হুম...</td>\n",
       "      <td>sandwip</td>\n",
       "      <td>26</td>\n",
       "    </tr>\n",
       "    <tr>\n",
       "      <th>2</th>\n",
       "      <td>test_sandwip (3).wav</td>\n",
       "      <td>হুম, হাক্কন হিডা ন নি হারা যাইবো নে? এক্কবারে ...</td>\n",
       "      <td>sandwip</td>\n",
       "      <td>36</td>\n",
       "    </tr>\n",
       "    <tr>\n",
       "      <th>3</th>\n",
       "      <td>test_sandwip (4).wav</td>\n",
       "      <td>আম-কাডল &lt;&gt; ধর ইয়া আছে, হল আছে তারফরে দুধ আছে আ...</td>\n",
       "      <td>sandwip</td>\n",
       "      <td>29</td>\n",
       "    </tr>\n",
       "    <tr>\n",
       "      <th>4</th>\n",
       "      <td>test_sandwip (5).wav</td>\n",
       "      <td>এই তুই গোসল কইত্তি ন? হিয়া হরে কইরবো এরি। গোসল...</td>\n",
       "      <td>sandwip</td>\n",
       "      <td>25</td>\n",
       "    </tr>\n",
       "    <tr>\n",
       "      <th>...</th>\n",
       "      <td>...</td>\n",
       "      <td>...</td>\n",
       "      <td>...</td>\n",
       "      <td>...</td>\n",
       "    </tr>\n",
       "    <tr>\n",
       "      <th>1695</th>\n",
       "      <td>test_sylhet (364).wav</td>\n",
       "      <td>তার বাদে ব্যাবসা-বানিজ্য, টাখা ফয়সার লেন-দেন, ...</td>\n",
       "      <td>sylhet</td>\n",
       "      <td>43</td>\n",
       "    </tr>\n",
       "    <tr>\n",
       "      <th>1696</th>\n",
       "      <td>test_sylhet (365).wav</td>\n",
       "      <td>তে দেখা গেছে এই দিকটার মানুষরা এরা, এরার বড়ো শ...</td>\n",
       "      <td>sylhet</td>\n",
       "      <td>41</td>\n",
       "    </tr>\n",
       "    <tr>\n",
       "      <th>1697</th>\n",
       "      <td>test_sylhet (366).wav</td>\n",
       "      <td>যারা এই ডকুমেন্ট &lt;&gt; দেখায়, এরা খয় যো এরার, এরা...</td>\n",
       "      <td>sylhet</td>\n",
       "      <td>43</td>\n",
       "    </tr>\n",
       "    <tr>\n",
       "      <th>1698</th>\n",
       "      <td>test_sylhet (367).wav</td>\n",
       "      <td>তারা মনে খরে যে ওইটা, ওইটা আমার রুট। এইযে রুট ...</td>\n",
       "      <td>sylhet</td>\n",
       "      <td>30</td>\n",
       "    </tr>\n",
       "    <tr>\n",
       "      <th>1699</th>\n",
       "      <td>test_sylhet (368).wav</td>\n",
       "      <td>আমার ওরিজিন যদি আমি বুঝি যে না আমার ওরিজিন ওই ...</td>\n",
       "      <td>sylhet</td>\n",
       "      <td>34</td>\n",
       "    </tr>\n",
       "  </tbody>\n",
       "</table>\n",
       "<p>1700 rows × 4 columns</p>\n",
       "</div>"
      ],
      "text/plain": [
       "                  file_name  \\\n",
       "0      test_sandwip (1).wav   \n",
       "1      test_sandwip (2).wav   \n",
       "2      test_sandwip (3).wav   \n",
       "3      test_sandwip (4).wav   \n",
       "4      test_sandwip (5).wav   \n",
       "...                     ...   \n",
       "1695  test_sylhet (364).wav   \n",
       "1696  test_sylhet (365).wav   \n",
       "1697  test_sylhet (366).wav   \n",
       "1698  test_sylhet (367).wav   \n",
       "1699  test_sylhet (368).wav   \n",
       "\n",
       "                                            transcripts district  sen_len  \n",
       "0     হুম, আই দাওয়াত খাইবো। খাইবো অনকা তো বুজি <> হব...  sandwip       31  \n",
       "1     এন্নে বিয়া-সাদি চুয়াইছে, ঘরে সংসারও চইলছে, হুম...  sandwip       26  \n",
       "2     হুম, হাক্কন হিডা ন নি হারা যাইবো নে? এক্কবারে ...  sandwip       36  \n",
       "3     আম-কাডল <> ধর ইয়া আছে, হল আছে তারফরে দুধ আছে আ...  sandwip       29  \n",
       "4     এই তুই গোসল কইত্তি ন? হিয়া হরে কইরবো এরি। গোসল...  sandwip       25  \n",
       "...                                                 ...      ...      ...  \n",
       "1695  তার বাদে ব্যাবসা-বানিজ্য, টাখা ফয়সার লেন-দেন, ...   sylhet       43  \n",
       "1696  তে দেখা গেছে এই দিকটার মানুষরা এরা, এরার বড়ো শ...   sylhet       41  \n",
       "1697  যারা এই ডকুমেন্ট <> দেখায়, এরা খয় যো এরার, এরা...   sylhet       43  \n",
       "1698  তারা মনে খরে যে ওইটা, ওইটা আমার রুট। এইযে রুট ...   sylhet       30  \n",
       "1699  আমার ওরিজিন যদি আমি বুঝি যে না আমার ওরিজিন ওই ...   sylhet       34  \n",
       "\n",
       "[1700 rows x 4 columns]"
      ]
     },
     "execution_count": 10,
     "metadata": {},
     "output_type": "execute_result"
    }
   ],
   "source": [
    "num_df = df.copy()\n",
    "num_df"
   ]
  },
  {
   "cell_type": "code",
   "execution_count": 11,
   "id": "496f4d3a",
   "metadata": {
    "execution": {
     "iopub.execute_input": "2025-01-24T17:57:36.472735Z",
     "iopub.status.busy": "2025-01-24T17:57:36.472313Z",
     "iopub.status.idle": "2025-01-24T17:57:36.486147Z",
     "shell.execute_reply": "2025-01-24T17:57:36.484869Z"
    },
    "papermill": {
     "duration": 0.027302,
     "end_time": "2025-01-24T17:57:36.487875",
     "exception": false,
     "start_time": "2025-01-24T17:57:36.460573",
     "status": "completed"
    },
    "tags": []
   },
   "outputs": [
    {
     "name": "stdout",
     "output_type": "stream",
     "text": [
      "\n",
      "[]\n"
     ]
    }
   ],
   "source": [
    "num_ind = []\n",
    "\n",
    "pattern = re.compile('[0-9০-৯]')\n",
    "\n",
    "for index, value in num_df['transcripts'].items():\n",
    "\n",
    "    if pattern.search(str(value)):\n",
    "        if type(value) == float or value == \"Null\":\n",
    "            pass\n",
    "        else:\n",
    "            num_ind.append(index)\n",
    "\n",
    "print()\n",
    "print(num_ind)"
   ]
  },
  {
   "cell_type": "code",
   "execution_count": 12,
   "id": "b1a73fdb",
   "metadata": {
    "execution": {
     "iopub.execute_input": "2025-01-24T17:57:36.510978Z",
     "iopub.status.busy": "2025-01-24T17:57:36.510514Z",
     "iopub.status.idle": "2025-01-24T17:57:36.520587Z",
     "shell.execute_reply": "2025-01-24T17:57:36.519361Z"
    },
    "papermill": {
     "duration": 0.023534,
     "end_time": "2025-01-24T17:57:36.522263",
     "exception": false,
     "start_time": "2025-01-24T17:57:36.498729",
     "status": "completed"
    },
    "tags": []
   },
   "outputs": [
    {
     "data": {
      "text/html": [
       "<div>\n",
       "<style scoped>\n",
       "    .dataframe tbody tr th:only-of-type {\n",
       "        vertical-align: middle;\n",
       "    }\n",
       "\n",
       "    .dataframe tbody tr th {\n",
       "        vertical-align: top;\n",
       "    }\n",
       "\n",
       "    .dataframe thead th {\n",
       "        text-align: right;\n",
       "    }\n",
       "</style>\n",
       "<table border=\"1\" class=\"dataframe\">\n",
       "  <thead>\n",
       "    <tr style=\"text-align: right;\">\n",
       "      <th></th>\n",
       "      <th>file_name</th>\n",
       "      <th>transcripts</th>\n",
       "      <th>district</th>\n",
       "      <th>sen_len</th>\n",
       "    </tr>\n",
       "  </thead>\n",
       "  <tbody>\n",
       "  </tbody>\n",
       "</table>\n",
       "</div>"
      ],
      "text/plain": [
       "Empty DataFrame\n",
       "Columns: [file_name, transcripts, district, sen_len]\n",
       "Index: []"
      ]
     },
     "execution_count": 12,
     "metadata": {},
     "output_type": "execute_result"
    }
   ],
   "source": [
    "num_df = df.iloc[num_ind]\n",
    "num_df"
   ]
  },
  {
   "cell_type": "code",
   "execution_count": null,
   "id": "563e7c1d",
   "metadata": {
    "papermill": {
     "duration": 0.011543,
     "end_time": "2025-01-24T17:57:36.544661",
     "exception": false,
     "start_time": "2025-01-24T17:57:36.533118",
     "status": "completed"
    },
    "tags": []
   },
   "outputs": [],
   "source": []
  },
  {
   "cell_type": "markdown",
   "id": "7b264026",
   "metadata": {
    "papermill": {
     "duration": 0.010576,
     "end_time": "2025-01-24T17:57:36.566465",
     "exception": false,
     "start_time": "2025-01-24T17:57:36.555889",
     "status": "completed"
    },
    "tags": []
   },
   "source": [
    "# Checking for English alphabets in texts"
   ]
  },
  {
   "cell_type": "code",
   "execution_count": 13,
   "id": "2af2766e",
   "metadata": {
    "execution": {
     "iopub.execute_input": "2025-01-24T17:57:36.589872Z",
     "iopub.status.busy": "2025-01-24T17:57:36.589414Z",
     "iopub.status.idle": "2025-01-24T17:57:36.603302Z",
     "shell.execute_reply": "2025-01-24T17:57:36.601979Z"
    },
    "papermill": {
     "duration": 0.027805,
     "end_time": "2025-01-24T17:57:36.605218",
     "exception": false,
     "start_time": "2025-01-24T17:57:36.577413",
     "status": "completed"
    },
    "tags": []
   },
   "outputs": [
    {
     "data": {
      "text/html": [
       "<div>\n",
       "<style scoped>\n",
       "    .dataframe tbody tr th:only-of-type {\n",
       "        vertical-align: middle;\n",
       "    }\n",
       "\n",
       "    .dataframe tbody tr th {\n",
       "        vertical-align: top;\n",
       "    }\n",
       "\n",
       "    .dataframe thead th {\n",
       "        text-align: right;\n",
       "    }\n",
       "</style>\n",
       "<table border=\"1\" class=\"dataframe\">\n",
       "  <thead>\n",
       "    <tr style=\"text-align: right;\">\n",
       "      <th></th>\n",
       "      <th>file_name</th>\n",
       "      <th>transcripts</th>\n",
       "      <th>district</th>\n",
       "      <th>sen_len</th>\n",
       "    </tr>\n",
       "  </thead>\n",
       "  <tbody>\n",
       "    <tr>\n",
       "      <th>0</th>\n",
       "      <td>test_sandwip (1).wav</td>\n",
       "      <td>হুম, আই দাওয়াত খাইবো। খাইবো অনকা তো বুজি &lt;&gt; হব...</td>\n",
       "      <td>sandwip</td>\n",
       "      <td>31</td>\n",
       "    </tr>\n",
       "    <tr>\n",
       "      <th>1</th>\n",
       "      <td>test_sandwip (2).wav</td>\n",
       "      <td>এন্নে বিয়া-সাদি চুয়াইছে, ঘরে সংসারও চইলছে, হুম...</td>\n",
       "      <td>sandwip</td>\n",
       "      <td>26</td>\n",
       "    </tr>\n",
       "    <tr>\n",
       "      <th>2</th>\n",
       "      <td>test_sandwip (3).wav</td>\n",
       "      <td>হুম, হাক্কন হিডা ন নি হারা যাইবো নে? এক্কবারে ...</td>\n",
       "      <td>sandwip</td>\n",
       "      <td>36</td>\n",
       "    </tr>\n",
       "    <tr>\n",
       "      <th>3</th>\n",
       "      <td>test_sandwip (4).wav</td>\n",
       "      <td>আম-কাডল &lt;&gt; ধর ইয়া আছে, হল আছে তারফরে দুধ আছে আ...</td>\n",
       "      <td>sandwip</td>\n",
       "      <td>29</td>\n",
       "    </tr>\n",
       "    <tr>\n",
       "      <th>4</th>\n",
       "      <td>test_sandwip (5).wav</td>\n",
       "      <td>এই তুই গোসল কইত্তি ন? হিয়া হরে কইরবো এরি। গোসল...</td>\n",
       "      <td>sandwip</td>\n",
       "      <td>25</td>\n",
       "    </tr>\n",
       "    <tr>\n",
       "      <th>...</th>\n",
       "      <td>...</td>\n",
       "      <td>...</td>\n",
       "      <td>...</td>\n",
       "      <td>...</td>\n",
       "    </tr>\n",
       "    <tr>\n",
       "      <th>1695</th>\n",
       "      <td>test_sylhet (364).wav</td>\n",
       "      <td>তার বাদে ব্যাবসা-বানিজ্য, টাখা ফয়সার লেন-দেন, ...</td>\n",
       "      <td>sylhet</td>\n",
       "      <td>43</td>\n",
       "    </tr>\n",
       "    <tr>\n",
       "      <th>1696</th>\n",
       "      <td>test_sylhet (365).wav</td>\n",
       "      <td>তে দেখা গেছে এই দিকটার মানুষরা এরা, এরার বড়ো শ...</td>\n",
       "      <td>sylhet</td>\n",
       "      <td>41</td>\n",
       "    </tr>\n",
       "    <tr>\n",
       "      <th>1697</th>\n",
       "      <td>test_sylhet (366).wav</td>\n",
       "      <td>যারা এই ডকুমেন্ট &lt;&gt; দেখায়, এরা খয় যো এরার, এরা...</td>\n",
       "      <td>sylhet</td>\n",
       "      <td>43</td>\n",
       "    </tr>\n",
       "    <tr>\n",
       "      <th>1698</th>\n",
       "      <td>test_sylhet (367).wav</td>\n",
       "      <td>তারা মনে খরে যে ওইটা, ওইটা আমার রুট। এইযে রুট ...</td>\n",
       "      <td>sylhet</td>\n",
       "      <td>30</td>\n",
       "    </tr>\n",
       "    <tr>\n",
       "      <th>1699</th>\n",
       "      <td>test_sylhet (368).wav</td>\n",
       "      <td>আমার ওরিজিন যদি আমি বুঝি যে না আমার ওরিজিন ওই ...</td>\n",
       "      <td>sylhet</td>\n",
       "      <td>34</td>\n",
       "    </tr>\n",
       "  </tbody>\n",
       "</table>\n",
       "<p>1700 rows × 4 columns</p>\n",
       "</div>"
      ],
      "text/plain": [
       "                  file_name  \\\n",
       "0      test_sandwip (1).wav   \n",
       "1      test_sandwip (2).wav   \n",
       "2      test_sandwip (3).wav   \n",
       "3      test_sandwip (4).wav   \n",
       "4      test_sandwip (5).wav   \n",
       "...                     ...   \n",
       "1695  test_sylhet (364).wav   \n",
       "1696  test_sylhet (365).wav   \n",
       "1697  test_sylhet (366).wav   \n",
       "1698  test_sylhet (367).wav   \n",
       "1699  test_sylhet (368).wav   \n",
       "\n",
       "                                            transcripts district  sen_len  \n",
       "0     হুম, আই দাওয়াত খাইবো। খাইবো অনকা তো বুজি <> হব...  sandwip       31  \n",
       "1     এন্নে বিয়া-সাদি চুয়াইছে, ঘরে সংসারও চইলছে, হুম...  sandwip       26  \n",
       "2     হুম, হাক্কন হিডা ন নি হারা যাইবো নে? এক্কবারে ...  sandwip       36  \n",
       "3     আম-কাডল <> ধর ইয়া আছে, হল আছে তারফরে দুধ আছে আ...  sandwip       29  \n",
       "4     এই তুই গোসল কইত্তি ন? হিয়া হরে কইরবো এরি। গোসল...  sandwip       25  \n",
       "...                                                 ...      ...      ...  \n",
       "1695  তার বাদে ব্যাবসা-বানিজ্য, টাখা ফয়সার লেন-দেন, ...   sylhet       43  \n",
       "1696  তে দেখা গেছে এই দিকটার মানুষরা এরা, এরার বড়ো শ...   sylhet       41  \n",
       "1697  যারা এই ডকুমেন্ট <> দেখায়, এরা খয় যো এরার, এরা...   sylhet       43  \n",
       "1698  তারা মনে খরে যে ওইটা, ওইটা আমার রুট। এইযে রুট ...   sylhet       30  \n",
       "1699  আমার ওরিজিন যদি আমি বুঝি যে না আমার ওরিজিন ওই ...   sylhet       34  \n",
       "\n",
       "[1700 rows x 4 columns]"
      ]
     },
     "execution_count": 13,
     "metadata": {},
     "output_type": "execute_result"
    }
   ],
   "source": [
    "eng_df = df.copy()\n",
    "eng_df"
   ]
  },
  {
   "cell_type": "code",
   "execution_count": 14,
   "id": "6752aec7",
   "metadata": {
    "execution": {
     "iopub.execute_input": "2025-01-24T17:57:36.628974Z",
     "iopub.status.busy": "2025-01-24T17:57:36.628509Z",
     "iopub.status.idle": "2025-01-24T17:57:36.642382Z",
     "shell.execute_reply": "2025-01-24T17:57:36.641145Z"
    },
    "papermill": {
     "duration": 0.027347,
     "end_time": "2025-01-24T17:57:36.644082",
     "exception": false,
     "start_time": "2025-01-24T17:57:36.616735",
     "status": "completed"
    },
    "tags": []
   },
   "outputs": [
    {
     "name": "stdout",
     "output_type": "stream",
     "text": [
      "\n",
      "[362]\n"
     ]
    }
   ],
   "source": [
    "eng_ind = []\n",
    "\n",
    "pattern = re.compile('[a-zA-Z]')\n",
    "\n",
    "for index, value in eng_df['transcripts'].items():\n",
    "\n",
    "    if pattern.search(str(value)):\n",
    "        if type(value) == float or value == \"Null\":\n",
    "            pass\n",
    "        else:\n",
    "            eng_ind.append(index)\n",
    "\n",
    "print()\n",
    "print(eng_ind)"
   ]
  },
  {
   "cell_type": "code",
   "execution_count": 15,
   "id": "619cad3a",
   "metadata": {
    "execution": {
     "iopub.execute_input": "2025-01-24T17:57:36.667262Z",
     "iopub.status.busy": "2025-01-24T17:57:36.666849Z",
     "iopub.status.idle": "2025-01-24T17:57:36.677584Z",
     "shell.execute_reply": "2025-01-24T17:57:36.676390Z"
    },
    "papermill": {
     "duration": 0.024373,
     "end_time": "2025-01-24T17:57:36.679420",
     "exception": false,
     "start_time": "2025-01-24T17:57:36.655047",
     "status": "completed"
    },
    "tags": []
   },
   "outputs": [
    {
     "data": {
      "text/html": [
       "<div>\n",
       "<style scoped>\n",
       "    .dataframe tbody tr th:only-of-type {\n",
       "        vertical-align: middle;\n",
       "    }\n",
       "\n",
       "    .dataframe tbody tr th {\n",
       "        vertical-align: top;\n",
       "    }\n",
       "\n",
       "    .dataframe thead th {\n",
       "        text-align: right;\n",
       "    }\n",
       "</style>\n",
       "<table border=\"1\" class=\"dataframe\">\n",
       "  <thead>\n",
       "    <tr style=\"text-align: right;\">\n",
       "      <th></th>\n",
       "      <th>file_name</th>\n",
       "      <th>transcripts</th>\n",
       "      <th>district</th>\n",
       "      <th>sen_len</th>\n",
       "    </tr>\n",
       "  </thead>\n",
       "  <tbody>\n",
       "    <tr>\n",
       "      <th>362</th>\n",
       "      <td>test_chittagong (125).wav</td>\n",
       "      <td>ande ugga family foirge, tinjon, maa maiyafua ...</td>\n",
       "      <td>chittagong</td>\n",
       "      <td>30</td>\n",
       "    </tr>\n",
       "  </tbody>\n",
       "</table>\n",
       "</div>"
      ],
      "text/plain": [
       "                     file_name  \\\n",
       "362  test_chittagong (125).wav   \n",
       "\n",
       "                                           transcripts    district  sen_len  \n",
       "362  ande ugga family foirge, tinjon, maa maiyafua ...  chittagong       30  "
      ]
     },
     "execution_count": 15,
     "metadata": {},
     "output_type": "execute_result"
    }
   ],
   "source": [
    "eng_df = df.iloc[eng_ind]\n",
    "eng_df"
   ]
  },
  {
   "cell_type": "code",
   "execution_count": null,
   "id": "09175d8c",
   "metadata": {
    "papermill": {
     "duration": 0.010619,
     "end_time": "2025-01-24T17:57:36.701307",
     "exception": false,
     "start_time": "2025-01-24T17:57:36.690688",
     "status": "completed"
    },
    "tags": []
   },
   "outputs": [],
   "source": []
  },
  {
   "cell_type": "markdown",
   "id": "bffa5405",
   "metadata": {
    "papermill": {
     "duration": 0.010706,
     "end_time": "2025-01-24T17:57:36.723007",
     "exception": false,
     "start_time": "2025-01-24T17:57:36.712301",
     "status": "completed"
    },
    "tags": []
   },
   "source": [
    "# Replacing any newline characters or any other irrelevant characters"
   ]
  },
  {
   "cell_type": "code",
   "execution_count": 16,
   "id": "c10356ae",
   "metadata": {
    "execution": {
     "iopub.execute_input": "2025-01-24T17:57:36.746781Z",
     "iopub.status.busy": "2025-01-24T17:57:36.746344Z",
     "iopub.status.idle": "2025-01-24T17:57:36.762626Z",
     "shell.execute_reply": "2025-01-24T17:57:36.761367Z"
    },
    "papermill": {
     "duration": 0.030893,
     "end_time": "2025-01-24T17:57:36.765017",
     "exception": false,
     "start_time": "2025-01-24T17:57:36.734124",
     "status": "completed"
    },
    "tags": []
   },
   "outputs": [],
   "source": [
    "# print(list(df[df['transcripts'] == ''].index))\n",
    "df.drop(df[df['transcripts'] == ''].index, inplace=True)\n",
    "\n",
    "# print(list(df[df['transcripts'] == '<>'].index))\n",
    "df.drop(df[df['transcripts'] == \"<>\"].index, inplace=True)\n",
    "      \n",
    "# print(list(df[df['transcripts'] == '..'].index))\n",
    "df.drop(df[df['transcripts'] == \"..\"].index, inplace=True)\n",
    "\n",
    "# print(list(df[df['transcripts'] == '..'].index))\n",
    "df.drop(df[df['transcripts'] == \".\"].index, inplace=True)"
   ]
  },
  {
   "cell_type": "code",
   "execution_count": 17,
   "id": "445e5568",
   "metadata": {
    "execution": {
     "iopub.execute_input": "2025-01-24T17:57:36.789216Z",
     "iopub.status.busy": "2025-01-24T17:57:36.788786Z",
     "iopub.status.idle": "2025-01-24T17:57:36.799317Z",
     "shell.execute_reply": "2025-01-24T17:57:36.798227Z"
    },
    "papermill": {
     "duration": 0.024617,
     "end_time": "2025-01-24T17:57:36.800934",
     "exception": false,
     "start_time": "2025-01-24T17:57:36.776317",
     "status": "completed"
    },
    "tags": []
   },
   "outputs": [
    {
     "data": {
      "text/html": [
       "<div>\n",
       "<style scoped>\n",
       "    .dataframe tbody tr th:only-of-type {\n",
       "        vertical-align: middle;\n",
       "    }\n",
       "\n",
       "    .dataframe tbody tr th {\n",
       "        vertical-align: top;\n",
       "    }\n",
       "\n",
       "    .dataframe thead th {\n",
       "        text-align: right;\n",
       "    }\n",
       "</style>\n",
       "<table border=\"1\" class=\"dataframe\">\n",
       "  <thead>\n",
       "    <tr style=\"text-align: right;\">\n",
       "      <th></th>\n",
       "      <th>file_name</th>\n",
       "      <th>transcripts</th>\n",
       "      <th>district</th>\n",
       "      <th>sen_len</th>\n",
       "    </tr>\n",
       "  </thead>\n",
       "  <tbody>\n",
       "  </tbody>\n",
       "</table>\n",
       "</div>"
      ],
      "text/plain": [
       "Empty DataFrame\n",
       "Columns: [file_name, transcripts, district, sen_len]\n",
       "Index: []"
      ]
     },
     "execution_count": 17,
     "metadata": {},
     "output_type": "execute_result"
    }
   ],
   "source": [
    "df[df[\"transcripts\"] == \"<>\"]"
   ]
  },
  {
   "cell_type": "code",
   "execution_count": 18,
   "id": "741dfbb9",
   "metadata": {
    "execution": {
     "iopub.execute_input": "2025-01-24T17:57:36.825016Z",
     "iopub.status.busy": "2025-01-24T17:57:36.824520Z",
     "iopub.status.idle": "2025-01-24T17:57:36.835702Z",
     "shell.execute_reply": "2025-01-24T17:57:36.834519Z"
    },
    "papermill": {
     "duration": 0.025314,
     "end_time": "2025-01-24T17:57:36.837543",
     "exception": false,
     "start_time": "2025-01-24T17:57:36.812229",
     "status": "completed"
    },
    "tags": []
   },
   "outputs": [
    {
     "data": {
      "text/html": [
       "<div>\n",
       "<style scoped>\n",
       "    .dataframe tbody tr th:only-of-type {\n",
       "        vertical-align: middle;\n",
       "    }\n",
       "\n",
       "    .dataframe tbody tr th {\n",
       "        vertical-align: top;\n",
       "    }\n",
       "\n",
       "    .dataframe thead th {\n",
       "        text-align: right;\n",
       "    }\n",
       "</style>\n",
       "<table border=\"1\" class=\"dataframe\">\n",
       "  <thead>\n",
       "    <tr style=\"text-align: right;\">\n",
       "      <th></th>\n",
       "      <th>file_name</th>\n",
       "      <th>transcripts</th>\n",
       "      <th>district</th>\n",
       "      <th>sen_len</th>\n",
       "    </tr>\n",
       "  </thead>\n",
       "  <tbody>\n",
       "  </tbody>\n",
       "</table>\n",
       "</div>"
      ],
      "text/plain": [
       "Empty DataFrame\n",
       "Columns: [file_name, transcripts, district, sen_len]\n",
       "Index: []"
      ]
     },
     "execution_count": 18,
     "metadata": {},
     "output_type": "execute_result"
    }
   ],
   "source": [
    "df[df[\"transcripts\"] == \"\"]"
   ]
  },
  {
   "cell_type": "code",
   "execution_count": 19,
   "id": "ea07cc9f",
   "metadata": {
    "execution": {
     "iopub.execute_input": "2025-01-24T17:57:36.861669Z",
     "iopub.status.busy": "2025-01-24T17:57:36.861212Z",
     "iopub.status.idle": "2025-01-24T17:57:36.871982Z",
     "shell.execute_reply": "2025-01-24T17:57:36.870701Z"
    },
    "papermill": {
     "duration": 0.024883,
     "end_time": "2025-01-24T17:57:36.873823",
     "exception": false,
     "start_time": "2025-01-24T17:57:36.848940",
     "status": "completed"
    },
    "tags": []
   },
   "outputs": [
    {
     "data": {
      "text/html": [
       "<div>\n",
       "<style scoped>\n",
       "    .dataframe tbody tr th:only-of-type {\n",
       "        vertical-align: middle;\n",
       "    }\n",
       "\n",
       "    .dataframe tbody tr th {\n",
       "        vertical-align: top;\n",
       "    }\n",
       "\n",
       "    .dataframe thead th {\n",
       "        text-align: right;\n",
       "    }\n",
       "</style>\n",
       "<table border=\"1\" class=\"dataframe\">\n",
       "  <thead>\n",
       "    <tr style=\"text-align: right;\">\n",
       "      <th></th>\n",
       "      <th>file_name</th>\n",
       "      <th>transcripts</th>\n",
       "      <th>district</th>\n",
       "      <th>sen_len</th>\n",
       "    </tr>\n",
       "  </thead>\n",
       "  <tbody>\n",
       "  </tbody>\n",
       "</table>\n",
       "</div>"
      ],
      "text/plain": [
       "Empty DataFrame\n",
       "Columns: [file_name, transcripts, district, sen_len]\n",
       "Index: []"
      ]
     },
     "execution_count": 19,
     "metadata": {},
     "output_type": "execute_result"
    }
   ],
   "source": [
    "df[df[\"transcripts\"] == \".\"]"
   ]
  },
  {
   "cell_type": "code",
   "execution_count": 20,
   "id": "9269be5f",
   "metadata": {
    "execution": {
     "iopub.execute_input": "2025-01-24T17:57:36.899481Z",
     "iopub.status.busy": "2025-01-24T17:57:36.899069Z",
     "iopub.status.idle": "2025-01-24T17:57:36.909888Z",
     "shell.execute_reply": "2025-01-24T17:57:36.908669Z"
    },
    "papermill": {
     "duration": 0.026096,
     "end_time": "2025-01-24T17:57:36.911985",
     "exception": false,
     "start_time": "2025-01-24T17:57:36.885889",
     "status": "completed"
    },
    "tags": []
   },
   "outputs": [
    {
     "data": {
      "text/html": [
       "<div>\n",
       "<style scoped>\n",
       "    .dataframe tbody tr th:only-of-type {\n",
       "        vertical-align: middle;\n",
       "    }\n",
       "\n",
       "    .dataframe tbody tr th {\n",
       "        vertical-align: top;\n",
       "    }\n",
       "\n",
       "    .dataframe thead th {\n",
       "        text-align: right;\n",
       "    }\n",
       "</style>\n",
       "<table border=\"1\" class=\"dataframe\">\n",
       "  <thead>\n",
       "    <tr style=\"text-align: right;\">\n",
       "      <th></th>\n",
       "      <th>file_name</th>\n",
       "      <th>transcripts</th>\n",
       "      <th>district</th>\n",
       "      <th>sen_len</th>\n",
       "    </tr>\n",
       "  </thead>\n",
       "  <tbody>\n",
       "  </tbody>\n",
       "</table>\n",
       "</div>"
      ],
      "text/plain": [
       "Empty DataFrame\n",
       "Columns: [file_name, transcripts, district, sen_len]\n",
       "Index: []"
      ]
     },
     "execution_count": 20,
     "metadata": {},
     "output_type": "execute_result"
    }
   ],
   "source": [
    "df[df[\"transcripts\"] == \"..\"]"
   ]
  },
  {
   "cell_type": "code",
   "execution_count": null,
   "id": "00851f5e",
   "metadata": {
    "papermill": {
     "duration": 0.0115,
     "end_time": "2025-01-24T17:57:36.935251",
     "exception": false,
     "start_time": "2025-01-24T17:57:36.923751",
     "status": "completed"
    },
    "tags": []
   },
   "outputs": [],
   "source": []
  },
  {
   "cell_type": "code",
   "execution_count": 21,
   "id": "0ecbcbe3",
   "metadata": {
    "execution": {
     "iopub.execute_input": "2025-01-24T17:57:36.959776Z",
     "iopub.status.busy": "2025-01-24T17:57:36.959336Z",
     "iopub.status.idle": "2025-01-24T17:57:37.003441Z",
     "shell.execute_reply": "2025-01-24T17:57:37.001911Z"
    },
    "papermill": {
     "duration": 0.059188,
     "end_time": "2025-01-24T17:57:37.005879",
     "exception": false,
     "start_time": "2025-01-24T17:57:36.946691",
     "status": "completed"
    },
    "tags": []
   },
   "outputs": [
    {
     "data": {
      "text/html": [
       "<div>\n",
       "<style scoped>\n",
       "    .dataframe tbody tr th:only-of-type {\n",
       "        vertical-align: middle;\n",
       "    }\n",
       "\n",
       "    .dataframe tbody tr th {\n",
       "        vertical-align: top;\n",
       "    }\n",
       "\n",
       "    .dataframe thead th {\n",
       "        text-align: right;\n",
       "    }\n",
       "</style>\n",
       "<table border=\"1\" class=\"dataframe\">\n",
       "  <thead>\n",
       "    <tr style=\"text-align: right;\">\n",
       "      <th></th>\n",
       "      <th>file_name</th>\n",
       "      <th>transcripts</th>\n",
       "      <th>district</th>\n",
       "      <th>sen_len</th>\n",
       "    </tr>\n",
       "  </thead>\n",
       "  <tbody>\n",
       "    <tr>\n",
       "      <th>0</th>\n",
       "      <td>test_sandwip (1).wav</td>\n",
       "      <td>হুম, আই দাওয়াত খাইবো। খাইবো অনকা তো বুজি &lt;&gt; হব...</td>\n",
       "      <td>sandwip</td>\n",
       "      <td>31</td>\n",
       "    </tr>\n",
       "    <tr>\n",
       "      <th>1</th>\n",
       "      <td>test_sandwip (2).wav</td>\n",
       "      <td>এন্নে বিয়া-সাদি চুয়াইছে, ঘরে সংসারও চইলছে, হুম...</td>\n",
       "      <td>sandwip</td>\n",
       "      <td>26</td>\n",
       "    </tr>\n",
       "    <tr>\n",
       "      <th>2</th>\n",
       "      <td>test_sandwip (3).wav</td>\n",
       "      <td>হুম, হাক্কন হিডা ন নি হারা যাইবো নে? এক্কবারে ...</td>\n",
       "      <td>sandwip</td>\n",
       "      <td>36</td>\n",
       "    </tr>\n",
       "    <tr>\n",
       "      <th>3</th>\n",
       "      <td>test_sandwip (4).wav</td>\n",
       "      <td>আম-কাডল &lt;&gt; ধর ইয়া আছে, হল আছে তারফরে দুধ আছে আ...</td>\n",
       "      <td>sandwip</td>\n",
       "      <td>29</td>\n",
       "    </tr>\n",
       "    <tr>\n",
       "      <th>4</th>\n",
       "      <td>test_sandwip (5).wav</td>\n",
       "      <td>এই তুই গোসল কইত্তি ন? হিয়া হরে কইরবো এরি। গোসল...</td>\n",
       "      <td>sandwip</td>\n",
       "      <td>25</td>\n",
       "    </tr>\n",
       "    <tr>\n",
       "      <th>...</th>\n",
       "      <td>...</td>\n",
       "      <td>...</td>\n",
       "      <td>...</td>\n",
       "      <td>...</td>\n",
       "    </tr>\n",
       "    <tr>\n",
       "      <th>1695</th>\n",
       "      <td>test_sylhet (364).wav</td>\n",
       "      <td>তার বাদে ব্যাবসা-বানিজ্য, টাখা ফয়সার লেন-দেন, ...</td>\n",
       "      <td>sylhet</td>\n",
       "      <td>43</td>\n",
       "    </tr>\n",
       "    <tr>\n",
       "      <th>1696</th>\n",
       "      <td>test_sylhet (365).wav</td>\n",
       "      <td>তে দেখা গেছে এই দিকটার মানুষরা এরা, এরার বড়ো শ...</td>\n",
       "      <td>sylhet</td>\n",
       "      <td>41</td>\n",
       "    </tr>\n",
       "    <tr>\n",
       "      <th>1697</th>\n",
       "      <td>test_sylhet (366).wav</td>\n",
       "      <td>যারা এই ডকুমেন্ট &lt;&gt; দেখায়, এরা খয় যো এরার, এরা...</td>\n",
       "      <td>sylhet</td>\n",
       "      <td>43</td>\n",
       "    </tr>\n",
       "    <tr>\n",
       "      <th>1698</th>\n",
       "      <td>test_sylhet (367).wav</td>\n",
       "      <td>তারা মনে খরে যে ওইটা, ওইটা আমার রুট। এইযে রুট ...</td>\n",
       "      <td>sylhet</td>\n",
       "      <td>30</td>\n",
       "    </tr>\n",
       "    <tr>\n",
       "      <th>1699</th>\n",
       "      <td>test_sylhet (368).wav</td>\n",
       "      <td>আমার ওরিজিন যদি আমি বুঝি যে না আমার ওরিজিন ওই ...</td>\n",
       "      <td>sylhet</td>\n",
       "      <td>34</td>\n",
       "    </tr>\n",
       "  </tbody>\n",
       "</table>\n",
       "<p>1698 rows × 4 columns</p>\n",
       "</div>"
      ],
      "text/plain": [
       "                  file_name  \\\n",
       "0      test_sandwip (1).wav   \n",
       "1      test_sandwip (2).wav   \n",
       "2      test_sandwip (3).wav   \n",
       "3      test_sandwip (4).wav   \n",
       "4      test_sandwip (5).wav   \n",
       "...                     ...   \n",
       "1695  test_sylhet (364).wav   \n",
       "1696  test_sylhet (365).wav   \n",
       "1697  test_sylhet (366).wav   \n",
       "1698  test_sylhet (367).wav   \n",
       "1699  test_sylhet (368).wav   \n",
       "\n",
       "                                            transcripts district  sen_len  \n",
       "0     হুম, আই দাওয়াত খাইবো। খাইবো অনকা তো বুজি <> হব...  sandwip       31  \n",
       "1     এন্নে বিয়া-সাদি চুয়াইছে, ঘরে সংসারও চইলছে, হুম...  sandwip       26  \n",
       "2     হুম, হাক্কন হিডা ন নি হারা যাইবো নে? এক্কবারে ...  sandwip       36  \n",
       "3     আম-কাডল <> ধর ইয়া আছে, হল আছে তারফরে দুধ আছে আ...  sandwip       29  \n",
       "4     এই তুই গোসল কইত্তি ন? হিয়া হরে কইরবো এরি। গোসল...  sandwip       25  \n",
       "...                                                 ...      ...      ...  \n",
       "1695  তার বাদে ব্যাবসা-বানিজ্য, টাখা ফয়সার লেন-দেন, ...   sylhet       43  \n",
       "1696  তে দেখা গেছে এই দিকটার মানুষরা এরা, এরার বড়ো শ...   sylhet       41  \n",
       "1697  যারা এই ডকুমেন্ট <> দেখায়, এরা খয় যো এরার, এরা...   sylhet       43  \n",
       "1698  তারা মনে খরে যে ওইটা, ওইটা আমার রুট। এইযে রুট ...   sylhet       30  \n",
       "1699  আমার ওরিজিন যদি আমি বুঝি যে না আমার ওরিজিন ওই ...   sylhet       34  \n",
       "\n",
       "[1698 rows x 4 columns]"
      ]
     },
     "execution_count": 21,
     "metadata": {},
     "output_type": "execute_result"
    }
   ],
   "source": [
    "transcripts = []\n",
    "\n",
    "for i in range(len(df)):\n",
    "    transcript = df[\"transcripts\"].iloc[i]\n",
    "    transcript = transcript.replace(\"\\n\", \" \")\n",
    "    transcript = \" \".join(transcript.split())\n",
    "    transcripts.append(transcript)\n",
    "\n",
    "df['transcripts'] = transcripts\n",
    "\n",
    "df"
   ]
  },
  {
   "cell_type": "code",
   "execution_count": 22,
   "id": "f6591423",
   "metadata": {
    "execution": {
     "iopub.execute_input": "2025-01-24T17:57:37.030832Z",
     "iopub.status.busy": "2025-01-24T17:57:37.030405Z",
     "iopub.status.idle": "2025-01-24T17:57:37.042515Z",
     "shell.execute_reply": "2025-01-24T17:57:37.041193Z"
    },
    "papermill": {
     "duration": 0.026705,
     "end_time": "2025-01-24T17:57:37.044541",
     "exception": false,
     "start_time": "2025-01-24T17:57:37.017836",
     "status": "completed"
    },
    "tags": []
   },
   "outputs": [
    {
     "data": {
      "text/plain": [
       "(442, 576, 8, 503)"
      ]
     },
     "execution_count": 22,
     "metadata": {},
     "output_type": "execute_result"
    }
   ],
   "source": [
    "df[\"transcripts\"].str.len().idxmin(), df[\"transcripts\"].str.len().idxmax(), df[\"transcripts\"].str.len().min(), df[\"transcripts\"].str.len().max()"
   ]
  },
  {
   "cell_type": "code",
   "execution_count": 23,
   "id": "d978f23e",
   "metadata": {
    "execution": {
     "iopub.execute_input": "2025-01-24T17:57:37.069496Z",
     "iopub.status.busy": "2025-01-24T17:57:37.069142Z",
     "iopub.status.idle": "2025-01-24T17:57:37.086644Z",
     "shell.execute_reply": "2025-01-24T17:57:37.085371Z"
    },
    "papermill": {
     "duration": 0.032105,
     "end_time": "2025-01-24T17:57:37.088497",
     "exception": false,
     "start_time": "2025-01-24T17:57:37.056392",
     "status": "completed"
    },
    "tags": []
   },
   "outputs": [
    {
     "name": "stdout",
     "output_type": "stream",
     "text": [
      "<class 'pandas.core.series.Series'>\n",
      "Index: 1698 entries, 0 to 1699\n",
      "Series name: transcripts\n",
      "Non-Null Count  Dtype \n",
      "--------------  ----- \n",
      "1698 non-null   object\n",
      "dtypes: object(1)\n",
      "memory usage: 26.5+ KB\n"
     ]
    }
   ],
   "source": [
    "df[\"transcripts\"].info()"
   ]
  },
  {
   "cell_type": "code",
   "execution_count": 24,
   "id": "5a393a6c",
   "metadata": {
    "execution": {
     "iopub.execute_input": "2025-01-24T17:57:37.114431Z",
     "iopub.status.busy": "2025-01-24T17:57:37.114026Z",
     "iopub.status.idle": "2025-01-24T17:57:37.120941Z",
     "shell.execute_reply": "2025-01-24T17:57:37.119786Z"
    },
    "papermill": {
     "duration": 0.022673,
     "end_time": "2025-01-24T17:57:37.123034",
     "exception": false,
     "start_time": "2025-01-24T17:57:37.100361",
     "status": "completed"
    },
    "tags": []
   },
   "outputs": [
    {
     "data": {
      "text/plain": [
       "0"
      ]
     },
     "execution_count": 24,
     "metadata": {},
     "output_type": "execute_result"
    }
   ],
   "source": [
    "df[\"transcripts\"].isna().sum()"
   ]
  },
  {
   "cell_type": "code",
   "execution_count": null,
   "id": "a613fc23",
   "metadata": {
    "papermill": {
     "duration": 0.012401,
     "end_time": "2025-01-24T17:57:37.148407",
     "exception": false,
     "start_time": "2025-01-24T17:57:37.136006",
     "status": "completed"
    },
    "tags": []
   },
   "outputs": [],
   "source": []
  },
  {
   "cell_type": "markdown",
   "id": "b68d9576",
   "metadata": {
    "papermill": {
     "duration": 0.011721,
     "end_time": "2025-01-24T17:57:37.172193",
     "exception": false,
     "start_time": "2025-01-24T17:57:37.160472",
     "status": "completed"
    },
    "tags": []
   },
   "source": [
    "# Final Processing"
   ]
  },
  {
   "cell_type": "code",
   "execution_count": 25,
   "id": "67705866",
   "metadata": {
    "execution": {
     "iopub.execute_input": "2025-01-24T17:57:37.202693Z",
     "iopub.status.busy": "2025-01-24T17:57:37.202321Z",
     "iopub.status.idle": "2025-01-24T17:57:37.209044Z",
     "shell.execute_reply": "2025-01-24T17:57:37.207846Z"
    },
    "papermill": {
     "duration": 0.026533,
     "end_time": "2025-01-24T17:57:37.210825",
     "exception": false,
     "start_time": "2025-01-24T17:57:37.184292",
     "status": "completed"
    },
    "tags": []
   },
   "outputs": [],
   "source": [
    "def normalize_text(text):\n",
    "    # Tokenize the text into words\n",
    "    words = text.split()    \n",
    "    # Normalize each word\n",
    "    normalized_words = [bnorm(word)[\"normalized\"] for word in words if isinstance(word, str)]\n",
    "    # Reconstruct the text with normalized words\n",
    "    normalized_text = ' '.join(word for word in normalized_words if word is not None)\n",
    "    return normalized_text\n",
    "\n",
    "def unicode_to_ascii(s):\n",
    "    return unicodedata.normalize('NFKC', s)\n",
    "\n",
    "def remove_extra_whitespace(sentence):\n",
    "    words = sentence.split()\n",
    "    return \" \".join(words)\n",
    "\n",
    "def preprocess_sentence(text,remove_english=True):\n",
    "    text = text.lower().strip()\n",
    "    text = normalize_text(text)\n",
    "    text = unicode_to_ascii(text)\n",
    "    text = remove_extra_whitespace(text)\n",
    "    return text"
   ]
  },
  {
   "cell_type": "code",
   "execution_count": 26,
   "id": "956205d5",
   "metadata": {
    "execution": {
     "iopub.execute_input": "2025-01-24T17:57:37.237359Z",
     "iopub.status.busy": "2025-01-24T17:57:37.236831Z",
     "iopub.status.idle": "2025-01-24T17:57:55.748602Z",
     "shell.execute_reply": "2025-01-24T17:57:55.747313Z"
    },
    "papermill": {
     "duration": 18.527105,
     "end_time": "2025-01-24T17:57:55.750466",
     "exception": false,
     "start_time": "2025-01-24T17:57:37.223361",
     "status": "completed"
    },
    "tags": []
   },
   "outputs": [
    {
     "data": {
      "text/html": [
       "<div>\n",
       "<style scoped>\n",
       "    .dataframe tbody tr th:only-of-type {\n",
       "        vertical-align: middle;\n",
       "    }\n",
       "\n",
       "    .dataframe tbody tr th {\n",
       "        vertical-align: top;\n",
       "    }\n",
       "\n",
       "    .dataframe thead th {\n",
       "        text-align: right;\n",
       "    }\n",
       "</style>\n",
       "<table border=\"1\" class=\"dataframe\">\n",
       "  <thead>\n",
       "    <tr style=\"text-align: right;\">\n",
       "      <th></th>\n",
       "      <th>file_name</th>\n",
       "      <th>transcripts</th>\n",
       "      <th>district</th>\n",
       "      <th>sen_len</th>\n",
       "    </tr>\n",
       "  </thead>\n",
       "  <tbody>\n",
       "    <tr>\n",
       "      <th>0</th>\n",
       "      <td>test_sandwip (1).wav</td>\n",
       "      <td>হুম, আই দাওয়াত খাইবো। খাইবো অনকা তো বুজি &lt;&gt; হ...</td>\n",
       "      <td>sandwip</td>\n",
       "      <td>31</td>\n",
       "    </tr>\n",
       "    <tr>\n",
       "      <th>1</th>\n",
       "      <td>test_sandwip (2).wav</td>\n",
       "      <td>এন্নে বিয়া-সাদি চুয়াইছে, ঘরে সংসারও চইলছে, হ...</td>\n",
       "      <td>sandwip</td>\n",
       "      <td>26</td>\n",
       "    </tr>\n",
       "    <tr>\n",
       "      <th>2</th>\n",
       "      <td>test_sandwip (3).wav</td>\n",
       "      <td>হুম, হাক্কন হিডা ন নি হারা যাইবো নে? এক্কবারে ...</td>\n",
       "      <td>sandwip</td>\n",
       "      <td>36</td>\n",
       "    </tr>\n",
       "    <tr>\n",
       "      <th>3</th>\n",
       "      <td>test_sandwip (4).wav</td>\n",
       "      <td>আম-কাডল &lt;&gt; ধর ইয়া আছে, হল আছে তারফরে দুধ আছে ...</td>\n",
       "      <td>sandwip</td>\n",
       "      <td>29</td>\n",
       "    </tr>\n",
       "    <tr>\n",
       "      <th>4</th>\n",
       "      <td>test_sandwip (5).wav</td>\n",
       "      <td>এই তুই গোসল কইত্তি ন? হিয়া হরে কইরবো এরি। গোস...</td>\n",
       "      <td>sandwip</td>\n",
       "      <td>25</td>\n",
       "    </tr>\n",
       "    <tr>\n",
       "      <th>...</th>\n",
       "      <td>...</td>\n",
       "      <td>...</td>\n",
       "      <td>...</td>\n",
       "      <td>...</td>\n",
       "    </tr>\n",
       "    <tr>\n",
       "      <th>1695</th>\n",
       "      <td>test_sylhet (364).wav</td>\n",
       "      <td>তার বাদে ব্যাবসা-বানিজ্য, টাখা ফয়সার লেন-দেন,...</td>\n",
       "      <td>sylhet</td>\n",
       "      <td>43</td>\n",
       "    </tr>\n",
       "    <tr>\n",
       "      <th>1696</th>\n",
       "      <td>test_sylhet (365).wav</td>\n",
       "      <td>তে দেখা গেছে এই দিকটার মানুষরা এরা, এরার বড়ো ...</td>\n",
       "      <td>sylhet</td>\n",
       "      <td>41</td>\n",
       "    </tr>\n",
       "    <tr>\n",
       "      <th>1697</th>\n",
       "      <td>test_sylhet (366).wav</td>\n",
       "      <td>যারা এই ডকুমেন্ট &lt;&gt; দেখায়, এরা খয় যো এরার, এ...</td>\n",
       "      <td>sylhet</td>\n",
       "      <td>43</td>\n",
       "    </tr>\n",
       "    <tr>\n",
       "      <th>1698</th>\n",
       "      <td>test_sylhet (367).wav</td>\n",
       "      <td>তারা মনে খরে যে ওইটা, ওইটা আমার রুট। এইযে রুট ...</td>\n",
       "      <td>sylhet</td>\n",
       "      <td>30</td>\n",
       "    </tr>\n",
       "    <tr>\n",
       "      <th>1699</th>\n",
       "      <td>test_sylhet (368).wav</td>\n",
       "      <td>আমার ওরিজিন যদি আমি বুঝি যে না আমার ওরিজিন ওই ...</td>\n",
       "      <td>sylhet</td>\n",
       "      <td>34</td>\n",
       "    </tr>\n",
       "  </tbody>\n",
       "</table>\n",
       "<p>1698 rows × 4 columns</p>\n",
       "</div>"
      ],
      "text/plain": [
       "                  file_name  \\\n",
       "0      test_sandwip (1).wav   \n",
       "1      test_sandwip (2).wav   \n",
       "2      test_sandwip (3).wav   \n",
       "3      test_sandwip (4).wav   \n",
       "4      test_sandwip (5).wav   \n",
       "...                     ...   \n",
       "1695  test_sylhet (364).wav   \n",
       "1696  test_sylhet (365).wav   \n",
       "1697  test_sylhet (366).wav   \n",
       "1698  test_sylhet (367).wav   \n",
       "1699  test_sylhet (368).wav   \n",
       "\n",
       "                                            transcripts district  sen_len  \n",
       "0     হুম, আই দাওয়াত খাইবো। খাইবো অনকা তো বুজি <> হ...  sandwip       31  \n",
       "1     এন্নে বিয়া-সাদি চুয়াইছে, ঘরে সংসারও চইলছে, হ...  sandwip       26  \n",
       "2     হুম, হাক্কন হিডা ন নি হারা যাইবো নে? এক্কবারে ...  sandwip       36  \n",
       "3     আম-কাডল <> ধর ইয়া আছে, হল আছে তারফরে দুধ আছে ...  sandwip       29  \n",
       "4     এই তুই গোসল কইত্তি ন? হিয়া হরে কইরবো এরি। গোস...  sandwip       25  \n",
       "...                                                 ...      ...      ...  \n",
       "1695  তার বাদে ব্যাবসা-বানিজ্য, টাখা ফয়সার লেন-দেন,...   sylhet       43  \n",
       "1696  তে দেখা গেছে এই দিকটার মানুষরা এরা, এরার বড়ো ...   sylhet       41  \n",
       "1697  যারা এই ডকুমেন্ট <> দেখায়, এরা খয় যো এরার, এ...   sylhet       43  \n",
       "1698  তারা মনে খরে যে ওইটা, ওইটা আমার রুট। এইযে রুট ...   sylhet       30  \n",
       "1699  আমার ওরিজিন যদি আমি বুঝি যে না আমার ওরিজিন ওই ...   sylhet       34  \n",
       "\n",
       "[1698 rows x 4 columns]"
      ]
     },
     "execution_count": 26,
     "metadata": {},
     "output_type": "execute_result"
    }
   ],
   "source": [
    "df = df.copy()\n",
    "df[\"transcripts\"] = df[\"transcripts\"].apply(preprocess_sentence)\n",
    "\n",
    "df"
   ]
  }
 ],
 "metadata": {
  "kaggle": {
   "accelerator": "none",
   "dataSources": [
    {
     "datasetId": 6507106,
     "sourceId": 10512355,
     "sourceType": "datasetVersion"
    }
   ],
   "dockerImageVersionId": 30839,
   "isGpuEnabled": false,
   "isInternetEnabled": true,
   "language": "python",
   "sourceType": "notebook"
  },
  "kernelspec": {
   "display_name": "Python 3",
   "language": "python",
   "name": "python3"
  },
  "language_info": {
   "codemirror_mode": {
    "name": "ipython",
    "version": 3
   },
   "file_extension": ".py",
   "mimetype": "text/x-python",
   "name": "python",
   "nbconvert_exporter": "python",
   "pygments_lexer": "ipython3",
   "version": "3.10.12"
  },
  "papermill": {
   "default_parameters": {},
   "duration": 112.687963,
   "end_time": "2025-01-24T17:57:58.158882",
   "environment_variables": {},
   "exception": null,
   "input_path": "__notebook__.ipynb",
   "output_path": "__notebook__.ipynb",
   "parameters": {},
   "start_time": "2025-01-24T17:56:05.470919",
   "version": "2.6.0"
  }
 },
 "nbformat": 4,
 "nbformat_minor": 5
}
