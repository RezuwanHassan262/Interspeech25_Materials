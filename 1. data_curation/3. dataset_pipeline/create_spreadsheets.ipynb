{
 "cells": [
  {
   "cell_type": "code",
   "execution_count": 1,
   "id": "7cd9f10f-cf41-4f85-9d52-7001cd7afa63",
   "metadata": {},
   "outputs": [],
   "source": [
    "import pandas as pd\n",
    "import os\n",
    "import json"
   ]
  },
  {
   "cell_type": "code",
   "execution_count": null,
   "id": "50b4edc9-052e-4f1a-8671-171825be46c6",
   "metadata": {},
   "outputs": [],
   "source": [
    "df = pd.read_excel(\"dev\\\\dev.xlsx\")\n",
    "df"
   ]
  },
  {
   "cell_type": "code",
   "execution_count": 8,
   "id": "9a49bf6f-b938-4f02-b934-18e59edfc25c",
   "metadata": {},
   "outputs": [],
   "source": [
    "districts = ['Nilphamari'\n",
    " 'Noakhali',\n",
    " 'Rangpur',\n",
    " 'Sandwip',\n",
    " 'Sylhet',\n",
    " 'Tangail','Barishal',\n",
    " 'Chittagong',\n",
    " 'Comilla',\n",
    " 'Habiganj',\n",
    " 'Jhenaidah',\n",
    " 'Kishoreganj',\n",
    " 'Lakshmipur',\n",
    " 'Narail',\n",
    " 'Narsingdi']\n",
    "\n",
    "base = \"district_wise\"\n",
    "for district in districts:\n",
    "    df.query(\"district == @district and split_type == 'train'\").to_csv(os.path.join(base, district, \"train\", \"metadata.csv\"), index=False)\n",
    "    df.query(\"district == @district and split_type == 'test'\").to_csv(os.path.join(base, district, \"test\", \"metadata.csv\"), index=False)\n",
    "    df.query(\"district == @district and split_type == 'valid'\").to_csv(os.path.join(base, district, \"valid\", \"metadata.csv\"), index=False)"
   ]
  },
  {
   "cell_type": "markdown",
   "id": "baa885c4-1644-4558-a381-c0fa35d687cb",
   "metadata": {},
   "source": [
    "# Export metadata csv and json"
   ]
  },
  {
   "cell_type": "markdown",
   "id": "8d17df24-d5d6-4c23-8fb1-7729766a7fb4",
   "metadata": {},
   "source": [
    "## Overall"
   ]
  },
  {
   "cell_type": "code",
   "execution_count": null,
   "id": "aaa18fe3-895b-4ac5-84ac-a617cca0bad5",
   "metadata": {},
   "outputs": [],
   "source": [
    "def audio_filepath2(ser):\n",
    "    return f\"{ser.split_type}/{ser.file_name}\"\n",
    "\n",
    "df2 = df.drop(columns=\"External_ID\").copy()\n",
    "df2[\"audio_filepath\"] = df2[[\"file_name\", \"district\", \"split_type\"]].apply(audio_filepath2,axis=1)\n",
    "df2[\"text\"] = df2.transcripts\n",
    "df2"
   ]
  },
  {
   "cell_type": "code",
   "execution_count": 5,
   "id": "a99c5905-4858-488f-b138-acfec3ca18ec",
   "metadata": {},
   "outputs": [],
   "source": [
    "for sp_type in [\"train\", \"test\", \"valid\"]:\n",
    "    # df2.query(\"split_type == @sp_type\")[[\"file_name\", \"transcripts\"]]\\\n",
    "    #             .to_csv(os.path.join(sp_type, \"metadata.csv\"), index=False)\n",
    "    \n",
    "    data = df2.query(\"split_type == @sp_type\")[[\"audio_filepath\", \"text\"]].to_dict(orient=\"records\")\n",
    "    with open(f\"{sp_type}_metadata.json\", \"w\") as file:\n",
    "        for i in data:\n",
    "            json.dump(i, file)\n",
    "            file.write(\"\\n\")"
   ]
  },
  {
   "cell_type": "markdown",
   "id": "f532c2cb-e9bd-4122-9785-6efcbadf5ead",
   "metadata": {},
   "source": [
    "## District wise"
   ]
  },
  {
   "cell_type": "code",
   "execution_count": null,
   "id": "3e004f59-5764-442e-ac1d-ce82cfd1dd1d",
   "metadata": {},
   "outputs": [],
   "source": [
    "def audio_filepath(ser):\n",
    "    return f\"district_wise/{ser.district}/{ser.split_type}/{ser.file_name}\"\n",
    "\n",
    "df2 = df.drop(columns=\"External_ID\").copy()\n",
    "df2[\"audio_filepath\"] = df2[[\"file_name\", \"district\", \"split_type\"]].apply(audio_filepath2,axis=1)\n",
    "df2[\"text\"] = df2.transcripts\n",
    "df2"
   ]
  },
  {
   "cell_type": "code",
   "execution_count": null,
   "id": "497b9bc4-cb6a-44a8-bebf-f3d81a649e45",
   "metadata": {},
   "outputs": [],
   "source": [
    "districts = [#'Nilphamari',\n",
    " 'Noakhali',\n",
    " 'Rangpur',\n",
    " 'Sandwip',\n",
    " 'Sylhet',\n",
    " 'Tangail','Barishal',\n",
    " 'Chittagong',\n",
    " 'Cumilla',\n",
    " 'Habiganj',\n",
    " 'Jhenaidah',\n",
    " 'Kishoreganj',\n",
    " 'Lakshmipur',\n",
    " 'Narail',\n",
    " 'Narsingdi',]\n",
    "\n",
    "base = \"district_wise\"\n",
    "for district in districts:\n",
    "    print(district)\n",
    "    for sp_type in [\"train\", \"test\", \"valid\"]:\n",
    "        print(sp_type)\n",
    "        df2.query(\"district == @district and split_type == @sp_type\")[[\"file_name\", \"transcripts\"]]\\\n",
    "            .to_csv(os.path.join(base, district, sp_type, \"metadata.csv\"), index=False)\n",
    "\n",
    "        data = df2.query(\"district == @district and split_type == @sp_type\")[[\"audio_filepath\", \"text\"]].to_dict(orient=\"records\")\n",
    "        with open(os.path.join(base, district, sp_type, \"metadata.json\"), \"w\") as file:\n",
    "            for i in data:\n",
    "                json.dump(i, file)\n",
    "                file.write(\"\\n\")\n",
    "    print()\n",
    "            "
   ]
  }
 ],
 "metadata": {
  "kernelspec": {
   "display_name": "Python 3 (ipykernel)",
   "language": "python",
   "name": "python3"
  },
  "language_info": {
   "codemirror_mode": {
    "name": "ipython",
    "version": 3
   },
   "file_extension": ".py",
   "mimetype": "text/x-python",
   "name": "python",
   "nbconvert_exporter": "python",
   "pygments_lexer": "ipython3",
   "version": "3.11.6"
  }
 },
 "nbformat": 4,
 "nbformat_minor": 5
}
