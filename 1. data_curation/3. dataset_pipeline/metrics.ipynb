{
 "cells": [
  {
   "cell_type": "code",
   "execution_count": 36,
   "id": "ffc7e901-e849-4c70-bb5b-6f6b136362b6",
   "metadata": {},
   "outputs": [],
   "source": [
    "import pandas as pd\n",
    "import librosa\n",
    "from tqdm import tqdm\n",
    "import os\n",
    "from glob import glob"
   ]
  },
  {
   "cell_type": "code",
   "execution_count": null,
   "id": "add4ca7c-77e8-445e-ace6-e2c1dd02cfcb",
   "metadata": {},
   "outputs": [],
   "source": [
    "df = pd.read_excel(\"\")\n",
    "df"
   ]
  },
  {
   "cell_type": "code",
   "execution_count": null,
   "id": "1b34665a-9245-41e9-8775-98ba96b74be7",
   "metadata": {},
   "outputs": [],
   "source": [
    "df.groupby([\"district\",\"split_type\"]).External_ID.count()"
   ]
  },
  {
   "cell_type": "code",
   "execution_count": null,
   "id": "f2e2b47a-c3a4-424b-afbc-6882402f887b",
   "metadata": {},
   "outputs": [],
   "source": [
    "df.groupby([\"split_type\"]).External_ID.count()"
   ]
  },
  {
   "cell_type": "markdown",
   "id": "ba1f861d-5b15-461f-b21f-caad08f15857",
   "metadata": {},
   "source": [
    "# Duration (district wise and total)"
   ]
  },
  {
   "cell_type": "code",
   "execution_count": 37,
   "id": "806f573b-8462-4e4e-880b-fde55c7f32ba",
   "metadata": {},
   "outputs": [],
   "source": [
    "def hms_format(s):\n",
    "    h, s = divmod(s, 3600)\n",
    "    m, s = divmod(s, 60)\n",
    "    return f\"{int(h)}:{int(m):02}:{round(s,1):04.1f}\""
   ]
  },
  {
   "cell_type": "code",
   "execution_count": null,
   "id": "9acd24d1-a88d-4795-82e7-81baef703303",
   "metadata": {},
   "outputs": [],
   "source": [
    "districts = df.district.unique().tolist()\n",
    "\n",
    "\n",
    "total_duration = 0\n",
    "total_train_duration = 0\n",
    "total_test_duration = 0\n",
    "total_valid_duration = 0\n",
    "\n",
    "base = \"district_wise\"\n",
    "\n",
    "for district in districts:\n",
    "    total_district_dur = 0\n",
    "    print(district)\n",
    "    print()\n",
    "    for folder in [\"train\", \"test\", \"valid\"]:\n",
    "        audios = glob(os.path.join(base, district, folder, \"*.wav\"))\n",
    "        d = 0\n",
    "        for audio in audios:\n",
    "            d += librosa.get_duration(path=audio)\n",
    "\n",
    "        if folder == \"train\":\n",
    "            total_train_duration += d\n",
    "            print(\"Train:\", hms_format(d))\n",
    "        elif folder == \"test\":\n",
    "            total_test_duration += d\n",
    "            print(\"Test: \", hms_format(d))\n",
    "        else:\n",
    "            total_valid_duration += d\n",
    "            print(\"Valid:\", hms_format(d))\n",
    "        total_district_dur += d\n",
    "        total_duration += d\n",
    "    print(\"Total duration for this district:\", hms_format(total_district_dur))\n",
    "    print(\"=================================================\")\n",
    "    print()\n",
    "\n",
    "\n",
    "print()\n",
    "print(\"Total duration of the dataset:\", hms_format(total_duration))\n",
    "print(\"Total duration of training data:\", hms_format(total_train_duration))\n",
    "print(\"Total duration of testing data:\", hms_format(total_test_duration))\n",
    "print(\"Total duration of validation data:\", hms_format(total_valid_duration))"
   ]
  }
 ],
 "metadata": {
  "kernelspec": {
   "display_name": "Python 3 (ipykernel)",
   "language": "python",
   "name": "python3"
  },
  "language_info": {
   "codemirror_mode": {
    "name": "ipython",
    "version": 3
   },
   "file_extension": ".py",
   "mimetype": "text/x-python",
   "name": "python",
   "nbconvert_exporter": "python",
   "pygments_lexer": "ipython3",
   "version": "3.11.6"
  }
 },
 "nbformat": 4,
 "nbformat_minor": 5
}
