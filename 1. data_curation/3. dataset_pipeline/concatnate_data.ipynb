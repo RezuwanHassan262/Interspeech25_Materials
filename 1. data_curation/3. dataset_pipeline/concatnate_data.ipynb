{
 "cells": [
  {
   "cell_type": "code",
   "execution_count": 16,
   "id": "94eeab20-9ea4-431f-be19-84b6d5595d33",
   "metadata": {},
   "outputs": [],
   "source": [
    "import os\n",
    "from glob import glob\n",
    "import pandas as pd\n",
    "from tqdm import tqdm\n",
    "import re"
   ]
  },
  {
   "cell_type": "code",
   "execution_count": 17,
   "id": "85e76c65-9668-4d60-ac41-c01dddb6a54b",
   "metadata": {},
   "outputs": [],
   "source": [
    "def custom_sort_key(filename):\n",
    "    parts = re.split('([0-9]+)', filename)\n",
    "    return [int(part) if part.isdigit() else part for part in parts]"
   ]
  },
  {
   "cell_type": "code",
   "execution_count": null,
   "id": "5653e281-92c9-4434-b18f-942168a51a9b",
   "metadata": {},
   "outputs": [],
   "source": [
    "MAIN = pd.DataFrame()\n",
    "\n",
    "sheets = glob(\"raw_transcripts\\\\*\")\n",
    "\n",
    "for sheet in tqdm(sheets):\n",
    "    District = os.path.split(sheet)[1].split(\"_\")[0]\n",
    "    df_text = pd.read_excel(sheet, sheet_name=District+\" Final\")\n",
    "    df_audio = pd.DataFrame(os.listdir(f\"G:\\\\ALL_DISTRICT_DATA\\\\{District}\\\\all\"), columns = [\"External_ID\"])\n",
    "    df_text = pd.merge(\n",
    "        df_audio,\n",
    "        df_text,\n",
    "        on=\"External_ID\",\n",
    "    )\n",
    "    df_text[\"sort_key\"] = df_text[\"External_ID\"].apply(custom_sort_key)\n",
    "    df_text = df_text.sort_values(by='sort_key').drop(columns=['sort_key']).reset_index()\n",
    "    MAIN = pd.concat([MAIN, df_text])\n",
    "    print(f\"{District}: {df_text.shape[0]}\")\n",
    "    "
   ]
  },
  {
   "cell_type": "code",
   "execution_count": 19,
   "id": "7dc8015b-7913-449d-ad0f-7373b86a52f0",
   "metadata": {},
   "outputs": [],
   "source": [
    "MAIN = MAIN[[\"External_ID\", \"annotator\", \"transcripts\", \"district\"]]"
   ]
  },
  {
   "cell_type": "code",
   "execution_count": null,
   "id": "6ec38009-3634-4d6b-82c6-611cad4a46b3",
   "metadata": {},
   "outputs": [],
   "source": [
    "MAIN"
   ]
  },
  {
   "cell_type": "code",
   "execution_count": null,
   "id": "5526c437-0372-47a0-9987-04a2985e9ca6",
   "metadata": {},
   "outputs": [],
   "source": [
    "MAIN[MAIN.transcripts.isnull()]"
   ]
  },
  {
   "cell_type": "code",
   "execution_count": 25,
   "id": "fb343081-6b88-4575-8fe0-81f4fc228643",
   "metadata": {},
   "outputs": [],
   "source": [
    "MAIN = pd.read_excel(\"filtered.xlsx\")"
   ]
  },
  {
   "cell_type": "code",
   "execution_count": null,
   "id": "a61f35a7-c403-4916-a3dd-71cb03c9f7fe",
   "metadata": {},
   "outputs": [],
   "source": [
    "MAIN.groupby(\"district\").External_ID.count()"
   ]
  },
  {
   "cell_type": "code",
   "execution_count": null,
   "id": "77a17967-6ab5-4dca-a0b4-833625808a8f",
   "metadata": {},
   "outputs": [],
   "source": []
  }
 ],
 "metadata": {
  "kernelspec": {
   "display_name": "Python 3 (ipykernel)",
   "language": "python",
   "name": "python3"
  },
  "language_info": {
   "codemirror_mode": {
    "name": "ipython",
    "version": 3
   },
   "file_extension": ".py",
   "mimetype": "text/x-python",
   "name": "python",
   "nbconvert_exporter": "python",
   "pygments_lexer": "ipython3",
   "version": "3.11.6"
  }
 },
 "nbformat": 4,
 "nbformat_minor": 5
}
