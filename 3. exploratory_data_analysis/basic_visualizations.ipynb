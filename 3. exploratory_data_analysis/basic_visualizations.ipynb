{
  "cells": [
    {
      "cell_type": "code",
      "execution_count": null,
      "metadata": {
        "colab": {
          "base_uri": "https://localhost:8080/"
        },
        "id": "pKTMEoXjJci9",
        "outputId": "5d7a12c8-bf36-4733-faa2-046636ba6213"
      },
      "outputs": [
        {
          "name": "stdout",
          "output_type": "stream",
          "text": [
            "Collecting opensmile\n",
            "  Downloading opensmile-2.5.1-py3-none-manylinux_2_17_x86_64.whl.metadata (15 kB)\n",
            "Collecting audobject>=0.6.1 (from opensmile)\n",
            "  Downloading audobject-0.7.11-py3-none-any.whl.metadata (2.6 kB)\n",
            "Collecting audinterface>=0.7.0 (from opensmile)\n",
            "  Downloading audinterface-1.2.3-py3-none-any.whl.metadata (4.2 kB)\n",
            "Collecting audeer>=2.1.1 (from audinterface>=0.7.0->opensmile)\n",
            "  Downloading audeer-2.2.1-py3-none-any.whl.metadata (4.1 kB)\n",
            "Collecting audformat<2.0.0,>=1.0.1 (from audinterface>=0.7.0->opensmile)\n",
            "  Downloading audformat-1.3.1-py3-none-any.whl.metadata (4.6 kB)\n",
            "Collecting audiofile>=1.3.0 (from audinterface>=0.7.0->opensmile)\n",
            "  Downloading audiofile-1.5.1-py3-none-any.whl.metadata (4.9 kB)\n",
            "Collecting audmath>=1.4.1 (from audinterface>=0.7.0->opensmile)\n",
            "  Downloading audmath-1.4.1-py3-none-any.whl.metadata (3.6 kB)\n",
            "Collecting audresample<2.0.0,>=1.1.0 (from audinterface>=0.7.0->opensmile)\n",
            "  Downloading audresample-1.3.3-py3-none-manylinux_2_17_x86_64.whl.metadata (4.4 kB)\n",
            "Requirement already satisfied: importlib-metadata>=4.8.0 in /usr/local/lib/python3.11/dist-packages (from audobject>=0.6.1->opensmile) (8.6.1)\n",
            "Collecting oyaml (from audobject>=0.6.1->opensmile)\n",
            "  Downloading oyaml-1.0-py2.py3-none-any.whl.metadata (1.2 kB)\n",
            "Requirement already satisfied: packaging in /usr/local/lib/python3.11/dist-packages (from audobject>=0.6.1->opensmile) (24.2)\n",
            "Requirement already satisfied: tqdm in /usr/local/lib/python3.11/dist-packages (from audeer>=2.1.1->audinterface>=0.7.0->opensmile) (4.67.1)\n",
            "Collecting iso639-lang (from audformat<2.0.0,>=1.0.1->audinterface>=0.7.0->opensmile)\n",
            "  Downloading iso639_lang-2.5.1-py3-none-any.whl.metadata (9.2 kB)\n",
            "Collecting iso3166 (from audformat<2.0.0,>=1.0.1->audinterface>=0.7.0->opensmile)\n",
            "  Downloading iso3166-2.1.1-py3-none-any.whl.metadata (6.6 kB)\n",
            "Requirement already satisfied: pandas>=2.1.0 in /usr/local/lib/python3.11/dist-packages (from audformat<2.0.0,>=1.0.1->audinterface>=0.7.0->opensmile) (2.2.2)\n",
            "Requirement already satisfied: pyarrow>=10.0.1 in /usr/local/lib/python3.11/dist-packages (from audformat<2.0.0,>=1.0.1->audinterface>=0.7.0->opensmile) (17.0.0)\n",
            "Requirement already satisfied: pyyaml>=5.4.1 in /usr/local/lib/python3.11/dist-packages (from audformat<2.0.0,>=1.0.1->audinterface>=0.7.0->opensmile) (6.0.2)\n",
            "Requirement already satisfied: numpy in /usr/local/lib/python3.11/dist-packages (from audiofile>=1.3.0->audinterface>=0.7.0->opensmile) (1.26.4)\n",
            "Requirement already satisfied: soundfile>=0.12.1 in /usr/local/lib/python3.11/dist-packages (from audiofile>=1.3.0->audinterface>=0.7.0->opensmile) (0.13.0)\n",
            "Requirement already satisfied: zipp>=3.20 in /usr/local/lib/python3.11/dist-packages (from importlib-metadata>=4.8.0->audobject>=0.6.1->opensmile) (3.21.0)\n",
            "Requirement already satisfied: python-dateutil>=2.8.2 in /usr/local/lib/python3.11/dist-packages (from pandas>=2.1.0->audformat<2.0.0,>=1.0.1->audinterface>=0.7.0->opensmile) (2.8.2)\n",
            "Requirement already satisfied: pytz>=2020.1 in /usr/local/lib/python3.11/dist-packages (from pandas>=2.1.0->audformat<2.0.0,>=1.0.1->audinterface>=0.7.0->opensmile) (2024.2)\n",
            "Requirement already satisfied: tzdata>=2022.7 in /usr/local/lib/python3.11/dist-packages (from pandas>=2.1.0->audformat<2.0.0,>=1.0.1->audinterface>=0.7.0->opensmile) (2025.1)\n",
            "Requirement already satisfied: cffi>=1.0 in /usr/local/lib/python3.11/dist-packages (from soundfile>=0.12.1->audiofile>=1.3.0->audinterface>=0.7.0->opensmile) (1.17.1)\n",
            "Requirement already satisfied: pycparser in /usr/local/lib/python3.11/dist-packages (from cffi>=1.0->soundfile>=0.12.1->audiofile>=1.3.0->audinterface>=0.7.0->opensmile) (2.22)\n",
            "Requirement already satisfied: six>=1.5 in /usr/local/lib/python3.11/dist-packages (from python-dateutil>=2.8.2->pandas>=2.1.0->audformat<2.0.0,>=1.0.1->audinterface>=0.7.0->opensmile) (1.17.0)\n",
            "Downloading opensmile-2.5.1-py3-none-manylinux_2_17_x86_64.whl (996 kB)\n",
            "\u001b[2K   \u001b[90m━━━━━━━━━━━━━━━━━━━━━━━━━━━━━━━━━━━━━━━━\u001b[0m \u001b[32m996.0/996.0 kB\u001b[0m \u001b[31m14.6 MB/s\u001b[0m eta \u001b[36m0:00:00\u001b[0m\n",
            "\u001b[?25hDownloading audinterface-1.2.3-py3-none-any.whl (70 kB)\n",
            "\u001b[2K   \u001b[90m━━━━━━━━━━━━━━━━━━━━━━━━━━━━━━━━━━━━━━━━\u001b[0m \u001b[32m70.3/70.3 kB\u001b[0m \u001b[31m5.2 MB/s\u001b[0m eta \u001b[36m0:00:00\u001b[0m\n",
            "\u001b[?25hDownloading audobject-0.7.11-py3-none-any.whl (43 kB)\n",
            "\u001b[2K   \u001b[90m━━━━━━━━━━━━━━━━━━━━━━━━━━━━━━━━━━━━━━━━\u001b[0m \u001b[32m44.0/44.0 kB\u001b[0m \u001b[31m3.8 MB/s\u001b[0m eta \u001b[36m0:00:00\u001b[0m\n",
            "\u001b[?25hDownloading audeer-2.2.1-py3-none-any.whl (41 kB)\n",
            "\u001b[2K   \u001b[90m━━━━━━━━━━━━━━━━━━━━━━━━━━━━━━━━━━━━━━━━\u001b[0m \u001b[32m41.9/41.9 kB\u001b[0m \u001b[31m4.8 MB/s\u001b[0m eta \u001b[36m0:00:00\u001b[0m\n",
            "\u001b[?25hDownloading audformat-1.3.1-py3-none-any.whl (150 kB)\n",
            "\u001b[2K   \u001b[90m━━━━━━━━━━━━━━━━━━━━━━━━━━━━━━━━━━━━━━━━\u001b[0m \u001b[32m150.9/150.9 kB\u001b[0m \u001b[31m17.8 MB/s\u001b[0m eta \u001b[36m0:00:00\u001b[0m\n",
            "\u001b[?25hDownloading audiofile-1.5.1-py3-none-any.whl (1.1 MB)\n",
            "\u001b[2K   \u001b[90m━━━━━━━━━━━━━━━━━━━━━━━━━━━━━━━━━━━━━━━━\u001b[0m \u001b[32m1.1/1.1 MB\u001b[0m \u001b[31m39.9 MB/s\u001b[0m eta \u001b[36m0:00:00\u001b[0m\n",
            "\u001b[?25hDownloading audmath-1.4.1-py3-none-any.whl (23 kB)\n",
            "Downloading audresample-1.3.3-py3-none-manylinux_2_17_x86_64.whl (138 kB)\n",
            "\u001b[2K   \u001b[90m━━━━━━━━━━━━━━━━━━━━━━━━━━━━━━━━━━━━━━━━\u001b[0m \u001b[32m138.4/138.4 kB\u001b[0m \u001b[31m15.6 MB/s\u001b[0m eta \u001b[36m0:00:00\u001b[0m\n",
            "\u001b[?25hDownloading oyaml-1.0-py2.py3-none-any.whl (3.0 kB)\n",
            "Downloading iso3166-2.1.1-py3-none-any.whl (9.8 kB)\n",
            "Downloading iso639_lang-2.5.1-py3-none-any.whl (324 kB)\n",
            "\u001b[2K   \u001b[90m━━━━━━━━━━━━━━━━━━━━━━━━━━━━━━━━━━━━━━━━\u001b[0m \u001b[32m325.0/325.0 kB\u001b[0m \u001b[31m27.2 MB/s\u001b[0m eta \u001b[36m0:00:00\u001b[0m\n",
            "\u001b[?25hInstalling collected packages: oyaml, iso639-lang, iso3166, audresample, audmath, audeer, audobject, audiofile, audformat, audinterface, opensmile\n",
            "Successfully installed audeer-2.2.1 audformat-1.3.1 audinterface-1.2.3 audiofile-1.5.1 audmath-1.4.1 audobject-0.7.11 audresample-1.3.3 iso3166-2.1.1 iso639-lang-2.5.1 opensmile-2.5.1 oyaml-1.0\n",
            "Requirement already satisfied: soundfile in /usr/local/lib/python3.11/dist-packages (0.13.0)\n",
            "Requirement already satisfied: cffi>=1.0 in /usr/local/lib/python3.11/dist-packages (from soundfile) (1.17.1)\n",
            "Requirement already satisfied: numpy in /usr/local/lib/python3.11/dist-packages (from soundfile) (1.26.4)\n",
            "Requirement already satisfied: pycparser in /usr/local/lib/python3.11/dist-packages (from cffi>=1.0->soundfile) (2.22)\n"
          ]
        }
      ],
      "source": [
        "!pip install -U kaleido"
      ]
    },
    {
      "cell_type": "code",
      "execution_count": null,
      "metadata": {
        "id": "MK8uVeOkENay"
      },
      "outputs": [],
      "source": [
        "import librosa\n",
        "from tqdm import tqdm\n",
        "from glob import glob\n",
        "import os\n",
        "import soundfile as sf\n",
        "import pandas as pd\n",
        "import numpy as np\n",
        "import glob\n",
        "import os\n",
        "import pickle\n",
        "import random\n",
        "import librosa\n",
        "from sklearn.preprocessing import MinMaxScaler, StandardScaler\n",
        "from sklearn.manifold import TSNE\n",
        "import matplotlib.pyplot as plt"
      ]
    },
    {
      "cell_type": "code",
      "execution_count": null,
      "metadata": {
        "colab": {
          "background_save": true
        },
        "id": "vMB3zG6pnhYQ"
      },
      "outputs": [],
      "source": [
        "def hms_format(seconds:float, explicit_format=False) -> str:\n",
        "    \"\"\"Returns seconds in hours minutes seconds format.\n",
        "\n",
        "    Keyword argument:\n",
        "        explicit_format: convert format from hh:mm:ss to hh hours mm minutes ss seconds\n",
        "    \"\"\"\n",
        "    hours, seconds = divmod(seconds, 3600)\n",
        "    minutes, seconds = divmod(seconds, 60)\n",
        "\n",
        "    if explicit_format:\n",
        "        return \"{} hours {:02} minutes {:02} seconds\".format(int(hours), int(minutes), round(seconds))\n",
        "    else:\n",
        "        return \"{}:{:02}:{:02}\".format(int(hours), int(minutes), round(seconds))\n",
        "\n",
        "def hms_format_to_sec(hms):\n",
        "    total = 0\n",
        "    hms = hms.split(\":\")\n",
        "    total = int(hms[0])*3600 + int(hms[1])*60 + int(hms[2])\n",
        "    return total\n",
        "\n"
      ]
    },
    {
      "cell_type": "code",
      "execution_count": null,
      "metadata": {
        "colab": {
          "base_uri": "https://localhost:8080/",
          "height": 676
        },
        "id": "GtsmzLD-q2Z8",
        "outputId": "96724ba6-fc84-4745-e53a-4ab928ca72ac"
      },
      "outputs": [
        {
          "data": {
            "image/png": "[encoded data removed]",
            "text/plain": [
              "<Figure size 700x700 with 1 Axes>"
            ]
          },
          "metadata": {},
          "output_type": "display_data"
        }
      ],
      "source": [
        "# importing package\n",
        "import matplotlib.pyplot as plt\n",
        "import numpy as np\n",
        "\n",
        "# create data\n",
        "x = ['Rangpur', 'Kishoreganj', 'Narail', 'Chittagong', 'Narsingdi', 'Tangail', 'Habiganj', 'Barishal', 'Sylhet', 'Sandwip', 'Comilla', 'Noakhali']\n",
        "male =   [19,25,21, 15, 9, 18, 19, 6, 63, 15, 6, 3]\n",
        "female = [8, 18, 12, 22, 16, 11, 15, 7, 37,9, 3, 9]\n",
        "both =   [0, 4, 4, 4, 1, 7, 0, 13, 2, 2, 0, 0]\n",
        "\n",
        "bottom_both = list(np.add(male, female))\n",
        "\n",
        "fig = plt.figure(figsize=(7, 7))\n",
        "\n",
        "# plot bars in stack manner\n",
        "plt.bar(x, male, color='#BC7AF9')\n",
        "plt.bar(x, female, bottom=male, color='#5CD2E6')\n",
        "plt.bar(x, both, bottom=bottom_both, color='#ECEE81')\n",
        "\n",
        "\n",
        "plt.ylim(0, 110)\n",
        "plt.xlabel(\"Districts\", size = 13)\n",
        "plt.xticks(rotation=45)\n",
        "plt.ylabel(\"Quantity\", size = 13)\n",
        "plt.legend([\"Male\", \"Female\", \"Both (Multiple Speakers)\"])\n",
        "\n",
        "plt.show()"
      ]
    },
    {
      "cell_type": "code",
      "execution_count": null,
      "metadata": {},
      "outputs": [],
      "source": []
    },
    {
      "cell_type": "code",
      "execution_count": null,
      "metadata": {
        "id": "M5i-zn5CXbsi"
      },
      "outputs": [],
      "source": []
    },
    {
      "cell_type": "markdown",
      "metadata": {},
      "source": [
        "# Unique Topics"
      ]
    },
    {
      "cell_type": "code",
      "execution_count": null,
      "metadata": {},
      "outputs": [],
      "source": [
        "dists = ['Rangpur', 'Kishoreganj', 'Narail', 'Chittagong', 'Narsingdi', 'Tangail','Habiganj','Barishal','Sylhet','Sandwip','Cumilla','Noakhali','Lakshmipur','Nilphamari','Jhenaidah']\n",
        "x = '''Total = 27 | Unique = 11,Total = 46 | Unique = 20,Total = 28 | Unique = 37,Total = 41 | Unique =30,Total = 26 | Unique = 19,Total = 38 | Unique = 30,Total = 34 | Unique = 16,Total = 24 | Unique = 15,Total = 77 | Unique = 33,Total = 26 | Unique = 16,Total = 9 | Unique = 8,Total = 12 | Unique = 11,Total = 1 | Unique = 1,Total = 3 | Unique = 3,Total = 4 | Unique = 4'''\n",
        "\n",
        "y = x.split(\",\")\n",
        "\n",
        "for i,j in zip(dists,y):\n",
        "    print(i)\n",
        "    print(j)\n",
        "\n",
        "\n",
        "    print(\"===================\")"
      ]
    },
    {
      "cell_type": "markdown",
      "metadata": {},
      "source": [
        "# Frequency log scale VS Audio length (Seconds)"
      ]
    },
    {
      "cell_type": "code",
      "execution_count": null,
      "metadata": {},
      "outputs": [],
      "source": [
        "#Extract the audio lengths and append to a dataframe\n",
        "def get_duration(x):\n",
        "    return librosa.get_duration(path=x)\n",
        "\n",
        "\n",
        "length_df = df.copy()\n",
        "length_df[\"audio_length\"] = length_df.file_path.progress_apply(get_duration)\n",
        "length_df.head()"
      ]
    },
    {
      "cell_type": "code",
      "execution_count": null,
      "metadata": {},
      "outputs": [],
      "source": [
        "# histogram of audio length distribution\n",
        "length_df['audio_length'].plot(kind='hist', bins=80 ,edgecolor='white')\n",
        "plt.xlabel('Audio Length (seconds)',fontsize=20)\n",
        "plt.ylabel('Frequency (Log Scale)',fontsize=20)\n",
        "plt.tick_params(axis='both', which='major', labelsize=12)\n",
        "plt.yscale('log')\n",
        "plt.savefig('/kaggle/working/Train audio_length dist.png',bbox_inches='tight',dpi=100)\n",
        "plt.show()"
      ]
    },
    {
      "cell_type": "markdown",
      "metadata": {},
      "source": [
        "# Frequency log scale VS Transcription length (Characters)"
      ]
    },
    {
      "cell_type": "code",
      "execution_count": null,
      "metadata": {},
      "outputs": [],
      "source": [
        "df = pd.merge(length_df[\"file_name\"], df, on=\"file_name\", how=\"left\")\n",
        "\n",
        "transcript_lengths = []\n",
        "for idx, row in df.iterrows():\n",
        "    transcript = row['transcripts']\n",
        "    length = len(transcript)\n",
        "    \n",
        "    transcript_lengths.append(length)\n",
        "    \n",
        "\n",
        "length_df['transcript_length'] = transcript_lengths\n",
        "length_df.head()"
      ]
    },
    {
      "cell_type": "code",
      "execution_count": null,
      "metadata": {},
      "outputs": [],
      "source": [
        "# histogram of transcript length distribution\n",
        "length_df['transcript_length'].plot(kind='hist', bins=100 ,edgecolor='white')\n",
        "plt.xlabel('Transcription Length (characters)',fontsize=20)\n",
        "plt.ylabel('Frequency(Log Scale)',fontsize=20)\n",
        "plt.tick_params(axis='both', which='major', labelsize=12)\n",
        "plt.yscale('log')\n",
        "plt.savefig('/kaggle/working/Train transcript_length dist.png',bbox_inches='tight',dpi=100)"
      ]
    },
    {
      "cell_type": "markdown",
      "metadata": {},
      "source": [
        "# Transcription length Vs Audio length"
      ]
    },
    {
      "cell_type": "code",
      "execution_count": null,
      "metadata": {},
      "outputs": [],
      "source": [
        "# Create a scatter plot\n",
        "sns.scatterplot(x='audio_length', y='transcript_length', data=length_df)\n",
        "\n",
        "# plt.title('Scatter Plot of Audio Length vs. Transcription Length')\n",
        "plt.xlabel('Audio Length (seconds)',fontsize=20)\n",
        "plt.ylabel('Transcription Length (characters)',fontsize=17)\n",
        "plt.tick_params(axis='both', which='major', labelsize=12)\n",
        "plt.savefig('/kaggle/working/Train audio_transcript_length corr.png',bbox_inches='tight',dpi=100)\n",
        "plt.show()"
      ]
    },
    {
      "cell_type": "code",
      "execution_count": null,
      "metadata": {},
      "outputs": [],
      "source": []
    },
    {
      "cell_type": "code",
      "execution_count": null,
      "metadata": {},
      "outputs": [],
      "source": []
    }
  ],
  "metadata": {
    "colab": {
      "provenance": []
    },
    "kernelspec": {
      "display_name": "Python 3",
      "name": "python3"
    },
    "language_info": {
      "name": "python"
    }
  },
  "nbformat": 4,
  "nbformat_minor": 0
}
